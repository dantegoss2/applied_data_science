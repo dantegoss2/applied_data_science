{
 "cells": [
  {
   "cell_type": "markdown",
   "metadata": {
    "id": "9qwNfrVxzqUK"
   },
   "source": [
    "# **Used Cars Price Prediction**"
   ]
  },
  {
   "cell_type": "markdown",
   "metadata": {
    "id": "7AYx75_WoxUj"
   },
   "source": [
    "## **Problem Definition**\n",
    "\n",
    "### **The Context:**\n",
    "\n",
    " - Q: Why is this problem important to solve?\n",
    " - A: Although the used car market in India is expanding rapidly, there are significant uncertainties regarding pricing and availability. Due to the various factors that influence the value of a car, such as mileage, brand, model, and year, used car sellers face challenges in accurately predicting the worth of their vehicles. This situation is crucial to address because it ensures that used car sellers receive fair and precise compensation, while also safeguarding the growth of the used car market.\n",
    "\n",
    "### **The objective:**\n",
    "\n",
    " - Q: What is the intended goal?\n",
    " - A: Our goal is to create a reliable pricing model that can predict the value of used cars based on their known attributes. By providing accurate pricing information, this model will assist businesses and sellers in developing profitable strategies for the sale of used cars.\n",
    "\n",
    "### **The key questions:**\n",
    "\n",
    "- What is the relationship between the different attributes and the price of a used car in the Indian market? \n",
    "- Which attributes have the greatest impact on the price of a used car?\n",
    "- How accurate can we expect the pricing model to be? \n",
    "- Are there any outlier data points that could skew the model's accuracy? \n",
    "- How can we validate the pricing model to ensure its effectiveness in predicting the price of a used car? \n",
    "\n",
    "\n",
    "\n",
    "### **The problem formulation**:\n",
    "\n",
    "- Q: What is it that we are trying to solve using data science?\n",
    "- A: We aim to construct a regression pricing model using data science techniques. Our model will utilize a used car data set, which includes key attributes such as the serial number, brand and model name, selling location, manufacturing year, total kilometers driven, fuel type, transmission, ownership, standard mileage, offered price, engine capacity, power, number of seats, and the price of a new car of the same model. The goal is to accurately predict the value of a used car by identifying and utilizing the most significant features in the data set."
   ]
  },
  {
   "cell_type": "markdown",
   "metadata": {
    "id": "FWxSdWjGzqUL"
   },
   "source": [
    "### **Data Dictionary**\n",
    "\n",
    "**S.No.** : Serial Number\n",
    "\n",
    "**Name** : Name of the car which includes Brand name and Model name\n",
    "\n",
    "**Location** : The location in which the car is being sold or is available for purchase (Cities)\n",
    "\n",
    "**Year** : Manufacturing year of the car\n",
    "\n",
    "**Kilometers_driven** : The total kilometers driven in the car by the previous owner(s) in KM\n",
    "\n",
    "**Fuel_Type** : The type of fuel used by the car (Petrol, Diesel, Electric, CNG, LPG)\n",
    "\n",
    "**Transmission** : The type of transmission used by the car (Automatic / Manual)\n",
    "\n",
    "**Owner** : Type of ownership\n",
    "\n",
    "**Mileage** : The standard mileage offered by the car company in kmpl or km/kg\n",
    "\n",
    "**Engine** : The displacement volume of the engine in CC\n",
    "\n",
    "**Power** : The maximum power of the engine in bhp\n",
    "\n",
    "**Seats** : The number of seats in the car\n",
    "\n",
    "**New_Price** : The price of a new car of the same model in INR 100,000\n",
    "\n",
    "**Price** : The price of the used car in INR 100,000 (**Target Variable**)"
   ]
  },
  {
   "cell_type": "markdown",
   "metadata": {
    "id": "rlLoEhsbtOSg"
   },
   "source": [
    "### **Loading libraries**"
   ]
  },
  {
   "cell_type": "code",
   "execution_count": 2,
   "metadata": {
    "id": "8J9KZGl9tOSh"
   },
   "outputs": [],
   "source": [
    "# Import required libraries\n",
    "import pandas as pd\n",
    "import numpy as np\n",
    "\n",
    "import matplotlib.pyplot as plt\n",
    "import seaborn as sns\n",
    "\n",
    "# To ignore warnings\n",
    "import warnings\n",
    "warnings.filterwarnings('ignore')\n",
    "\n",
    "# Remove the limit from the number of displayed columns and rows. It helps to see the entire dataframe while printing it\n",
    "pd.set_option(\"display.max_columns\", None)"
   ]
  },
  {
   "cell_type": "markdown",
   "metadata": {
    "id": "baG7rS5FtOSh"
   },
   "source": [
    "### **Let us load the data**"
   ]
  },
  {
   "cell_type": "code",
   "execution_count": 3,
   "metadata": {
    "id": "flK0muyhtOSi"
   },
   "outputs": [],
   "source": [
    "data = pd.read_csv(\"used_cars.csv\")"
   ]
  },
  {
   "cell_type": "markdown",
   "metadata": {
    "id": "C-vYvvwEj6wz"
   },
   "source": [
    "## Data Overview"
   ]
  },
  {
   "cell_type": "markdown",
   "metadata": {
    "id": "eUxpRqnLj6wz"
   },
   "source": [
    "- Observations\n",
    "- Sanity checks"
   ]
  },
  {
   "cell_type": "code",
   "execution_count": 4,
   "metadata": {
    "id": "2qLw_c1Jj6wz"
   },
   "outputs": [
    {
     "data": {
      "text/html": [
       "<div>\n",
       "<style scoped>\n",
       "    .dataframe tbody tr th:only-of-type {\n",
       "        vertical-align: middle;\n",
       "    }\n",
       "\n",
       "    .dataframe tbody tr th {\n",
       "        vertical-align: top;\n",
       "    }\n",
       "\n",
       "    .dataframe thead th {\n",
       "        text-align: right;\n",
       "    }\n",
       "</style>\n",
       "<table border=\"1\" class=\"dataframe\">\n",
       "  <thead>\n",
       "    <tr style=\"text-align: right;\">\n",
       "      <th></th>\n",
       "      <th>S.No.</th>\n",
       "      <th>Name</th>\n",
       "      <th>Location</th>\n",
       "      <th>Year</th>\n",
       "      <th>Kilometers_Driven</th>\n",
       "      <th>Fuel_Type</th>\n",
       "      <th>Transmission</th>\n",
       "      <th>Owner_Type</th>\n",
       "      <th>Mileage</th>\n",
       "      <th>Engine</th>\n",
       "      <th>Power</th>\n",
       "      <th>Seats</th>\n",
       "      <th>New_price</th>\n",
       "      <th>Price</th>\n",
       "    </tr>\n",
       "  </thead>\n",
       "  <tbody>\n",
       "    <tr>\n",
       "      <th>0</th>\n",
       "      <td>0</td>\n",
       "      <td>Maruti Wagon R LXI CNG</td>\n",
       "      <td>Mumbai</td>\n",
       "      <td>2010</td>\n",
       "      <td>72000</td>\n",
       "      <td>CNG</td>\n",
       "      <td>Manual</td>\n",
       "      <td>First</td>\n",
       "      <td>26.60</td>\n",
       "      <td>998.0</td>\n",
       "      <td>58.16</td>\n",
       "      <td>5.0</td>\n",
       "      <td>NaN</td>\n",
       "      <td>1.75</td>\n",
       "    </tr>\n",
       "    <tr>\n",
       "      <th>1</th>\n",
       "      <td>1</td>\n",
       "      <td>Hyundai Creta 1.6 CRDi SX Option</td>\n",
       "      <td>Pune</td>\n",
       "      <td>2015</td>\n",
       "      <td>41000</td>\n",
       "      <td>Diesel</td>\n",
       "      <td>Manual</td>\n",
       "      <td>First</td>\n",
       "      <td>19.67</td>\n",
       "      <td>1582.0</td>\n",
       "      <td>126.20</td>\n",
       "      <td>5.0</td>\n",
       "      <td>NaN</td>\n",
       "      <td>12.50</td>\n",
       "    </tr>\n",
       "    <tr>\n",
       "      <th>2</th>\n",
       "      <td>2</td>\n",
       "      <td>Honda Jazz V</td>\n",
       "      <td>Chennai</td>\n",
       "      <td>2011</td>\n",
       "      <td>46000</td>\n",
       "      <td>Petrol</td>\n",
       "      <td>Manual</td>\n",
       "      <td>First</td>\n",
       "      <td>18.20</td>\n",
       "      <td>1199.0</td>\n",
       "      <td>88.70</td>\n",
       "      <td>5.0</td>\n",
       "      <td>8.61</td>\n",
       "      <td>4.50</td>\n",
       "    </tr>\n",
       "    <tr>\n",
       "      <th>3</th>\n",
       "      <td>3</td>\n",
       "      <td>Maruti Ertiga VDI</td>\n",
       "      <td>Chennai</td>\n",
       "      <td>2012</td>\n",
       "      <td>87000</td>\n",
       "      <td>Diesel</td>\n",
       "      <td>Manual</td>\n",
       "      <td>First</td>\n",
       "      <td>20.77</td>\n",
       "      <td>1248.0</td>\n",
       "      <td>88.76</td>\n",
       "      <td>7.0</td>\n",
       "      <td>NaN</td>\n",
       "      <td>6.00</td>\n",
       "    </tr>\n",
       "    <tr>\n",
       "      <th>4</th>\n",
       "      <td>4</td>\n",
       "      <td>Audi A4 New 2.0 TDI Multitronic</td>\n",
       "      <td>Coimbatore</td>\n",
       "      <td>2013</td>\n",
       "      <td>40670</td>\n",
       "      <td>Diesel</td>\n",
       "      <td>Automatic</td>\n",
       "      <td>Second</td>\n",
       "      <td>15.20</td>\n",
       "      <td>1968.0</td>\n",
       "      <td>140.80</td>\n",
       "      <td>5.0</td>\n",
       "      <td>NaN</td>\n",
       "      <td>17.74</td>\n",
       "    </tr>\n",
       "  </tbody>\n",
       "</table>\n",
       "</div>"
      ],
      "text/plain": [
       "   S.No.                              Name    Location  Year  \\\n",
       "0      0            Maruti Wagon R LXI CNG      Mumbai  2010   \n",
       "1      1  Hyundai Creta 1.6 CRDi SX Option        Pune  2015   \n",
       "2      2                      Honda Jazz V     Chennai  2011   \n",
       "3      3                 Maruti Ertiga VDI     Chennai  2012   \n",
       "4      4   Audi A4 New 2.0 TDI Multitronic  Coimbatore  2013   \n",
       "\n",
       "   Kilometers_Driven Fuel_Type Transmission Owner_Type  Mileage  Engine  \\\n",
       "0              72000       CNG       Manual      First    26.60   998.0   \n",
       "1              41000    Diesel       Manual      First    19.67  1582.0   \n",
       "2              46000    Petrol       Manual      First    18.20  1199.0   \n",
       "3              87000    Diesel       Manual      First    20.77  1248.0   \n",
       "4              40670    Diesel    Automatic     Second    15.20  1968.0   \n",
       "\n",
       "    Power  Seats  New_price  Price  \n",
       "0   58.16    5.0        NaN   1.75  \n",
       "1  126.20    5.0        NaN  12.50  \n",
       "2   88.70    5.0       8.61   4.50  \n",
       "3   88.76    7.0        NaN   6.00  \n",
       "4  140.80    5.0        NaN  17.74  "
      ]
     },
     "execution_count": 4,
     "metadata": {},
     "output_type": "execute_result"
    }
   ],
   "source": [
    "data.head() #Look at first 5 rows to draw some insights"
   ]
  },
  {
   "cell_type": "code",
   "execution_count": 5,
   "metadata": {
    "scrolled": true
   },
   "outputs": [
    {
     "data": {
      "text/html": [
       "<div>\n",
       "<style scoped>\n",
       "    .dataframe tbody tr th:only-of-type {\n",
       "        vertical-align: middle;\n",
       "    }\n",
       "\n",
       "    .dataframe tbody tr th {\n",
       "        vertical-align: top;\n",
       "    }\n",
       "\n",
       "    .dataframe thead th {\n",
       "        text-align: right;\n",
       "    }\n",
       "</style>\n",
       "<table border=\"1\" class=\"dataframe\">\n",
       "  <thead>\n",
       "    <tr style=\"text-align: right;\">\n",
       "      <th></th>\n",
       "      <th>S.No.</th>\n",
       "      <th>Name</th>\n",
       "      <th>Location</th>\n",
       "      <th>Year</th>\n",
       "      <th>Kilometers_Driven</th>\n",
       "      <th>Fuel_Type</th>\n",
       "      <th>Transmission</th>\n",
       "      <th>Owner_Type</th>\n",
       "      <th>Mileage</th>\n",
       "      <th>Engine</th>\n",
       "      <th>Power</th>\n",
       "      <th>Seats</th>\n",
       "      <th>New_price</th>\n",
       "      <th>Price</th>\n",
       "    </tr>\n",
       "  </thead>\n",
       "  <tbody>\n",
       "    <tr>\n",
       "      <th>7248</th>\n",
       "      <td>7248</td>\n",
       "      <td>Volkswagen Vento Diesel Trendline</td>\n",
       "      <td>Hyderabad</td>\n",
       "      <td>2011</td>\n",
       "      <td>89411</td>\n",
       "      <td>Diesel</td>\n",
       "      <td>Manual</td>\n",
       "      <td>First</td>\n",
       "      <td>20.54</td>\n",
       "      <td>1598.0</td>\n",
       "      <td>103.6</td>\n",
       "      <td>5.0</td>\n",
       "      <td>NaN</td>\n",
       "      <td>NaN</td>\n",
       "    </tr>\n",
       "    <tr>\n",
       "      <th>7249</th>\n",
       "      <td>7249</td>\n",
       "      <td>Volkswagen Polo GT TSI</td>\n",
       "      <td>Mumbai</td>\n",
       "      <td>2015</td>\n",
       "      <td>59000</td>\n",
       "      <td>Petrol</td>\n",
       "      <td>Automatic</td>\n",
       "      <td>First</td>\n",
       "      <td>17.21</td>\n",
       "      <td>1197.0</td>\n",
       "      <td>103.6</td>\n",
       "      <td>5.0</td>\n",
       "      <td>NaN</td>\n",
       "      <td>NaN</td>\n",
       "    </tr>\n",
       "    <tr>\n",
       "      <th>7250</th>\n",
       "      <td>7250</td>\n",
       "      <td>Nissan Micra Diesel XV</td>\n",
       "      <td>Kolkata</td>\n",
       "      <td>2012</td>\n",
       "      <td>28000</td>\n",
       "      <td>Diesel</td>\n",
       "      <td>Manual</td>\n",
       "      <td>First</td>\n",
       "      <td>23.08</td>\n",
       "      <td>1461.0</td>\n",
       "      <td>63.1</td>\n",
       "      <td>5.0</td>\n",
       "      <td>NaN</td>\n",
       "      <td>NaN</td>\n",
       "    </tr>\n",
       "    <tr>\n",
       "      <th>7251</th>\n",
       "      <td>7251</td>\n",
       "      <td>Volkswagen Polo GT TSI</td>\n",
       "      <td>Pune</td>\n",
       "      <td>2013</td>\n",
       "      <td>52262</td>\n",
       "      <td>Petrol</td>\n",
       "      <td>Automatic</td>\n",
       "      <td>Third</td>\n",
       "      <td>17.20</td>\n",
       "      <td>1197.0</td>\n",
       "      <td>103.6</td>\n",
       "      <td>5.0</td>\n",
       "      <td>NaN</td>\n",
       "      <td>NaN</td>\n",
       "    </tr>\n",
       "    <tr>\n",
       "      <th>7252</th>\n",
       "      <td>7252</td>\n",
       "      <td>Mercedes-Benz E-Class 2009-2013 E 220 CDI Avan...</td>\n",
       "      <td>Kochi</td>\n",
       "      <td>2014</td>\n",
       "      <td>72443</td>\n",
       "      <td>Diesel</td>\n",
       "      <td>Automatic</td>\n",
       "      <td>First</td>\n",
       "      <td>10.00</td>\n",
       "      <td>2148.0</td>\n",
       "      <td>170.0</td>\n",
       "      <td>5.0</td>\n",
       "      <td>NaN</td>\n",
       "      <td>NaN</td>\n",
       "    </tr>\n",
       "  </tbody>\n",
       "</table>\n",
       "</div>"
      ],
      "text/plain": [
       "      S.No.                                               Name   Location  \\\n",
       "7248   7248                  Volkswagen Vento Diesel Trendline  Hyderabad   \n",
       "7249   7249                             Volkswagen Polo GT TSI     Mumbai   \n",
       "7250   7250                             Nissan Micra Diesel XV    Kolkata   \n",
       "7251   7251                             Volkswagen Polo GT TSI       Pune   \n",
       "7252   7252  Mercedes-Benz E-Class 2009-2013 E 220 CDI Avan...      Kochi   \n",
       "\n",
       "      Year  Kilometers_Driven Fuel_Type Transmission Owner_Type  Mileage  \\\n",
       "7248  2011              89411    Diesel       Manual      First    20.54   \n",
       "7249  2015              59000    Petrol    Automatic      First    17.21   \n",
       "7250  2012              28000    Diesel       Manual      First    23.08   \n",
       "7251  2013              52262    Petrol    Automatic      Third    17.20   \n",
       "7252  2014              72443    Diesel    Automatic      First    10.00   \n",
       "\n",
       "      Engine  Power  Seats  New_price  Price  \n",
       "7248  1598.0  103.6    5.0        NaN    NaN  \n",
       "7249  1197.0  103.6    5.0        NaN    NaN  \n",
       "7250  1461.0   63.1    5.0        NaN    NaN  \n",
       "7251  1197.0  103.6    5.0        NaN    NaN  \n",
       "7252  2148.0  170.0    5.0        NaN    NaN  "
      ]
     },
     "execution_count": 5,
     "metadata": {},
     "output_type": "execute_result"
    }
   ],
   "source": [
    "data.tail() #Look at last 5 rows to draw some insights"
   ]
  },
  {
   "cell_type": "markdown",
   "metadata": {},
   "source": [
    "**Observations and Insights: Looking at the data.head() method, we can see the first five rows of the dataset. This gives us an idea of the structure of the data, what columns are included, and the type of values in those columns. From the first few rows of the data, we can see that the dataset contains information about used cars. Specifically, we can see that there are columns for the name of the car, the year it was made, the selling price, the mileage, the engine size, the fuel type, and whether the car is a private or trade sale.\n",
    "Similarly, looking at the data.tail() method shows us the last five rows of the dataset, which can give us an idea of the total number of rows in the dataset and whether there are any patterns or trends in the data towards the end of the dataset.\n",
    "In summary, data.head() and data.tail() can provide an initial understanding of the structure and content of the dataset.**"
   ]
  },
  {
   "cell_type": "code",
   "execution_count": 6,
   "metadata": {},
   "outputs": [
    {
     "name": "stdout",
     "output_type": "stream",
     "text": [
      "<class 'pandas.core.frame.DataFrame'>\n",
      "RangeIndex: 7253 entries, 0 to 7252\n",
      "Data columns (total 14 columns):\n",
      " #   Column             Non-Null Count  Dtype  \n",
      "---  ------             --------------  -----  \n",
      " 0   S.No.              7253 non-null   int64  \n",
      " 1   Name               7253 non-null   object \n",
      " 2   Location           7253 non-null   object \n",
      " 3   Year               7253 non-null   int64  \n",
      " 4   Kilometers_Driven  7253 non-null   int64  \n",
      " 5   Fuel_Type          7253 non-null   object \n",
      " 6   Transmission       7253 non-null   object \n",
      " 7   Owner_Type         7253 non-null   object \n",
      " 8   Mileage            7251 non-null   float64\n",
      " 9   Engine             7207 non-null   float64\n",
      " 10  Power              7078 non-null   float64\n",
      " 11  Seats              7200 non-null   float64\n",
      " 12  New_price          1006 non-null   float64\n",
      " 13  Price              6019 non-null   float64\n",
      "dtypes: float64(6), int64(3), object(5)\n",
      "memory usage: 793.4+ KB\n"
     ]
    }
   ],
   "source": [
    "data.info() #Check on data types in each column"
   ]
  },
  {
   "cell_type": "code",
   "execution_count": 7,
   "metadata": {},
   "outputs": [
    {
     "data": {
      "text/plain": [
       "S.No.                   0\n",
       "Name                    0\n",
       "Location                0\n",
       "Year                    0\n",
       "Kilometers_Driven       0\n",
       "Fuel_Type               0\n",
       "Transmission            0\n",
       "Owner_Type              0\n",
       "Mileage                 2\n",
       "Engine                 46\n",
       "Power                 175\n",
       "Seats                  53\n",
       "New_price            6247\n",
       "Price                1234\n",
       "dtype: int64"
      ]
     },
     "execution_count": 7,
     "metadata": {},
     "output_type": "execute_result"
    }
   ],
   "source": [
    "data.isnull().sum() # Check total number of missing values of each column. Hint: Use isnull() method"
   ]
  },
  {
   "cell_type": "markdown",
   "metadata": {},
   "source": [
    "**Observations: For S.No. the number of unique values are equal to the number of observations and it doesn't hold any real value though it has no null values and we can drop this column.**"
   ]
  },
  {
   "cell_type": "code",
   "execution_count": 8,
   "metadata": {},
   "outputs": [],
   "source": [
    "# Remove S.No. column from data. Hint: Use inplace = True\n",
    "data.drop('S.No.', axis=1, inplace=True)"
   ]
  },
  {
   "cell_type": "code",
   "execution_count": 9,
   "metadata": {},
   "outputs": [
    {
     "data": {
      "text/html": [
       "<div>\n",
       "<style scoped>\n",
       "    .dataframe tbody tr th:only-of-type {\n",
       "        vertical-align: middle;\n",
       "    }\n",
       "\n",
       "    .dataframe tbody tr th {\n",
       "        vertical-align: top;\n",
       "    }\n",
       "\n",
       "    .dataframe thead th {\n",
       "        text-align: right;\n",
       "    }\n",
       "</style>\n",
       "<table border=\"1\" class=\"dataframe\">\n",
       "  <thead>\n",
       "    <tr style=\"text-align: right;\">\n",
       "      <th></th>\n",
       "      <th>Name</th>\n",
       "      <th>Location</th>\n",
       "      <th>Year</th>\n",
       "      <th>Kilometers_Driven</th>\n",
       "      <th>Fuel_Type</th>\n",
       "      <th>Transmission</th>\n",
       "      <th>Owner_Type</th>\n",
       "      <th>Mileage</th>\n",
       "      <th>Engine</th>\n",
       "      <th>Power</th>\n",
       "      <th>Seats</th>\n",
       "      <th>New_price</th>\n",
       "      <th>Price</th>\n",
       "    </tr>\n",
       "  </thead>\n",
       "  <tbody>\n",
       "    <tr>\n",
       "      <th>2597</th>\n",
       "      <td>Hyundai Santro Xing XP</td>\n",
       "      <td>Pune</td>\n",
       "      <td>2007</td>\n",
       "      <td>70000</td>\n",
       "      <td>Petrol</td>\n",
       "      <td>Manual</td>\n",
       "      <td>First</td>\n",
       "      <td>0.0</td>\n",
       "      <td>1086.0</td>\n",
       "      <td>NaN</td>\n",
       "      <td>5.0</td>\n",
       "      <td>NaN</td>\n",
       "      <td>1.12</td>\n",
       "    </tr>\n",
       "    <tr>\n",
       "      <th>2343</th>\n",
       "      <td>Hyundai Santro AT</td>\n",
       "      <td>Hyderabad</td>\n",
       "      <td>2006</td>\n",
       "      <td>74483</td>\n",
       "      <td>Petrol</td>\n",
       "      <td>Automatic</td>\n",
       "      <td>First</td>\n",
       "      <td>0.0</td>\n",
       "      <td>999.0</td>\n",
       "      <td>NaN</td>\n",
       "      <td>5.0</td>\n",
       "      <td>NaN</td>\n",
       "      <td>2.30</td>\n",
       "    </tr>\n",
       "    <tr>\n",
       "      <th>5270</th>\n",
       "      <td>Honda City 1.5 GXI</td>\n",
       "      <td>Bangalore</td>\n",
       "      <td>2002</td>\n",
       "      <td>53000</td>\n",
       "      <td>Petrol</td>\n",
       "      <td>Manual</td>\n",
       "      <td>Second</td>\n",
       "      <td>0.0</td>\n",
       "      <td>NaN</td>\n",
       "      <td>NaN</td>\n",
       "      <td>NaN</td>\n",
       "      <td>NaN</td>\n",
       "      <td>1.85</td>\n",
       "    </tr>\n",
       "    <tr>\n",
       "      <th>424</th>\n",
       "      <td>Volkswagen Jetta 2007-2011 1.9 L TDI</td>\n",
       "      <td>Hyderabad</td>\n",
       "      <td>2010</td>\n",
       "      <td>42021</td>\n",
       "      <td>Diesel</td>\n",
       "      <td>Manual</td>\n",
       "      <td>First</td>\n",
       "      <td>0.0</td>\n",
       "      <td>1968.0</td>\n",
       "      <td>NaN</td>\n",
       "      <td>5.0</td>\n",
       "      <td>NaN</td>\n",
       "      <td>5.45</td>\n",
       "    </tr>\n",
       "    <tr>\n",
       "      <th>6857</th>\n",
       "      <td>Land Rover Freelander 2 TD4 SE</td>\n",
       "      <td>Mumbai</td>\n",
       "      <td>2011</td>\n",
       "      <td>87000</td>\n",
       "      <td>Diesel</td>\n",
       "      <td>Automatic</td>\n",
       "      <td>First</td>\n",
       "      <td>0.0</td>\n",
       "      <td>2179.0</td>\n",
       "      <td>115.0</td>\n",
       "      <td>5.0</td>\n",
       "      <td>NaN</td>\n",
       "      <td>NaN</td>\n",
       "    </tr>\n",
       "    <tr>\n",
       "      <th>443</th>\n",
       "      <td>Hyundai Santro GLS I - Euro I</td>\n",
       "      <td>Coimbatore</td>\n",
       "      <td>2012</td>\n",
       "      <td>50243</td>\n",
       "      <td>Petrol</td>\n",
       "      <td>Manual</td>\n",
       "      <td>First</td>\n",
       "      <td>0.0</td>\n",
       "      <td>1086.0</td>\n",
       "      <td>NaN</td>\n",
       "      <td>5.0</td>\n",
       "      <td>NaN</td>\n",
       "      <td>3.35</td>\n",
       "    </tr>\n",
       "    <tr>\n",
       "      <th>5119</th>\n",
       "      <td>Hyundai Santro Xing XP</td>\n",
       "      <td>Kolkata</td>\n",
       "      <td>2008</td>\n",
       "      <td>45500</td>\n",
       "      <td>Petrol</td>\n",
       "      <td>Manual</td>\n",
       "      <td>Second</td>\n",
       "      <td>0.0</td>\n",
       "      <td>1086.0</td>\n",
       "      <td>NaN</td>\n",
       "      <td>5.0</td>\n",
       "      <td>NaN</td>\n",
       "      <td>1.17</td>\n",
       "    </tr>\n",
       "    <tr>\n",
       "      <th>5022</th>\n",
       "      <td>Land Rover Freelander 2 TD4 SE</td>\n",
       "      <td>Hyderabad</td>\n",
       "      <td>2013</td>\n",
       "      <td>46000</td>\n",
       "      <td>Diesel</td>\n",
       "      <td>Automatic</td>\n",
       "      <td>Second</td>\n",
       "      <td>0.0</td>\n",
       "      <td>2179.0</td>\n",
       "      <td>115.0</td>\n",
       "      <td>5.0</td>\n",
       "      <td>NaN</td>\n",
       "      <td>26.00</td>\n",
       "    </tr>\n",
       "    <tr>\n",
       "      <th>5016</th>\n",
       "      <td>Land Rover Freelander 2 TD4 HSE</td>\n",
       "      <td>Delhi</td>\n",
       "      <td>2013</td>\n",
       "      <td>72000</td>\n",
       "      <td>Diesel</td>\n",
       "      <td>Automatic</td>\n",
       "      <td>First</td>\n",
       "      <td>0.0</td>\n",
       "      <td>2179.0</td>\n",
       "      <td>115.0</td>\n",
       "      <td>5.0</td>\n",
       "      <td>NaN</td>\n",
       "      <td>15.50</td>\n",
       "    </tr>\n",
       "    <tr>\n",
       "      <th>2542</th>\n",
       "      <td>Hyundai Santro GLS II - Euro II</td>\n",
       "      <td>Bangalore</td>\n",
       "      <td>2011</td>\n",
       "      <td>65000</td>\n",
       "      <td>Petrol</td>\n",
       "      <td>Manual</td>\n",
       "      <td>Second</td>\n",
       "      <td>0.0</td>\n",
       "      <td>NaN</td>\n",
       "      <td>NaN</td>\n",
       "      <td>NaN</td>\n",
       "      <td>NaN</td>\n",
       "      <td>3.15</td>\n",
       "    </tr>\n",
       "  </tbody>\n",
       "</table>\n",
       "</div>"
      ],
      "text/plain": [
       "                                      Name    Location  Year  \\\n",
       "2597                Hyundai Santro Xing XP        Pune  2007   \n",
       "2343                     Hyundai Santro AT   Hyderabad  2006   \n",
       "5270                    Honda City 1.5 GXI   Bangalore  2002   \n",
       "424   Volkswagen Jetta 2007-2011 1.9 L TDI   Hyderabad  2010   \n",
       "6857        Land Rover Freelander 2 TD4 SE      Mumbai  2011   \n",
       "443          Hyundai Santro GLS I - Euro I  Coimbatore  2012   \n",
       "5119                Hyundai Santro Xing XP     Kolkata  2008   \n",
       "5022        Land Rover Freelander 2 TD4 SE   Hyderabad  2013   \n",
       "5016       Land Rover Freelander 2 TD4 HSE       Delhi  2013   \n",
       "2542       Hyundai Santro GLS II - Euro II   Bangalore  2011   \n",
       "\n",
       "      Kilometers_Driven Fuel_Type Transmission Owner_Type  Mileage  Engine  \\\n",
       "2597              70000    Petrol       Manual      First      0.0  1086.0   \n",
       "2343              74483    Petrol    Automatic      First      0.0   999.0   \n",
       "5270              53000    Petrol       Manual     Second      0.0     NaN   \n",
       "424               42021    Diesel       Manual      First      0.0  1968.0   \n",
       "6857              87000    Diesel    Automatic      First      0.0  2179.0   \n",
       "443               50243    Petrol       Manual      First      0.0  1086.0   \n",
       "5119              45500    Petrol       Manual     Second      0.0  1086.0   \n",
       "5022              46000    Diesel    Automatic     Second      0.0  2179.0   \n",
       "5016              72000    Diesel    Automatic      First      0.0  2179.0   \n",
       "2542              65000    Petrol       Manual     Second      0.0     NaN   \n",
       "\n",
       "      Power  Seats  New_price  Price  \n",
       "2597    NaN    5.0        NaN   1.12  \n",
       "2343    NaN    5.0        NaN   2.30  \n",
       "5270    NaN    NaN        NaN   1.85  \n",
       "424     NaN    5.0        NaN   5.45  \n",
       "6857  115.0    5.0        NaN    NaN  \n",
       "443     NaN    5.0        NaN   3.35  \n",
       "5119    NaN    5.0        NaN   1.17  \n",
       "5022  115.0    5.0        NaN  26.00  \n",
       "5016  115.0    5.0        NaN  15.50  \n",
       "2542    NaN    NaN        NaN   3.15  "
      ]
     },
     "execution_count": 9,
     "metadata": {},
     "output_type": "execute_result"
    }
   ],
   "source": [
    "# Sort the dataset in 'ascending' order using the feature 'Mileage'\n",
    "data.sort_values('Mileage', ascending=True).head(10)"
   ]
  },
  {
   "cell_type": "markdown",
   "metadata": {},
   "source": [
    "**Observations: Mileage cannot be zero and therefore we will treat these as Missing Values.**"
   ]
  },
  {
   "cell_type": "markdown",
   "metadata": {
    "id": "crnR9cphIrct"
   },
   "source": [
    "## **Exploratory Data Analysis**"
   ]
  },
  {
   "cell_type": "markdown",
   "metadata": {
    "id": "WvetePFOj6w0"
   },
   "source": [
    "- EDA is an important part of any project involving data.\n",
    "- It is important to investigate and understand the data better before building a model with it.\n",
    "- A few questions have been mentioned below which will help you approach the analysis in the right manner and generate insights from the data.\n",
    "- A thorough analysis of the data, in addition to the questions mentioned below, should be done."
   ]
  },
  {
   "cell_type": "markdown",
   "metadata": {
    "id": "foDG3YDDtOSm"
   },
   "source": [
    "**Questions:**\n",
    "\n",
    "1. What is the summary statistics of the data? Explore summary statistics for numerical variables and the categorical variables\n",
    "2. Find out number of unique observations in each category of categorical columns? Write your findings/observations/insights\n",
    "3. Check the extreme values in different columns of the given data and write down the observtions? Remove the data where the values are un-realistic"
   ]
  },
  {
   "cell_type": "code",
   "execution_count": 10,
   "metadata": {
    "id": "B54IaafQj6w0"
   },
   "outputs": [
    {
     "data": {
      "text/html": [
       "<div>\n",
       "<style scoped>\n",
       "    .dataframe tbody tr th:only-of-type {\n",
       "        vertical-align: middle;\n",
       "    }\n",
       "\n",
       "    .dataframe tbody tr th {\n",
       "        vertical-align: top;\n",
       "    }\n",
       "\n",
       "    .dataframe thead th {\n",
       "        text-align: right;\n",
       "    }\n",
       "</style>\n",
       "<table border=\"1\" class=\"dataframe\">\n",
       "  <thead>\n",
       "    <tr style=\"text-align: right;\">\n",
       "      <th></th>\n",
       "      <th>count</th>\n",
       "      <th>unique</th>\n",
       "      <th>top</th>\n",
       "      <th>freq</th>\n",
       "      <th>mean</th>\n",
       "      <th>std</th>\n",
       "      <th>min</th>\n",
       "      <th>25%</th>\n",
       "      <th>50%</th>\n",
       "      <th>75%</th>\n",
       "      <th>max</th>\n",
       "    </tr>\n",
       "  </thead>\n",
       "  <tbody>\n",
       "    <tr>\n",
       "      <th>Name</th>\n",
       "      <td>7253</td>\n",
       "      <td>2041</td>\n",
       "      <td>Mahindra XUV500 W8 2WD</td>\n",
       "      <td>55</td>\n",
       "      <td>NaN</td>\n",
       "      <td>NaN</td>\n",
       "      <td>NaN</td>\n",
       "      <td>NaN</td>\n",
       "      <td>NaN</td>\n",
       "      <td>NaN</td>\n",
       "      <td>NaN</td>\n",
       "    </tr>\n",
       "    <tr>\n",
       "      <th>Location</th>\n",
       "      <td>7253</td>\n",
       "      <td>11</td>\n",
       "      <td>Mumbai</td>\n",
       "      <td>949</td>\n",
       "      <td>NaN</td>\n",
       "      <td>NaN</td>\n",
       "      <td>NaN</td>\n",
       "      <td>NaN</td>\n",
       "      <td>NaN</td>\n",
       "      <td>NaN</td>\n",
       "      <td>NaN</td>\n",
       "    </tr>\n",
       "    <tr>\n",
       "      <th>Year</th>\n",
       "      <td>7253.0</td>\n",
       "      <td>NaN</td>\n",
       "      <td>NaN</td>\n",
       "      <td>NaN</td>\n",
       "      <td>2013.365366</td>\n",
       "      <td>3.254421</td>\n",
       "      <td>1996.0</td>\n",
       "      <td>2011.0</td>\n",
       "      <td>2014.0</td>\n",
       "      <td>2016.0</td>\n",
       "      <td>2019.0</td>\n",
       "    </tr>\n",
       "    <tr>\n",
       "      <th>Kilometers_Driven</th>\n",
       "      <td>7253.0</td>\n",
       "      <td>NaN</td>\n",
       "      <td>NaN</td>\n",
       "      <td>NaN</td>\n",
       "      <td>58699.063146</td>\n",
       "      <td>84427.720583</td>\n",
       "      <td>171.0</td>\n",
       "      <td>34000.0</td>\n",
       "      <td>53416.0</td>\n",
       "      <td>73000.0</td>\n",
       "      <td>6500000.0</td>\n",
       "    </tr>\n",
       "    <tr>\n",
       "      <th>Fuel_Type</th>\n",
       "      <td>7253</td>\n",
       "      <td>5</td>\n",
       "      <td>Diesel</td>\n",
       "      <td>3852</td>\n",
       "      <td>NaN</td>\n",
       "      <td>NaN</td>\n",
       "      <td>NaN</td>\n",
       "      <td>NaN</td>\n",
       "      <td>NaN</td>\n",
       "      <td>NaN</td>\n",
       "      <td>NaN</td>\n",
       "    </tr>\n",
       "    <tr>\n",
       "      <th>Transmission</th>\n",
       "      <td>7253</td>\n",
       "      <td>2</td>\n",
       "      <td>Manual</td>\n",
       "      <td>5204</td>\n",
       "      <td>NaN</td>\n",
       "      <td>NaN</td>\n",
       "      <td>NaN</td>\n",
       "      <td>NaN</td>\n",
       "      <td>NaN</td>\n",
       "      <td>NaN</td>\n",
       "      <td>NaN</td>\n",
       "    </tr>\n",
       "    <tr>\n",
       "      <th>Owner_Type</th>\n",
       "      <td>7253</td>\n",
       "      <td>4</td>\n",
       "      <td>First</td>\n",
       "      <td>5952</td>\n",
       "      <td>NaN</td>\n",
       "      <td>NaN</td>\n",
       "      <td>NaN</td>\n",
       "      <td>NaN</td>\n",
       "      <td>NaN</td>\n",
       "      <td>NaN</td>\n",
       "      <td>NaN</td>\n",
       "    </tr>\n",
       "    <tr>\n",
       "      <th>Mileage</th>\n",
       "      <td>7251.0</td>\n",
       "      <td>NaN</td>\n",
       "      <td>NaN</td>\n",
       "      <td>NaN</td>\n",
       "      <td>18.14158</td>\n",
       "      <td>4.562197</td>\n",
       "      <td>0.0</td>\n",
       "      <td>15.17</td>\n",
       "      <td>18.16</td>\n",
       "      <td>21.1</td>\n",
       "      <td>33.54</td>\n",
       "    </tr>\n",
       "    <tr>\n",
       "      <th>Engine</th>\n",
       "      <td>7207.0</td>\n",
       "      <td>NaN</td>\n",
       "      <td>NaN</td>\n",
       "      <td>NaN</td>\n",
       "      <td>1616.57347</td>\n",
       "      <td>595.285137</td>\n",
       "      <td>72.0</td>\n",
       "      <td>1198.0</td>\n",
       "      <td>1493.0</td>\n",
       "      <td>1968.0</td>\n",
       "      <td>5998.0</td>\n",
       "    </tr>\n",
       "    <tr>\n",
       "      <th>Power</th>\n",
       "      <td>7078.0</td>\n",
       "      <td>NaN</td>\n",
       "      <td>NaN</td>\n",
       "      <td>NaN</td>\n",
       "      <td>112.765214</td>\n",
       "      <td>53.493553</td>\n",
       "      <td>34.2</td>\n",
       "      <td>75.0</td>\n",
       "      <td>94.0</td>\n",
       "      <td>138.1</td>\n",
       "      <td>616.0</td>\n",
       "    </tr>\n",
       "    <tr>\n",
       "      <th>Seats</th>\n",
       "      <td>7200.0</td>\n",
       "      <td>NaN</td>\n",
       "      <td>NaN</td>\n",
       "      <td>NaN</td>\n",
       "      <td>5.280417</td>\n",
       "      <td>0.809277</td>\n",
       "      <td>2.0</td>\n",
       "      <td>5.0</td>\n",
       "      <td>5.0</td>\n",
       "      <td>5.0</td>\n",
       "      <td>10.0</td>\n",
       "    </tr>\n",
       "    <tr>\n",
       "      <th>New_price</th>\n",
       "      <td>1006.0</td>\n",
       "      <td>NaN</td>\n",
       "      <td>NaN</td>\n",
       "      <td>NaN</td>\n",
       "      <td>22.779692</td>\n",
       "      <td>27.759344</td>\n",
       "      <td>3.91</td>\n",
       "      <td>7.885</td>\n",
       "      <td>11.57</td>\n",
       "      <td>26.0425</td>\n",
       "      <td>375.0</td>\n",
       "    </tr>\n",
       "    <tr>\n",
       "      <th>Price</th>\n",
       "      <td>6019.0</td>\n",
       "      <td>NaN</td>\n",
       "      <td>NaN</td>\n",
       "      <td>NaN</td>\n",
       "      <td>9.479468</td>\n",
       "      <td>11.187917</td>\n",
       "      <td>0.44</td>\n",
       "      <td>3.5</td>\n",
       "      <td>5.64</td>\n",
       "      <td>9.95</td>\n",
       "      <td>160.0</td>\n",
       "    </tr>\n",
       "  </tbody>\n",
       "</table>\n",
       "</div>"
      ],
      "text/plain": [
       "                    count unique                     top  freq          mean  \\\n",
       "Name                 7253   2041  Mahindra XUV500 W8 2WD    55           NaN   \n",
       "Location             7253     11                  Mumbai   949           NaN   \n",
       "Year               7253.0    NaN                     NaN   NaN   2013.365366   \n",
       "Kilometers_Driven  7253.0    NaN                     NaN   NaN  58699.063146   \n",
       "Fuel_Type            7253      5                  Diesel  3852           NaN   \n",
       "Transmission         7253      2                  Manual  5204           NaN   \n",
       "Owner_Type           7253      4                   First  5952           NaN   \n",
       "Mileage            7251.0    NaN                     NaN   NaN      18.14158   \n",
       "Engine             7207.0    NaN                     NaN   NaN    1616.57347   \n",
       "Power              7078.0    NaN                     NaN   NaN    112.765214   \n",
       "Seats              7200.0    NaN                     NaN   NaN      5.280417   \n",
       "New_price          1006.0    NaN                     NaN   NaN     22.779692   \n",
       "Price              6019.0    NaN                     NaN   NaN      9.479468   \n",
       "\n",
       "                            std     min      25%      50%      75%        max  \n",
       "Name                        NaN     NaN      NaN      NaN      NaN        NaN  \n",
       "Location                    NaN     NaN      NaN      NaN      NaN        NaN  \n",
       "Year                   3.254421  1996.0   2011.0   2014.0   2016.0     2019.0  \n",
       "Kilometers_Driven  84427.720583   171.0  34000.0  53416.0  73000.0  6500000.0  \n",
       "Fuel_Type                   NaN     NaN      NaN      NaN      NaN        NaN  \n",
       "Transmission                NaN     NaN      NaN      NaN      NaN        NaN  \n",
       "Owner_Type                  NaN     NaN      NaN      NaN      NaN        NaN  \n",
       "Mileage                4.562197     0.0    15.17    18.16     21.1      33.54  \n",
       "Engine               595.285137    72.0   1198.0   1493.0   1968.0     5998.0  \n",
       "Power                 53.493553    34.2     75.0     94.0    138.1      616.0  \n",
       "Seats                  0.809277     2.0      5.0      5.0      5.0       10.0  \n",
       "New_price             27.759344    3.91    7.885    11.57  26.0425      375.0  \n",
       "Price                 11.187917    0.44      3.5     5.64     9.95      160.0  "
      ]
     },
     "execution_count": 10,
     "metadata": {},
     "output_type": "execute_result"
    }
   ],
   "source": [
    "data.describe(include = \"all\").T # Explore basic summary statistics of numeric variables. Hint: Use describe() method."
   ]
  },
  {
   "cell_type": "code",
   "execution_count": 11,
   "metadata": {},
   "outputs": [
    {
     "data": {
      "text/html": [
       "<div>\n",
       "<style scoped>\n",
       "    .dataframe tbody tr th:only-of-type {\n",
       "        vertical-align: middle;\n",
       "    }\n",
       "\n",
       "    .dataframe tbody tr th {\n",
       "        vertical-align: top;\n",
       "    }\n",
       "\n",
       "    .dataframe thead th {\n",
       "        text-align: right;\n",
       "    }\n",
       "</style>\n",
       "<table border=\"1\" class=\"dataframe\">\n",
       "  <thead>\n",
       "    <tr style=\"text-align: right;\">\n",
       "      <th></th>\n",
       "      <th>count</th>\n",
       "      <th>unique</th>\n",
       "      <th>top</th>\n",
       "      <th>freq</th>\n",
       "    </tr>\n",
       "  </thead>\n",
       "  <tbody>\n",
       "    <tr>\n",
       "      <th>Name</th>\n",
       "      <td>7253</td>\n",
       "      <td>2041</td>\n",
       "      <td>Mahindra XUV500 W8 2WD</td>\n",
       "      <td>55</td>\n",
       "    </tr>\n",
       "    <tr>\n",
       "      <th>Location</th>\n",
       "      <td>7253</td>\n",
       "      <td>11</td>\n",
       "      <td>Mumbai</td>\n",
       "      <td>949</td>\n",
       "    </tr>\n",
       "    <tr>\n",
       "      <th>Fuel_Type</th>\n",
       "      <td>7253</td>\n",
       "      <td>5</td>\n",
       "      <td>Diesel</td>\n",
       "      <td>3852</td>\n",
       "    </tr>\n",
       "    <tr>\n",
       "      <th>Transmission</th>\n",
       "      <td>7253</td>\n",
       "      <td>2</td>\n",
       "      <td>Manual</td>\n",
       "      <td>5204</td>\n",
       "    </tr>\n",
       "    <tr>\n",
       "      <th>Owner_Type</th>\n",
       "      <td>7253</td>\n",
       "      <td>4</td>\n",
       "      <td>First</td>\n",
       "      <td>5952</td>\n",
       "    </tr>\n",
       "  </tbody>\n",
       "</table>\n",
       "</div>"
      ],
      "text/plain": [
       "             count unique                     top  freq\n",
       "Name          7253   2041  Mahindra XUV500 W8 2WD    55\n",
       "Location      7253     11                  Mumbai   949\n",
       "Fuel_Type     7253      5                  Diesel  3852\n",
       "Transmission  7253      2                  Manual  5204\n",
       "Owner_Type    7253      4                   First  5952"
      ]
     },
     "execution_count": 11,
     "metadata": {},
     "output_type": "execute_result"
    }
   ],
   "source": [
    "data.describe(include=['object']).T # Explore basic summary statistics of categorical variables. Hint: Use the argument include = ['object'] "
   ]
  },
  {
   "cell_type": "markdown",
   "metadata": {},
   "source": [
    "**Find number of unique observations in each category**"
   ]
  },
  {
   "cell_type": "code",
   "execution_count": 12,
   "metadata": {},
   "outputs": [
    {
     "name": "stdout",
     "output_type": "stream",
     "text": [
      "For column: Name\n",
      "Mahindra XUV500 W8 2WD                  55\n",
      "Maruti Swift VDI                        49\n",
      "Maruti Swift Dzire VDI                  42\n",
      "Honda City 1.5 S MT                     39\n",
      "Maruti Swift VDI BSIV                   37\n",
      "                                        ..\n",
      "Chevrolet Beat LT Option                 1\n",
      "Skoda Rapid 1.6 MPI AT Elegance Plus     1\n",
      "Ford EcoSport 1.5 TDCi Ambiente          1\n",
      "Hyundai i10 Magna 1.1 iTech SE           1\n",
      "Hyundai Elite i20 Magna Plus             1\n",
      "Name: Name, Length: 2041, dtype: int64\n",
      "--------------------------------------------------\n",
      "For column: Location\n",
      "Mumbai        949\n",
      "Hyderabad     876\n",
      "Coimbatore    772\n",
      "Kochi         772\n",
      "Pune          765\n",
      "Delhi         660\n",
      "Kolkata       654\n",
      "Chennai       591\n",
      "Jaipur        499\n",
      "Bangalore     440\n",
      "Ahmedabad     275\n",
      "Name: Location, dtype: int64\n",
      "--------------------------------------------------\n",
      "For column: Fuel_Type\n",
      "Diesel      3852\n",
      "Petrol      3325\n",
      "CNG           62\n",
      "LPG           12\n",
      "Electric       2\n",
      "Name: Fuel_Type, dtype: int64\n",
      "--------------------------------------------------\n",
      "For column: Transmission\n",
      "Manual       5204\n",
      "Automatic    2049\n",
      "Name: Transmission, dtype: int64\n",
      "--------------------------------------------------\n",
      "For column: Owner_Type\n",
      "First             5952\n",
      "Second            1152\n",
      "Third              137\n",
      "Fourth & Above      12\n",
      "Name: Owner_Type, dtype: int64\n",
      "--------------------------------------------------\n"
     ]
    }
   ],
   "source": [
    "cat_cols = data.select_dtypes(include = ['object']).columns\n",
    "\n",
    "for column in cat_cols:\n",
    "    \n",
    "    print(\"For column:\", column)\n",
    "    \n",
    "    print(data[column].value_counts())\n",
    "    \n",
    "    print('-'*50)"
   ]
  },
  {
   "cell_type": "markdown",
   "metadata": {},
   "source": [
    "**Observations: Kilometers_driven has extreme values and thus we can exercise a log function on it so it ca contribute more helpfully to our data. A mileage of 0 for cars in the dataset would imply that they have never been driven, which doesn't make sense and thus we will need to address that issue as well.**"
   ]
  },
  {
   "cell_type": "code",
   "execution_count": 13,
   "metadata": {
    "scrolled": true
   },
   "outputs": [
    {
     "data": {
      "text/html": [
       "<div>\n",
       "<style scoped>\n",
       "    .dataframe tbody tr th:only-of-type {\n",
       "        vertical-align: middle;\n",
       "    }\n",
       "\n",
       "    .dataframe tbody tr th {\n",
       "        vertical-align: top;\n",
       "    }\n",
       "\n",
       "    .dataframe thead th {\n",
       "        text-align: right;\n",
       "    }\n",
       "</style>\n",
       "<table border=\"1\" class=\"dataframe\">\n",
       "  <thead>\n",
       "    <tr style=\"text-align: right;\">\n",
       "      <th></th>\n",
       "      <th>Name</th>\n",
       "      <th>Location</th>\n",
       "      <th>Year</th>\n",
       "      <th>Kilometers_Driven</th>\n",
       "      <th>Fuel_Type</th>\n",
       "      <th>Transmission</th>\n",
       "      <th>Owner_Type</th>\n",
       "      <th>Mileage</th>\n",
       "      <th>Engine</th>\n",
       "      <th>Power</th>\n",
       "      <th>Seats</th>\n",
       "      <th>New_price</th>\n",
       "      <th>Price</th>\n",
       "    </tr>\n",
       "  </thead>\n",
       "  <tbody>\n",
       "    <tr>\n",
       "      <th>2328</th>\n",
       "      <td>BMW X5 xDrive 30d M Sport</td>\n",
       "      <td>Chennai</td>\n",
       "      <td>2017</td>\n",
       "      <td>6500000</td>\n",
       "      <td>Diesel</td>\n",
       "      <td>Automatic</td>\n",
       "      <td>First</td>\n",
       "      <td>15.97</td>\n",
       "      <td>2993.0</td>\n",
       "      <td>258.00</td>\n",
       "      <td>5.0</td>\n",
       "      <td>NaN</td>\n",
       "      <td>65.00</td>\n",
       "    </tr>\n",
       "    <tr>\n",
       "      <th>340</th>\n",
       "      <td>Skoda Octavia Ambition Plus 2.0 TDI AT</td>\n",
       "      <td>Kolkata</td>\n",
       "      <td>2013</td>\n",
       "      <td>775000</td>\n",
       "      <td>Diesel</td>\n",
       "      <td>Automatic</td>\n",
       "      <td>First</td>\n",
       "      <td>19.30</td>\n",
       "      <td>1968.0</td>\n",
       "      <td>141.00</td>\n",
       "      <td>5.0</td>\n",
       "      <td>NaN</td>\n",
       "      <td>7.50</td>\n",
       "    </tr>\n",
       "    <tr>\n",
       "      <th>1860</th>\n",
       "      <td>Volkswagen Vento Diesel Highline</td>\n",
       "      <td>Chennai</td>\n",
       "      <td>2013</td>\n",
       "      <td>720000</td>\n",
       "      <td>Diesel</td>\n",
       "      <td>Manual</td>\n",
       "      <td>First</td>\n",
       "      <td>20.54</td>\n",
       "      <td>1598.0</td>\n",
       "      <td>103.60</td>\n",
       "      <td>5.0</td>\n",
       "      <td>NaN</td>\n",
       "      <td>5.90</td>\n",
       "    </tr>\n",
       "    <tr>\n",
       "      <th>358</th>\n",
       "      <td>Hyundai i10 Magna 1.2</td>\n",
       "      <td>Chennai</td>\n",
       "      <td>2009</td>\n",
       "      <td>620000</td>\n",
       "      <td>Petrol</td>\n",
       "      <td>Manual</td>\n",
       "      <td>First</td>\n",
       "      <td>20.36</td>\n",
       "      <td>1197.0</td>\n",
       "      <td>78.90</td>\n",
       "      <td>5.0</td>\n",
       "      <td>NaN</td>\n",
       "      <td>2.70</td>\n",
       "    </tr>\n",
       "    <tr>\n",
       "      <th>2823</th>\n",
       "      <td>Volkswagen Jetta 2013-2015 2.0L TDI Highline AT</td>\n",
       "      <td>Chennai</td>\n",
       "      <td>2015</td>\n",
       "      <td>480000</td>\n",
       "      <td>Diesel</td>\n",
       "      <td>Automatic</td>\n",
       "      <td>First</td>\n",
       "      <td>16.96</td>\n",
       "      <td>1968.0</td>\n",
       "      <td>138.03</td>\n",
       "      <td>5.0</td>\n",
       "      <td>NaN</td>\n",
       "      <td>13.00</td>\n",
       "    </tr>\n",
       "    <tr>\n",
       "      <th>3092</th>\n",
       "      <td>Honda City i VTEC SV</td>\n",
       "      <td>Kolkata</td>\n",
       "      <td>2015</td>\n",
       "      <td>480000</td>\n",
       "      <td>Petrol</td>\n",
       "      <td>Manual</td>\n",
       "      <td>First</td>\n",
       "      <td>17.40</td>\n",
       "      <td>1497.0</td>\n",
       "      <td>117.30</td>\n",
       "      <td>5.0</td>\n",
       "      <td>NaN</td>\n",
       "      <td>5.00</td>\n",
       "    </tr>\n",
       "    <tr>\n",
       "      <th>4491</th>\n",
       "      <td>Hyundai i20 Magna Optional 1.2</td>\n",
       "      <td>Bangalore</td>\n",
       "      <td>2013</td>\n",
       "      <td>445000</td>\n",
       "      <td>Petrol</td>\n",
       "      <td>Manual</td>\n",
       "      <td>First</td>\n",
       "      <td>18.50</td>\n",
       "      <td>1197.0</td>\n",
       "      <td>82.90</td>\n",
       "      <td>5.0</td>\n",
       "      <td>NaN</td>\n",
       "      <td>4.45</td>\n",
       "    </tr>\n",
       "    <tr>\n",
       "      <th>6921</th>\n",
       "      <td>Maruti Swift Dzire Tour LDI</td>\n",
       "      <td>Jaipur</td>\n",
       "      <td>2012</td>\n",
       "      <td>350000</td>\n",
       "      <td>Diesel</td>\n",
       "      <td>Manual</td>\n",
       "      <td>First</td>\n",
       "      <td>23.40</td>\n",
       "      <td>1248.0</td>\n",
       "      <td>74.00</td>\n",
       "      <td>5.0</td>\n",
       "      <td>NaN</td>\n",
       "      <td>NaN</td>\n",
       "    </tr>\n",
       "    <tr>\n",
       "      <th>3649</th>\n",
       "      <td>Tata Indigo LS</td>\n",
       "      <td>Jaipur</td>\n",
       "      <td>2008</td>\n",
       "      <td>300000</td>\n",
       "      <td>Diesel</td>\n",
       "      <td>Manual</td>\n",
       "      <td>First</td>\n",
       "      <td>17.00</td>\n",
       "      <td>1405.0</td>\n",
       "      <td>70.00</td>\n",
       "      <td>5.0</td>\n",
       "      <td>NaN</td>\n",
       "      <td>1.00</td>\n",
       "    </tr>\n",
       "    <tr>\n",
       "      <th>1528</th>\n",
       "      <td>Toyota Innova 2.5 G (Diesel) 8 Seater BS IV</td>\n",
       "      <td>Hyderabad</td>\n",
       "      <td>2005</td>\n",
       "      <td>299322</td>\n",
       "      <td>Diesel</td>\n",
       "      <td>Manual</td>\n",
       "      <td>First</td>\n",
       "      <td>12.80</td>\n",
       "      <td>2494.0</td>\n",
       "      <td>102.00</td>\n",
       "      <td>8.0</td>\n",
       "      <td>NaN</td>\n",
       "      <td>4.00</td>\n",
       "    </tr>\n",
       "  </tbody>\n",
       "</table>\n",
       "</div>"
      ],
      "text/plain": [
       "                                                 Name   Location  Year  \\\n",
       "2328                        BMW X5 xDrive 30d M Sport    Chennai  2017   \n",
       "340            Skoda Octavia Ambition Plus 2.0 TDI AT    Kolkata  2013   \n",
       "1860                 Volkswagen Vento Diesel Highline    Chennai  2013   \n",
       "358                             Hyundai i10 Magna 1.2    Chennai  2009   \n",
       "2823  Volkswagen Jetta 2013-2015 2.0L TDI Highline AT    Chennai  2015   \n",
       "3092                             Honda City i VTEC SV    Kolkata  2015   \n",
       "4491                   Hyundai i20 Magna Optional 1.2  Bangalore  2013   \n",
       "6921                      Maruti Swift Dzire Tour LDI     Jaipur  2012   \n",
       "3649                                   Tata Indigo LS     Jaipur  2008   \n",
       "1528      Toyota Innova 2.5 G (Diesel) 8 Seater BS IV  Hyderabad  2005   \n",
       "\n",
       "      Kilometers_Driven Fuel_Type Transmission Owner_Type  Mileage  Engine  \\\n",
       "2328            6500000    Diesel    Automatic      First    15.97  2993.0   \n",
       "340              775000    Diesel    Automatic      First    19.30  1968.0   \n",
       "1860             720000    Diesel       Manual      First    20.54  1598.0   \n",
       "358              620000    Petrol       Manual      First    20.36  1197.0   \n",
       "2823             480000    Diesel    Automatic      First    16.96  1968.0   \n",
       "3092             480000    Petrol       Manual      First    17.40  1497.0   \n",
       "4491             445000    Petrol       Manual      First    18.50  1197.0   \n",
       "6921             350000    Diesel       Manual      First    23.40  1248.0   \n",
       "3649             300000    Diesel       Manual      First    17.00  1405.0   \n",
       "1528             299322    Diesel       Manual      First    12.80  2494.0   \n",
       "\n",
       "       Power  Seats  New_price  Price  \n",
       "2328  258.00    5.0        NaN  65.00  \n",
       "340   141.00    5.0        NaN   7.50  \n",
       "1860  103.60    5.0        NaN   5.90  \n",
       "358    78.90    5.0        NaN   2.70  \n",
       "2823  138.03    5.0        NaN  13.00  \n",
       "3092  117.30    5.0        NaN   5.00  \n",
       "4491   82.90    5.0        NaN   4.45  \n",
       "6921   74.00    5.0        NaN    NaN  \n",
       "3649   70.00    5.0        NaN   1.00  \n",
       "1528  102.00    8.0        NaN   4.00  "
      ]
     },
     "execution_count": 13,
     "metadata": {},
     "output_type": "execute_result"
    }
   ],
   "source": [
    "# Sort the dataset in 'descending' order using the feature 'Kilometers_Driven'\n",
    "data.sort_values('Kilometers_Driven', ascending=False).head(10)"
   ]
  },
  {
   "cell_type": "code",
   "execution_count": 14,
   "metadata": {},
   "outputs": [],
   "source": [
    "# Removing the 'row' at index 2328 from the data. Hint: use the argument inplace=True\n",
    "data.drop(2328, inplace=True)"
   ]
  },
  {
   "cell_type": "markdown",
   "metadata": {},
   "source": [
    "**Observations: We have a car manufactured in 2017 that has 6500000 km that will need to be dropped as that is unrealistic.**"
   ]
  },
  {
   "cell_type": "code",
   "execution_count": 15,
   "metadata": {},
   "outputs": [
    {
     "data": {
      "text/html": [
       "<div>\n",
       "<style scoped>\n",
       "    .dataframe tbody tr th:only-of-type {\n",
       "        vertical-align: middle;\n",
       "    }\n",
       "\n",
       "    .dataframe tbody tr th {\n",
       "        vertical-align: top;\n",
       "    }\n",
       "\n",
       "    .dataframe thead th {\n",
       "        text-align: right;\n",
       "    }\n",
       "</style>\n",
       "<table border=\"1\" class=\"dataframe\">\n",
       "  <thead>\n",
       "    <tr style=\"text-align: right;\">\n",
       "      <th></th>\n",
       "      <th>Name</th>\n",
       "      <th>Location</th>\n",
       "      <th>Year</th>\n",
       "      <th>Kilometers_Driven</th>\n",
       "      <th>Fuel_Type</th>\n",
       "      <th>Transmission</th>\n",
       "      <th>Owner_Type</th>\n",
       "      <th>Mileage</th>\n",
       "      <th>Engine</th>\n",
       "      <th>Power</th>\n",
       "      <th>Seats</th>\n",
       "      <th>New_price</th>\n",
       "      <th>Price</th>\n",
       "    </tr>\n",
       "  </thead>\n",
       "  <tbody>\n",
       "    <tr>\n",
       "      <th>2597</th>\n",
       "      <td>Hyundai Santro Xing XP</td>\n",
       "      <td>Pune</td>\n",
       "      <td>2007</td>\n",
       "      <td>70000</td>\n",
       "      <td>Petrol</td>\n",
       "      <td>Manual</td>\n",
       "      <td>First</td>\n",
       "      <td>0.0</td>\n",
       "      <td>1086.0</td>\n",
       "      <td>NaN</td>\n",
       "      <td>5.0</td>\n",
       "      <td>NaN</td>\n",
       "      <td>1.12</td>\n",
       "    </tr>\n",
       "    <tr>\n",
       "      <th>2343</th>\n",
       "      <td>Hyundai Santro AT</td>\n",
       "      <td>Hyderabad</td>\n",
       "      <td>2006</td>\n",
       "      <td>74483</td>\n",
       "      <td>Petrol</td>\n",
       "      <td>Automatic</td>\n",
       "      <td>First</td>\n",
       "      <td>0.0</td>\n",
       "      <td>999.0</td>\n",
       "      <td>NaN</td>\n",
       "      <td>5.0</td>\n",
       "      <td>NaN</td>\n",
       "      <td>2.30</td>\n",
       "    </tr>\n",
       "    <tr>\n",
       "      <th>5270</th>\n",
       "      <td>Honda City 1.5 GXI</td>\n",
       "      <td>Bangalore</td>\n",
       "      <td>2002</td>\n",
       "      <td>53000</td>\n",
       "      <td>Petrol</td>\n",
       "      <td>Manual</td>\n",
       "      <td>Second</td>\n",
       "      <td>0.0</td>\n",
       "      <td>NaN</td>\n",
       "      <td>NaN</td>\n",
       "      <td>NaN</td>\n",
       "      <td>NaN</td>\n",
       "      <td>1.85</td>\n",
       "    </tr>\n",
       "    <tr>\n",
       "      <th>424</th>\n",
       "      <td>Volkswagen Jetta 2007-2011 1.9 L TDI</td>\n",
       "      <td>Hyderabad</td>\n",
       "      <td>2010</td>\n",
       "      <td>42021</td>\n",
       "      <td>Diesel</td>\n",
       "      <td>Manual</td>\n",
       "      <td>First</td>\n",
       "      <td>0.0</td>\n",
       "      <td>1968.0</td>\n",
       "      <td>NaN</td>\n",
       "      <td>5.0</td>\n",
       "      <td>NaN</td>\n",
       "      <td>5.45</td>\n",
       "    </tr>\n",
       "    <tr>\n",
       "      <th>6857</th>\n",
       "      <td>Land Rover Freelander 2 TD4 SE</td>\n",
       "      <td>Mumbai</td>\n",
       "      <td>2011</td>\n",
       "      <td>87000</td>\n",
       "      <td>Diesel</td>\n",
       "      <td>Automatic</td>\n",
       "      <td>First</td>\n",
       "      <td>0.0</td>\n",
       "      <td>2179.0</td>\n",
       "      <td>115.0</td>\n",
       "      <td>5.0</td>\n",
       "      <td>NaN</td>\n",
       "      <td>NaN</td>\n",
       "    </tr>\n",
       "    <tr>\n",
       "      <th>443</th>\n",
       "      <td>Hyundai Santro GLS I - Euro I</td>\n",
       "      <td>Coimbatore</td>\n",
       "      <td>2012</td>\n",
       "      <td>50243</td>\n",
       "      <td>Petrol</td>\n",
       "      <td>Manual</td>\n",
       "      <td>First</td>\n",
       "      <td>0.0</td>\n",
       "      <td>1086.0</td>\n",
       "      <td>NaN</td>\n",
       "      <td>5.0</td>\n",
       "      <td>NaN</td>\n",
       "      <td>3.35</td>\n",
       "    </tr>\n",
       "    <tr>\n",
       "      <th>5119</th>\n",
       "      <td>Hyundai Santro Xing XP</td>\n",
       "      <td>Kolkata</td>\n",
       "      <td>2008</td>\n",
       "      <td>45500</td>\n",
       "      <td>Petrol</td>\n",
       "      <td>Manual</td>\n",
       "      <td>Second</td>\n",
       "      <td>0.0</td>\n",
       "      <td>1086.0</td>\n",
       "      <td>NaN</td>\n",
       "      <td>5.0</td>\n",
       "      <td>NaN</td>\n",
       "      <td>1.17</td>\n",
       "    </tr>\n",
       "    <tr>\n",
       "      <th>5022</th>\n",
       "      <td>Land Rover Freelander 2 TD4 SE</td>\n",
       "      <td>Hyderabad</td>\n",
       "      <td>2013</td>\n",
       "      <td>46000</td>\n",
       "      <td>Diesel</td>\n",
       "      <td>Automatic</td>\n",
       "      <td>Second</td>\n",
       "      <td>0.0</td>\n",
       "      <td>2179.0</td>\n",
       "      <td>115.0</td>\n",
       "      <td>5.0</td>\n",
       "      <td>NaN</td>\n",
       "      <td>26.00</td>\n",
       "    </tr>\n",
       "    <tr>\n",
       "      <th>5016</th>\n",
       "      <td>Land Rover Freelander 2 TD4 HSE</td>\n",
       "      <td>Delhi</td>\n",
       "      <td>2013</td>\n",
       "      <td>72000</td>\n",
       "      <td>Diesel</td>\n",
       "      <td>Automatic</td>\n",
       "      <td>First</td>\n",
       "      <td>0.0</td>\n",
       "      <td>2179.0</td>\n",
       "      <td>115.0</td>\n",
       "      <td>5.0</td>\n",
       "      <td>NaN</td>\n",
       "      <td>15.50</td>\n",
       "    </tr>\n",
       "    <tr>\n",
       "      <th>2542</th>\n",
       "      <td>Hyundai Santro GLS II - Euro II</td>\n",
       "      <td>Bangalore</td>\n",
       "      <td>2011</td>\n",
       "      <td>65000</td>\n",
       "      <td>Petrol</td>\n",
       "      <td>Manual</td>\n",
       "      <td>Second</td>\n",
       "      <td>0.0</td>\n",
       "      <td>NaN</td>\n",
       "      <td>NaN</td>\n",
       "      <td>NaN</td>\n",
       "      <td>NaN</td>\n",
       "      <td>3.15</td>\n",
       "    </tr>\n",
       "  </tbody>\n",
       "</table>\n",
       "</div>"
      ],
      "text/plain": [
       "                                      Name    Location  Year  \\\n",
       "2597                Hyundai Santro Xing XP        Pune  2007   \n",
       "2343                     Hyundai Santro AT   Hyderabad  2006   \n",
       "5270                    Honda City 1.5 GXI   Bangalore  2002   \n",
       "424   Volkswagen Jetta 2007-2011 1.9 L TDI   Hyderabad  2010   \n",
       "6857        Land Rover Freelander 2 TD4 SE      Mumbai  2011   \n",
       "443          Hyundai Santro GLS I - Euro I  Coimbatore  2012   \n",
       "5119                Hyundai Santro Xing XP     Kolkata  2008   \n",
       "5022        Land Rover Freelander 2 TD4 SE   Hyderabad  2013   \n",
       "5016       Land Rover Freelander 2 TD4 HSE       Delhi  2013   \n",
       "2542       Hyundai Santro GLS II - Euro II   Bangalore  2011   \n",
       "\n",
       "      Kilometers_Driven Fuel_Type Transmission Owner_Type  Mileage  Engine  \\\n",
       "2597              70000    Petrol       Manual      First      0.0  1086.0   \n",
       "2343              74483    Petrol    Automatic      First      0.0   999.0   \n",
       "5270              53000    Petrol       Manual     Second      0.0     NaN   \n",
       "424               42021    Diesel       Manual      First      0.0  1968.0   \n",
       "6857              87000    Diesel    Automatic      First      0.0  2179.0   \n",
       "443               50243    Petrol       Manual      First      0.0  1086.0   \n",
       "5119              45500    Petrol       Manual     Second      0.0  1086.0   \n",
       "5022              46000    Diesel    Automatic     Second      0.0  2179.0   \n",
       "5016              72000    Diesel    Automatic      First      0.0  2179.0   \n",
       "2542              65000    Petrol       Manual     Second      0.0     NaN   \n",
       "\n",
       "      Power  Seats  New_price  Price  \n",
       "2597    NaN    5.0        NaN   1.12  \n",
       "2343    NaN    5.0        NaN   2.30  \n",
       "5270    NaN    NaN        NaN   1.85  \n",
       "424     NaN    5.0        NaN   5.45  \n",
       "6857  115.0    5.0        NaN    NaN  \n",
       "443     NaN    5.0        NaN   3.35  \n",
       "5119    NaN    5.0        NaN   1.17  \n",
       "5022  115.0    5.0        NaN  26.00  \n",
       "5016  115.0    5.0        NaN  15.50  \n",
       "2542    NaN    NaN        NaN   3.15  "
      ]
     },
     "execution_count": 15,
     "metadata": {},
     "output_type": "execute_result"
    }
   ],
   "source": [
    "# Sort the dataset in 'ascending' order using the feature 'Mileage'\n",
    "data.sort_values('Mileage', ascending=True).head(10)"
   ]
  },
  {
   "cell_type": "markdown",
   "metadata": {
    "id": "7Rwx-1ZuhU3D"
   },
   "source": [
    "## **Univariate Analysis**"
   ]
  },
  {
   "cell_type": "markdown",
   "metadata": {
    "id": "XYmSIliuIrcy"
   },
   "source": [
    "**Questions:**\n",
    "\n",
    "1. Do univariate analysis for numerical and categorical variables?\n",
    "2. Check the distribution of the different variables? is the distributions skewed?\n",
    "3. Do we need to do log_transformation, if so for what variables we need to do?\n",
    "4. Perform the log_transformation(if needed) and write down your observations?"
   ]
  },
  {
   "cell_type": "code",
   "execution_count": 16,
   "metadata": {
    "id": "KkKnOKT9j6w1"
   },
   "outputs": [],
   "source": [
    "def histogram_boxplot(feature, figsize = (15, 10), bins = None):\n",
    "    \n",
    "    \"\"\" Boxplot and histogram combined\n",
    "    \n",
    "    feature: 1-d feature array\n",
    "    \n",
    "    figsize: size of fig (default (9, 8))\n",
    "    \n",
    "    bins: number of bins (default None / auto)\n",
    "    \n",
    "    \"\"\"\n",
    "    f2, (ax_box2, ax_hist2) = plt.subplots(nrows = 2, # Number of rows of the subplot grid = 2\n",
    "                                           sharex = True, # X-axis will be shared among all subplots\n",
    "                                           gridspec_kw = {\"height_ratios\": (.25, .75)}, \n",
    "                                           figsize = figsize \n",
    "                                           ) # Creating the 2 subplots\n",
    "    \n",
    "    sns.boxplot(feature, ax = ax_box2, showmeans = True, color = 'violet') # Boxplot will be created and a symbol will indicate the mean value of the column\n",
    "    \n",
    "    sns.distplot(feature, kde = F, ax = ax_hist2, bins = bins, palette = \"winter\") if bins else sns.distplot(feature, kde = False, ax = ax_hist2) # For histogram\n",
    "    \n",
    "    ax_hist2.axvline(np.mean(feature), color = 'green', linestyle = '--') # Add mean to the histogram\n",
    "    \n",
    "    ax_hist2.axvline(np.median(feature), color = 'black', linestyle = '-') # Add median to the histogram"
   ]
  },
  {
   "cell_type": "code",
   "execution_count": 17,
   "metadata": {},
   "outputs": [
    {
     "data": {
      "image/png": "[encoded data removed]",
      "text/plain": [
       "<Figure size 1500x1000 with 2 Axes>"
      ]
     },
     "metadata": {},
     "output_type": "display_data"
    }
   ],
   "source": [
    "# Plot histogram and box-plot for 'Kilometers_Driven'\n",
    "histogram_boxplot(data['Kilometers_Driven'])"
   ]
  },
  {
   "cell_type": "markdown",
   "metadata": {},
   "source": [
    "**Observations: It is rightly skewed and we cannot include that skewed data for the sake of building our models so we can apply a log transformation.**"
   ]
  },
  {
   "cell_type": "code",
   "execution_count": 18,
   "metadata": {},
   "outputs": [
    {
     "data": {
      "image/png": "[encoded data removed]",
      "text/plain": [
       "<Figure size 640x480 with 1 Axes>"
      ]
     },
     "metadata": {},
     "output_type": "display_data"
    }
   ],
   "source": [
    "# Log transformation of the feature 'Kilometers_Driven'\n",
    "sns.distplot(np.log(data[\"Kilometers_Driven\"]), axlabel = \"Log(Kilometers_Driven)\");"
   ]
  },
  {
   "cell_type": "code",
   "execution_count": 19,
   "metadata": {},
   "outputs": [],
   "source": [
    " #We can add a transformed kilometers_driven feature in data\n",
    "data[\"kilometers_driven_log\"] = np.log(data[\"Kilometers_Driven\"])"
   ]
  },
  {
   "cell_type": "code",
   "execution_count": 20,
   "metadata": {},
   "outputs": [
    {
     "data": {
      "image/png": "[encoded data removed]",
      "text/plain": [
       "<Figure size 1500x1000 with 2 Axes>"
      ]
     },
     "metadata": {},
     "output_type": "display_data"
    }
   ],
   "source": [
    "histogram_boxplot(data['Price']) # Plot histogram and box-plot for 'Price'"
   ]
  },
  {
   "cell_type": "code",
   "execution_count": 21,
   "metadata": {},
   "outputs": [
    {
     "data": {
      "image/png": "[encoded data removed]",
      "text/plain": [
       "<Figure size 640x480 with 1 Axes>"
      ]
     },
     "metadata": {},
     "output_type": "display_data"
    }
   ],
   "source": [
    "sns.distplot(np.log(data[\"Price\"]), axlabel = \"Log(Price)\"); # Log transformation of the feature 'Price'"
   ]
  },
  {
   "cell_type": "code",
   "execution_count": 22,
   "metadata": {},
   "outputs": [],
   "source": [
    "data[\"Price_log\"] = np.log(data[\"Price\"]) # We can Add a transformed Price feature in data"
   ]
  },
  {
   "cell_type": "code",
   "execution_count": 23,
   "metadata": {},
   "outputs": [],
   "source": [
    "def perc_on_bar(z):\n",
    "    '''\n",
    "    plot\n",
    "    feature: categorical feature\n",
    "    the function won't work if a column is passed in hue parameter\n",
    "    '''\n",
    "\n",
    "    total = len(data[z]) # Length of the column\n",
    "    \n",
    "    plt.figure(figsize = (15, 5))\n",
    "    \n",
    "    ax = sns.countplot(data[z], palette = 'Paired', order = data[z].value_counts().index)\n",
    "    \n",
    "    for p in ax.patches:\n",
    "        \n",
    "        percentage = '{:.1f}%'.format(100 * p.get_height() / total) # Percentage of each class of the category\n",
    "        \n",
    "        x = p.get_x() + p.get_width() / 2 - 0.05 # Width of the plot\n",
    "        \n",
    "        y = p.get_y() + p.get_height()           # Hieght of the plot\n",
    "        \n",
    "        ax.annotate(percentage, (x, y), size = 12) # Annotate the percantage \n",
    "    \n",
    "    plt.show() # Show the plot"
   ]
  },
  {
   "cell_type": "code",
   "execution_count": 24,
   "metadata": {},
   "outputs": [
    {
     "data": {
      "image/png": "[encoded data removed]",
      "text/plain": [
       "<Figure size 1500x500 with 1 Axes>"
      ]
     },
     "metadata": {},
     "output_type": "display_data"
    }
   ],
   "source": [
    "# Bar Plot for 'Location'\n",
    "perc_on_bar('Location')"
   ]
  },
  {
   "cell_type": "markdown",
   "metadata": {
    "id": "beo_tDmVhU3-"
   },
   "source": [
    "## **Bivariate Analysis**"
   ]
  },
  {
   "cell_type": "markdown",
   "metadata": {
    "id": "v1JvMEDfj6w1"
   },
   "source": [
    "**Questions:**\n",
    "\n",
    "1. Plot a scatter plot for the log transformed values(if log_transformation done in previous steps)?\n",
    "2. What can we infer form the correlation heatmap? Is there correlation between the dependent and independent variables?\n",
    "3. Plot a box plot for target variable and categorical variable 'Location' and write your observations?"
   ]
  },
  {
   "cell_type": "code",
   "execution_count": 25,
   "metadata": {
    "id": "sUUU3zskj6w1"
   },
   "outputs": [
    {
     "data": {
      "text/plain": [
       "<AxesSubplot:xlabel='Price_log'>"
      ]
     },
     "execution_count": 25,
     "metadata": {},
     "output_type": "execute_result"
    },
    {
     "data": {
      "image/png": "[encoded data removed]",
      "text/plain": [
       "<Figure size 640x480 with 1 Axes>"
      ]
     },
     "metadata": {},
     "output_type": "display_data"
    }
   ],
   "source": [
    "# Let us plot pair plot for the variables 'year' and 'price_log'\n",
    "data.plot(x = 'Price_log', y = 'Year', style = 'o')"
   ]
  },
  {
   "cell_type": "code",
   "execution_count": 26,
   "metadata": {},
   "outputs": [
    {
     "data": {
      "image/png": "[encoded data removed]",
      "text/plain": [
       "<Figure size 1200x700 with 2 Axes>"
      ]
     },
     "metadata": {},
     "output_type": "display_data"
    }
   ],
   "source": [
    "# We can include the log transformation values and drop the original skewed data columns\n",
    "plt.figure(figsize = (12, 7))\n",
    "\n",
    "sns.heatmap(data.drop([\"Kilometers_Driven\",\"Price\"],axis = 1).corr(), annot = True, vmin = -1, vmax = 1)\n",
    "\n",
    "plt.show()"
   ]
  },
  {
   "cell_type": "code",
   "execution_count": 27,
   "metadata": {},
   "outputs": [],
   "source": [
    "def boxplot(z):\n",
    "    \n",
    "    plt.figure(figsize = (12, 5)) # Setting size of boxplot\n",
    "    \n",
    "    sns.boxplot(x = z, y = data['Price']) # Defining x and y\n",
    "    \n",
    "    plt.show()\n",
    "    \n",
    "    plt.figure(figsize = (12, 5))\n",
    "    \n",
    "    plt.title('Without Outliers')\n",
    "    \n",
    "    sns.boxplot(x = z, y = data['Price'], showfliers = False) # Turning off the outliers\n",
    "    \n",
    "    plt.show()"
   ]
  },
  {
   "cell_type": "code",
   "execution_count": 28,
   "metadata": {},
   "outputs": [
    {
     "data": {
      "image/png": "[encoded data removed]",
      "text/plain": [
       "<Figure size 1200x500 with 1 Axes>"
      ]
     },
     "metadata": {},
     "output_type": "display_data"
    },
    {
     "data": {
      "image/png": "[encoded data removed]",
      "text/plain": [
       "<Figure size 1200x500 with 1 Axes>"
      ]
     },
     "metadata": {},
     "output_type": "display_data"
    }
   ],
   "source": [
    "# Box Plot: Price vs Location\n",
    "boxplot(data['Location'])"
   ]
  },
  {
   "cell_type": "markdown",
   "metadata": {
    "id": "70E7M7KJtOS1"
   },
   "source": [
    "### **Feature Engineering**"
   ]
  },
  {
   "cell_type": "markdown",
   "metadata": {
    "id": "TD7mqJI6tOS1"
   },
   "source": [
    "**Think about it:** The `Name` column in the current format might not be very useful in our analysis.\n",
    "Since the name contains both the brand name and the model name of the vehicle, the column would have too many unique values to be useful in prediction. Can we extract that information from that column? "
   ]
  },
  {
   "cell_type": "markdown",
   "metadata": {
    "id": "Z1bl_6rztOS1"
   },
   "source": [
    "* **Hint:** With 2041 unique names, car names are not going to be great predictors of the price in our current data. But we can process this column to extract important information for example brand name."
   ]
  },
  {
   "cell_type": "code",
   "execution_count": 29,
   "metadata": {
    "id": "_DYACQrnj6w2"
   },
   "outputs": [
    {
     "data": {
      "text/plain": [
       "0              maruti\n",
       "1             hyundai\n",
       "2               honda\n",
       "3              maruti\n",
       "4                audi\n",
       "            ...      \n",
       "7248       volkswagen\n",
       "7249       volkswagen\n",
       "7250           nissan\n",
       "7251       volkswagen\n",
       "7252    mercedes-benz\n",
       "Name: Name, Length: 7252, dtype: object"
      ]
     },
     "execution_count": 29,
     "metadata": {},
     "output_type": "execute_result"
    }
   ],
   "source": [
    "data[\"Name\"].apply(lambda x: x.split(\" \")[0].lower())"
   ]
  },
  {
   "cell_type": "code",
   "execution_count": 30,
   "metadata": {},
   "outputs": [],
   "source": [
    "# Extract Brand Names\n",
    "data[\"Brand\"] = data[\"Name\"].apply(lambda x: x.split(\" \")[0].lower())"
   ]
  },
  {
   "cell_type": "code",
   "execution_count": 31,
   "metadata": {},
   "outputs": [],
   "source": [
    "# Extract Model Names\n",
    "data[\"Model\"] = data[\"Name\"].apply(lambda x: x.split(\" \")[1].lower())"
   ]
  },
  {
   "cell_type": "code",
   "execution_count": 32,
   "metadata": {},
   "outputs": [
    {
     "data": {
      "text/html": [
       "<div>\n",
       "<style scoped>\n",
       "    .dataframe tbody tr th:only-of-type {\n",
       "        vertical-align: middle;\n",
       "    }\n",
       "\n",
       "    .dataframe tbody tr th {\n",
       "        vertical-align: top;\n",
       "    }\n",
       "\n",
       "    .dataframe thead th {\n",
       "        text-align: right;\n",
       "    }\n",
       "</style>\n",
       "<table border=\"1\" class=\"dataframe\">\n",
       "  <thead>\n",
       "    <tr style=\"text-align: right;\">\n",
       "      <th></th>\n",
       "      <th>Name</th>\n",
       "      <th>Location</th>\n",
       "      <th>Year</th>\n",
       "      <th>Kilometers_Driven</th>\n",
       "      <th>Fuel_Type</th>\n",
       "      <th>Transmission</th>\n",
       "      <th>Owner_Type</th>\n",
       "      <th>Mileage</th>\n",
       "      <th>Engine</th>\n",
       "      <th>Power</th>\n",
       "      <th>Seats</th>\n",
       "      <th>New_price</th>\n",
       "      <th>Price</th>\n",
       "      <th>kilometers_driven_log</th>\n",
       "      <th>Price_log</th>\n",
       "      <th>Brand</th>\n",
       "      <th>Model</th>\n",
       "    </tr>\n",
       "  </thead>\n",
       "  <tbody>\n",
       "    <tr>\n",
       "      <th>0</th>\n",
       "      <td>Maruti Wagon R LXI CNG</td>\n",
       "      <td>Mumbai</td>\n",
       "      <td>2010</td>\n",
       "      <td>72000</td>\n",
       "      <td>CNG</td>\n",
       "      <td>Manual</td>\n",
       "      <td>First</td>\n",
       "      <td>26.60</td>\n",
       "      <td>998.0</td>\n",
       "      <td>58.16</td>\n",
       "      <td>5.0</td>\n",
       "      <td>NaN</td>\n",
       "      <td>1.75</td>\n",
       "      <td>11.184421</td>\n",
       "      <td>0.559616</td>\n",
       "      <td>maruti</td>\n",
       "      <td>wagon</td>\n",
       "    </tr>\n",
       "    <tr>\n",
       "      <th>1</th>\n",
       "      <td>Hyundai Creta 1.6 CRDi SX Option</td>\n",
       "      <td>Pune</td>\n",
       "      <td>2015</td>\n",
       "      <td>41000</td>\n",
       "      <td>Diesel</td>\n",
       "      <td>Manual</td>\n",
       "      <td>First</td>\n",
       "      <td>19.67</td>\n",
       "      <td>1582.0</td>\n",
       "      <td>126.20</td>\n",
       "      <td>5.0</td>\n",
       "      <td>NaN</td>\n",
       "      <td>12.50</td>\n",
       "      <td>10.621327</td>\n",
       "      <td>2.525729</td>\n",
       "      <td>hyundai</td>\n",
       "      <td>creta</td>\n",
       "    </tr>\n",
       "    <tr>\n",
       "      <th>2</th>\n",
       "      <td>Honda Jazz V</td>\n",
       "      <td>Chennai</td>\n",
       "      <td>2011</td>\n",
       "      <td>46000</td>\n",
       "      <td>Petrol</td>\n",
       "      <td>Manual</td>\n",
       "      <td>First</td>\n",
       "      <td>18.20</td>\n",
       "      <td>1199.0</td>\n",
       "      <td>88.70</td>\n",
       "      <td>5.0</td>\n",
       "      <td>8.61</td>\n",
       "      <td>4.50</td>\n",
       "      <td>10.736397</td>\n",
       "      <td>1.504077</td>\n",
       "      <td>honda</td>\n",
       "      <td>jazz</td>\n",
       "    </tr>\n",
       "    <tr>\n",
       "      <th>3</th>\n",
       "      <td>Maruti Ertiga VDI</td>\n",
       "      <td>Chennai</td>\n",
       "      <td>2012</td>\n",
       "      <td>87000</td>\n",
       "      <td>Diesel</td>\n",
       "      <td>Manual</td>\n",
       "      <td>First</td>\n",
       "      <td>20.77</td>\n",
       "      <td>1248.0</td>\n",
       "      <td>88.76</td>\n",
       "      <td>7.0</td>\n",
       "      <td>NaN</td>\n",
       "      <td>6.00</td>\n",
       "      <td>11.373663</td>\n",
       "      <td>1.791759</td>\n",
       "      <td>maruti</td>\n",
       "      <td>ertiga</td>\n",
       "    </tr>\n",
       "    <tr>\n",
       "      <th>4</th>\n",
       "      <td>Audi A4 New 2.0 TDI Multitronic</td>\n",
       "      <td>Coimbatore</td>\n",
       "      <td>2013</td>\n",
       "      <td>40670</td>\n",
       "      <td>Diesel</td>\n",
       "      <td>Automatic</td>\n",
       "      <td>Second</td>\n",
       "      <td>15.20</td>\n",
       "      <td>1968.0</td>\n",
       "      <td>140.80</td>\n",
       "      <td>5.0</td>\n",
       "      <td>NaN</td>\n",
       "      <td>17.74</td>\n",
       "      <td>10.613246</td>\n",
       "      <td>2.875822</td>\n",
       "      <td>audi</td>\n",
       "      <td>a4</td>\n",
       "    </tr>\n",
       "  </tbody>\n",
       "</table>\n",
       "</div>"
      ],
      "text/plain": [
       "                               Name    Location  Year  Kilometers_Driven  \\\n",
       "0            Maruti Wagon R LXI CNG      Mumbai  2010              72000   \n",
       "1  Hyundai Creta 1.6 CRDi SX Option        Pune  2015              41000   \n",
       "2                      Honda Jazz V     Chennai  2011              46000   \n",
       "3                 Maruti Ertiga VDI     Chennai  2012              87000   \n",
       "4   Audi A4 New 2.0 TDI Multitronic  Coimbatore  2013              40670   \n",
       "\n",
       "  Fuel_Type Transmission Owner_Type  Mileage  Engine   Power  Seats  \\\n",
       "0       CNG       Manual      First    26.60   998.0   58.16    5.0   \n",
       "1    Diesel       Manual      First    19.67  1582.0  126.20    5.0   \n",
       "2    Petrol       Manual      First    18.20  1199.0   88.70    5.0   \n",
       "3    Diesel       Manual      First    20.77  1248.0   88.76    7.0   \n",
       "4    Diesel    Automatic     Second    15.20  1968.0  140.80    5.0   \n",
       "\n",
       "   New_price  Price  kilometers_driven_log  Price_log    Brand   Model  \n",
       "0        NaN   1.75              11.184421   0.559616   maruti   wagon  \n",
       "1        NaN  12.50              10.621327   2.525729  hyundai   creta  \n",
       "2       8.61   4.50              10.736397   1.504077    honda    jazz  \n",
       "3        NaN   6.00              11.373663   1.791759   maruti  ertiga  \n",
       "4        NaN  17.74              10.613246   2.875822     audi      a4  "
      ]
     },
     "execution_count": 32,
     "metadata": {},
     "output_type": "execute_result"
    }
   ],
   "source": [
    "data.head()"
   ]
  },
  {
   "cell_type": "code",
   "execution_count": 33,
   "metadata": {},
   "outputs": [
    {
     "data": {
      "text/html": [
       "<div>\n",
       "<style scoped>\n",
       "    .dataframe tbody tr th:only-of-type {\n",
       "        vertical-align: middle;\n",
       "    }\n",
       "\n",
       "    .dataframe tbody tr th {\n",
       "        vertical-align: top;\n",
       "    }\n",
       "\n",
       "    .dataframe thead th {\n",
       "        text-align: right;\n",
       "    }\n",
       "</style>\n",
       "<table border=\"1\" class=\"dataframe\">\n",
       "  <thead>\n",
       "    <tr style=\"text-align: right;\">\n",
       "      <th></th>\n",
       "      <th>Name</th>\n",
       "      <th>Location</th>\n",
       "      <th>Year</th>\n",
       "      <th>Kilometers_Driven</th>\n",
       "      <th>Fuel_Type</th>\n",
       "      <th>Transmission</th>\n",
       "      <th>Owner_Type</th>\n",
       "      <th>Mileage</th>\n",
       "      <th>Engine</th>\n",
       "      <th>Power</th>\n",
       "      <th>Seats</th>\n",
       "      <th>New_price</th>\n",
       "      <th>Price</th>\n",
       "      <th>kilometers_driven_log</th>\n",
       "      <th>Price_log</th>\n",
       "      <th>Brand</th>\n",
       "      <th>Model</th>\n",
       "    </tr>\n",
       "  </thead>\n",
       "  <tbody>\n",
       "    <tr>\n",
       "      <th>7248</th>\n",
       "      <td>Volkswagen Vento Diesel Trendline</td>\n",
       "      <td>Hyderabad</td>\n",
       "      <td>2011</td>\n",
       "      <td>89411</td>\n",
       "      <td>Diesel</td>\n",
       "      <td>Manual</td>\n",
       "      <td>First</td>\n",
       "      <td>20.54</td>\n",
       "      <td>1598.0</td>\n",
       "      <td>103.6</td>\n",
       "      <td>5.0</td>\n",
       "      <td>NaN</td>\n",
       "      <td>NaN</td>\n",
       "      <td>11.400999</td>\n",
       "      <td>NaN</td>\n",
       "      <td>volkswagen</td>\n",
       "      <td>vento</td>\n",
       "    </tr>\n",
       "    <tr>\n",
       "      <th>7249</th>\n",
       "      <td>Volkswagen Polo GT TSI</td>\n",
       "      <td>Mumbai</td>\n",
       "      <td>2015</td>\n",
       "      <td>59000</td>\n",
       "      <td>Petrol</td>\n",
       "      <td>Automatic</td>\n",
       "      <td>First</td>\n",
       "      <td>17.21</td>\n",
       "      <td>1197.0</td>\n",
       "      <td>103.6</td>\n",
       "      <td>5.0</td>\n",
       "      <td>NaN</td>\n",
       "      <td>NaN</td>\n",
       "      <td>10.985293</td>\n",
       "      <td>NaN</td>\n",
       "      <td>volkswagen</td>\n",
       "      <td>polo</td>\n",
       "    </tr>\n",
       "    <tr>\n",
       "      <th>7250</th>\n",
       "      <td>Nissan Micra Diesel XV</td>\n",
       "      <td>Kolkata</td>\n",
       "      <td>2012</td>\n",
       "      <td>28000</td>\n",
       "      <td>Diesel</td>\n",
       "      <td>Manual</td>\n",
       "      <td>First</td>\n",
       "      <td>23.08</td>\n",
       "      <td>1461.0</td>\n",
       "      <td>63.1</td>\n",
       "      <td>5.0</td>\n",
       "      <td>NaN</td>\n",
       "      <td>NaN</td>\n",
       "      <td>10.239960</td>\n",
       "      <td>NaN</td>\n",
       "      <td>nissan</td>\n",
       "      <td>micra</td>\n",
       "    </tr>\n",
       "    <tr>\n",
       "      <th>7251</th>\n",
       "      <td>Volkswagen Polo GT TSI</td>\n",
       "      <td>Pune</td>\n",
       "      <td>2013</td>\n",
       "      <td>52262</td>\n",
       "      <td>Petrol</td>\n",
       "      <td>Automatic</td>\n",
       "      <td>Third</td>\n",
       "      <td>17.20</td>\n",
       "      <td>1197.0</td>\n",
       "      <td>103.6</td>\n",
       "      <td>5.0</td>\n",
       "      <td>NaN</td>\n",
       "      <td>NaN</td>\n",
       "      <td>10.864025</td>\n",
       "      <td>NaN</td>\n",
       "      <td>volkswagen</td>\n",
       "      <td>polo</td>\n",
       "    </tr>\n",
       "    <tr>\n",
       "      <th>7252</th>\n",
       "      <td>Mercedes-Benz E-Class 2009-2013 E 220 CDI Avan...</td>\n",
       "      <td>Kochi</td>\n",
       "      <td>2014</td>\n",
       "      <td>72443</td>\n",
       "      <td>Diesel</td>\n",
       "      <td>Automatic</td>\n",
       "      <td>First</td>\n",
       "      <td>10.00</td>\n",
       "      <td>2148.0</td>\n",
       "      <td>170.0</td>\n",
       "      <td>5.0</td>\n",
       "      <td>NaN</td>\n",
       "      <td>NaN</td>\n",
       "      <td>11.190555</td>\n",
       "      <td>NaN</td>\n",
       "      <td>mercedes-benz</td>\n",
       "      <td>e-class</td>\n",
       "    </tr>\n",
       "  </tbody>\n",
       "</table>\n",
       "</div>"
      ],
      "text/plain": [
       "                                                   Name   Location  Year  \\\n",
       "7248                  Volkswagen Vento Diesel Trendline  Hyderabad  2011   \n",
       "7249                             Volkswagen Polo GT TSI     Mumbai  2015   \n",
       "7250                             Nissan Micra Diesel XV    Kolkata  2012   \n",
       "7251                             Volkswagen Polo GT TSI       Pune  2013   \n",
       "7252  Mercedes-Benz E-Class 2009-2013 E 220 CDI Avan...      Kochi  2014   \n",
       "\n",
       "      Kilometers_Driven Fuel_Type Transmission Owner_Type  Mileage  Engine  \\\n",
       "7248              89411    Diesel       Manual      First    20.54  1598.0   \n",
       "7249              59000    Petrol    Automatic      First    17.21  1197.0   \n",
       "7250              28000    Diesel       Manual      First    23.08  1461.0   \n",
       "7251              52262    Petrol    Automatic      Third    17.20  1197.0   \n",
       "7252              72443    Diesel    Automatic      First    10.00  2148.0   \n",
       "\n",
       "      Power  Seats  New_price  Price  kilometers_driven_log  Price_log  \\\n",
       "7248  103.6    5.0        NaN    NaN              11.400999        NaN   \n",
       "7249  103.6    5.0        NaN    NaN              10.985293        NaN   \n",
       "7250   63.1    5.0        NaN    NaN              10.239960        NaN   \n",
       "7251  103.6    5.0        NaN    NaN              10.864025        NaN   \n",
       "7252  170.0    5.0        NaN    NaN              11.190555        NaN   \n",
       "\n",
       "              Brand    Model  \n",
       "7248     volkswagen    vento  \n",
       "7249     volkswagen     polo  \n",
       "7250         nissan    micra  \n",
       "7251     volkswagen     polo  \n",
       "7252  mercedes-benz  e-class  "
      ]
     },
     "execution_count": 33,
     "metadata": {},
     "output_type": "execute_result"
    }
   ],
   "source": [
    "data.tail()"
   ]
  },
  {
   "cell_type": "markdown",
   "metadata": {
    "id": "2N4fU3TetOS3"
   },
   "source": [
    "### **Missing value treatment**"
   ]
  },
  {
   "cell_type": "code",
   "execution_count": 34,
   "metadata": {
    "id": "fqZJaxW-tOS4"
   },
   "outputs": [
    {
     "data": {
      "text/plain": [
       "Name                        0\n",
       "Location                    0\n",
       "Year                        0\n",
       "Kilometers_Driven           0\n",
       "Fuel_Type                   0\n",
       "Transmission                0\n",
       "Owner_Type                  0\n",
       "Mileage                     2\n",
       "Engine                     46\n",
       "Power                     175\n",
       "Seats                      53\n",
       "New_price                6246\n",
       "Price                    1234\n",
       "kilometers_driven_log       0\n",
       "Price_log                1234\n",
       "Brand                       0\n",
       "Model                       0\n",
       "dtype: int64"
      ]
     },
     "execution_count": 34,
     "metadata": {},
     "output_type": "execute_result"
    }
   ],
   "source": [
    "data.isnull().sum() # Now check the missing values of each column. Hint: Use isnull() method"
   ]
  },
  {
   "cell_type": "code",
   "execution_count": 35,
   "metadata": {},
   "outputs": [
    {
     "data": {
      "text/plain": [
       "53"
      ]
     },
     "execution_count": 35,
     "metadata": {},
     "output_type": "execute_result"
    }
   ],
   "source": [
    "data['Seats'].isnull().sum() # Checking missing values in the column 'Seats'"
   ]
  },
  {
   "cell_type": "code",
   "execution_count": 36,
   "metadata": {},
   "outputs": [],
   "source": [
    "data[\"Seats\"] = data.groupby([\"Brand\", \"Model\"])[\"Seats\"].transform(lambda x: x.fillna(x.median()))\n",
    "# Impute missing values in Seats,you can use fillna method in pandas"
   ]
  },
  {
   "cell_type": "code",
   "execution_count": 37,
   "metadata": {},
   "outputs": [
    {
     "data": {
      "text/plain": [
       "3"
      ]
     },
     "execution_count": 37,
     "metadata": {},
     "output_type": "execute_result"
    }
   ],
   "source": [
    "data[\"Seats\"].isnull().sum()\n",
    "# Now check total number of missing values of the seat column to verify if they are imputed or not. Hint: Use isnull() method"
   ]
  },
  {
   "cell_type": "code",
   "execution_count": 38,
   "metadata": {},
   "outputs": [],
   "source": [
    "data[\"Seats\"] = data[\"Seats\"].fillna(5.0)\n",
    "# fill NaN values with 5.0"
   ]
  },
  {
   "cell_type": "code",
   "execution_count": 39,
   "metadata": {},
   "outputs": [
    {
     "data": {
      "text/plain": [
       "2"
      ]
     },
     "execution_count": 39,
     "metadata": {},
     "output_type": "execute_result"
    }
   ],
   "source": [
    "data[\"Mileage\"].isnull().sum()\n",
    "# Now check missing values of each column. Hint: Use isnull() method"
   ]
  },
  {
   "cell_type": "code",
   "execution_count": 40,
   "metadata": {},
   "outputs": [],
   "source": [
    "data[\"Mileage\"].fillna(data['Mileage'].median(),inplace=True)\n",
    "# Impute missing Mileage. For example, use can use median or any other methods."
   ]
  },
  {
   "cell_type": "code",
   "execution_count": 41,
   "metadata": {},
   "outputs": [
    {
     "data": {
      "text/plain": [
       "0"
      ]
     },
     "execution_count": 41,
     "metadata": {},
     "output_type": "execute_result"
    }
   ],
   "source": [
    "data[\"Mileage\"].isnull().sum()\n",
    "# Now check total number of missing values of the seat column to verify if they are imputed or not. Hint: Use isnull() method"
   ]
  },
  {
   "cell_type": "code",
   "execution_count": 42,
   "metadata": {},
   "outputs": [],
   "source": [
    "data[\"Engine\"].fillna(data['Engine'].median(),inplace=True)\n",
    "# Impute missing values in the column Engine"
   ]
  },
  {
   "cell_type": "code",
   "execution_count": 43,
   "metadata": {},
   "outputs": [],
   "source": [
    "data[\"Power\"].fillna(data['Power'].median(),inplace=True)\n",
    "# Impute missing values in the column Power"
   ]
  },
  {
   "cell_type": "code",
   "execution_count": 44,
   "metadata": {},
   "outputs": [],
   "source": [
    "data[\"New_price\"].fillna(data['New_price'].median(),inplace=True)\n",
    "# Impute missing values in the column New_price"
   ]
  },
  {
   "cell_type": "code",
   "execution_count": 45,
   "metadata": {},
   "outputs": [],
   "source": [
    "cars_data = data[data[\"Price\"].notna()]\n",
    "\n",
    "# Drop the rows where 'Price' == NaN"
   ]
  },
  {
   "cell_type": "code",
   "execution_count": 46,
   "metadata": {
    "scrolled": true
   },
   "outputs": [
    {
     "data": {
      "text/plain": [
       "Name                     0\n",
       "Location                 0\n",
       "Year                     0\n",
       "Kilometers_Driven        0\n",
       "Fuel_Type                0\n",
       "Transmission             0\n",
       "Owner_Type               0\n",
       "Mileage                  0\n",
       "Engine                   0\n",
       "Power                    0\n",
       "Seats                    0\n",
       "New_price                0\n",
       "Price                    0\n",
       "kilometers_driven_log    0\n",
       "Price_log                0\n",
       "Brand                    0\n",
       "Model                    0\n",
       "dtype: int64"
      ]
     },
     "execution_count": 46,
     "metadata": {},
     "output_type": "execute_result"
    }
   ],
   "source": [
    "cars_data.isnull().sum()\n",
    "# Check the null values in the data"
   ]
  },
  {
   "cell_type": "markdown",
   "metadata": {},
   "source": [
    "**Observations: After imputing, there are no null values left so we can build models.**"
   ]
  },
  {
   "cell_type": "markdown",
   "metadata": {
    "id": "xo3_cE10kLy_"
   },
   "source": [
    "## **Important Insights from EDA and Data Preprocessing**\n",
    "\n",
    "What are the the most important observations and insights from the data based on the EDA and Data Preprocessing performed?"
   ]
  },
  {
   "cell_type": "markdown",
   "metadata": {
    "id": "Rzh8pcvmtOS8"
   },
   "source": [
    "## **Building Various Models**\n",
    "\n",
    "\n",
    "1. What we want to predict is the \"Price\". We will use the normalized version 'price_log' for modeling.\n",
    "2. Before we proceed to the model, we'll have to encode categorical features. We will drop categorical features like Name. \n",
    "3. We'll split the data into train and test, to be able to evaluate the model that we build on the train data.\n",
    "4. Build Regression models using train data.\n",
    "5. Evaluate the model performance."
   ]
  },
  {
   "cell_type": "markdown",
   "metadata": {
    "id": "0L-oAMItxLP-"
   },
   "source": [
    "### **Split the Data**"
   ]
  },
  {
   "cell_type": "markdown",
   "metadata": {
    "id": "Aat-Ne-ZVL3e"
   },
   "source": [
    "<li>Step1: Seperating the indepdent variables (X) and the dependent variable (y). \n",
    "<li>Step2: Encode the categorical variables in X using pd.dummies.\n",
    "<li>Step3: Split the data into train and test using train_test_split."
   ]
  },
  {
   "cell_type": "markdown",
   "metadata": {
    "id": "Cwh_IhfqVL3f"
   },
   "source": [
    "**Question:** \n",
    "\n",
    "1. Why we should drop 'Name','Price','price_log','Kilometers_Driven' from X before splitting? We should be dropping skewed data or name data that is not helpful."
   ]
  },
  {
   "cell_type": "code",
   "execution_count": 47,
   "metadata": {
    "id": "a4bHKtUwj6w3"
   },
   "outputs": [],
   "source": [
    "# Step-1\n",
    "X = cars_data.drop(['Name','Price','Price_log','Kilometers_Driven'], axis = 1)\n",
    "\n",
    "y = cars_data[[\"Price_log\", \"Price\"]]"
   ]
  },
  {
   "cell_type": "code",
   "execution_count": 48,
   "metadata": {},
   "outputs": [],
   "source": [
    "# Step-2 Use pd.get_dummies(drop_first = True)\n",
    "X = pd.get_dummies(X, drop_first = True)"
   ]
  },
  {
   "cell_type": "code",
   "execution_count": 49,
   "metadata": {},
   "outputs": [
    {
     "name": "stdout",
     "output_type": "stream",
     "text": [
      "(4212, 264) (1806, 264)\n"
     ]
    }
   ],
   "source": [
    " #Step-3 Splitting data into training and test set:\n",
    "from sklearn.model_selection import train_test_split\n",
    "\n",
    "X_train, X_test, y_train, y_test = train_test_split(X, y, test_size = 0.3, random_state = 1)\n",
    "\n",
    "print(X_train.shape, X_test.shape)"
   ]
  },
  {
   "cell_type": "code",
   "execution_count": 50,
   "metadata": {},
   "outputs": [],
   "source": [
    "from sklearn import metrics"
   ]
  },
  {
   "cell_type": "code",
   "execution_count": 51,
   "metadata": {},
   "outputs": [],
   "source": [
    "##  Function to calculate r2_score and RMSE on train and test data\n",
    "def get_model_score(model, flag=True):\n",
    "    '''\n",
    "    model : classifier to predict values of X\n",
    "\n",
    "    '''\n",
    "    # defining an empty list to store train and test results\n",
    "    score_list=[] \n",
    "    \n",
    "    pred_train = model.predict(X_train)\n",
    "    pred_train_ = np.exp(pred_train)\n",
    "    pred_test = model.predict(X_test)\n",
    "    pred_test_ = np.exp(pred_test)\n",
    "    \n",
    "    train_r2=metrics.r2_score(y_train['Price'],pred_train_)\n",
    "    test_r2=metrics.r2_score(y_test['Price'],pred_test_)\n",
    "    train_rmse=metrics.mean_squared_error(y_train['Price'],pred_train_,squared=False)\n",
    "    test_rmse=metrics.mean_squared_error(y_test['Price'],pred_test_,squared=False)\n",
    "    \n",
    "    #Adding all scores in the list\n",
    "    score_list.extend((train_r2,test_r2,train_rmse,test_rmse))\n",
    "    \n",
    "    # If the flag is set to True then only the following print statements will be dispayed, the default value is True\n",
    "    if flag==True: \n",
    "        print(\"R-sqaure on training set : \",metrics.r2_score(y_train['Price'],pred_train_))\n",
    "        print(\"R-square on test set : \",metrics.r2_score(y_test['Price'],pred_test_))\n",
    "        print(\"RMSE on training set : \",np.sqrt(metrics.mean_squared_error(y_train['Price'],pred_train_)))\n",
    "        print(\"RMSE on test set : \",np.sqrt(metrics.mean_squared_error(y_test['Price'],pred_test_)))\n",
    "    \n",
    "    # returning the list with train and test scores\n",
    "    return score_list"
   ]
  },
  {
   "cell_type": "markdown",
   "metadata": {
    "id": "gaj2riZFVL3g"
   },
   "source": [
    "For Regression Problems, some of the algorithms used are :<br>\n",
    "\n",
    "**1) Linear Regression** <br>\n",
    "**2) Ridge / Lasso Regression** <br>\n",
    "**3) Decision Trees** <br>\n",
    "**4) Random Forest** <br>"
   ]
  },
  {
   "cell_type": "markdown",
   "metadata": {},
   "source": [
    "**Linear Regression Model**"
   ]
  },
  {
   "cell_type": "code",
   "execution_count": 52,
   "metadata": {
    "id": "hJpC5Zrej6w3"
   },
   "outputs": [],
   "source": [
    "# Import Linear Regression from sklearn\n",
    "from sklearn.linear_model import LinearRegression"
   ]
  },
  {
   "cell_type": "code",
   "execution_count": 53,
   "metadata": {},
   "outputs": [],
   "source": [
    "# Create a linear regression model\n",
    "lr = LinearRegression()"
   ]
  },
  {
   "cell_type": "code",
   "execution_count": 54,
   "metadata": {},
   "outputs": [
    {
     "data": {
      "text/plain": [
       "LinearRegression()"
      ]
     },
     "execution_count": 54,
     "metadata": {},
     "output_type": "execute_result"
    }
   ],
   "source": [
    " #Fit linear regression model\n",
    "lr.fit(X_train, y_train['Price_log']) "
   ]
  },
  {
   "cell_type": "code",
   "execution_count": 55,
   "metadata": {},
   "outputs": [
    {
     "data": {
      "text/plain": [
       "Index(['Year', 'Mileage', 'Engine', 'Power', 'Seats', 'New_price',\n",
       "       'kilometers_driven_log', 'Location_Bangalore', 'Location_Chennai',\n",
       "       'Location_Coimbatore',\n",
       "       ...\n",
       "       'Model_xenon', 'Model_xf', 'Model_xj', 'Model_xuv300', 'Model_xuv500',\n",
       "       'Model_xylo', 'Model_yeti', 'Model_z4', 'Model_zen', 'Model_zest'],\n",
       "      dtype='object', length=264)"
      ]
     },
     "execution_count": 55,
     "metadata": {},
     "output_type": "execute_result"
    }
   ],
   "source": [
    "X.columns"
   ]
  },
  {
   "cell_type": "code",
   "execution_count": 56,
   "metadata": {},
   "outputs": [
    {
     "name": "stdout",
     "output_type": "stream",
     "text": [
      "R-sqaure on training set :  0.9399395114403347\n",
      "R-square on test set :  0.8687919879678623\n",
      "RMSE on training set :  2.738077260682629\n",
      "RMSE on test set :  4.0370080460818825\n"
     ]
    }
   ],
   "source": [
    "# Get score of the model\n",
    "LR_score = get_model_score(lr)"
   ]
  },
  {
   "cell_type": "code",
   "execution_count": 57,
   "metadata": {
    "id": "AxBifx0pj6w3"
   },
   "outputs": [
    {
     "name": "stdout",
     "output_type": "stream",
     "text": [
      "                            OLS Regression Results                            \n",
      "==============================================================================\n",
      "Dep. Variable:              Price_log   R-squared:                       0.959\n",
      "Model:                            OLS   Adj. R-squared:                  0.956\n",
      "Method:                 Least Squares   F-statistic:                     406.7\n",
      "Date:                Sat, 22 Apr 2023   Prob (F-statistic):               0.00\n",
      "Time:                        05:10:45   Log-Likelihood:                 1322.4\n",
      "No. Observations:                4212   AIC:                            -2187.\n",
      "Df Residuals:                    3983   BIC:                            -733.7\n",
      "Df Model:                         228                                         \n",
      "Covariance Type:            nonrobust                                         \n",
      "=============================================================================================\n",
      "                                coef    std err          t      P>|t|      [0.025      0.975]\n",
      "---------------------------------------------------------------------------------------------\n",
      "const                      -205.0772      2.873    -71.380      0.000    -210.710    -199.444\n",
      "Year                          0.1076      0.001     73.016      0.000       0.105       0.110\n",
      "Mileage                       0.0003      0.001      0.170      0.865      -0.003       0.003\n",
      "Engine                    -8.266e-05   2.21e-05     -3.744      0.000      -0.000   -3.94e-05\n",
      "Power                         0.0024      0.000     10.413      0.000       0.002       0.003\n",
      "Seats                         0.0030      0.015      0.203      0.839      -0.026       0.032\n",
      "New_price                    -0.0008      0.000     -2.250      0.025      -0.002      -0.000\n",
      "kilometers_driven_log        -0.0738      0.006    -13.127      0.000      -0.085      -0.063\n",
      "Location_Bangalore            0.1841      0.019      9.803      0.000       0.147       0.221\n",
      "Location_Chennai              0.0588      0.018      3.278      0.001       0.024       0.094\n",
      "Location_Coimbatore           0.1518      0.017      8.882      0.000       0.118       0.185\n",
      "Location_Delhi               -0.0822      0.017     -4.749      0.000      -0.116      -0.048\n",
      "Location_Hyderabad            0.1471      0.017      8.835      0.000       0.114       0.180\n",
      "Location_Jaipur              -0.0199      0.018     -1.089      0.276      -0.056       0.016\n",
      "Location_Kochi               -0.0177      0.017     -1.036      0.300      -0.051       0.016\n",
      "Location_Kolkata             -0.2205      0.018    -12.588      0.000      -0.255      -0.186\n",
      "Location_Mumbai              -0.0513      0.017     -3.089      0.002      -0.084      -0.019\n",
      "Location_Pune                -0.0249      0.017     -1.455      0.146      -0.058       0.009\n",
      "Fuel_Type_Diesel              0.0622      0.033      1.897      0.058      -0.002       0.126\n",
      "Fuel_Type_Electric           -0.2873      0.087     -3.285      0.001      -0.459      -0.116\n",
      "Fuel_Type_LPG                -0.0449      0.076     -0.587      0.557      -0.195       0.105\n",
      "Fuel_Type_Petrol             -0.0528      0.034     -1.566      0.117      -0.119       0.013\n",
      "Transmission_Manual          -0.1180      0.010    -11.545      0.000      -0.138      -0.098\n",
      "Owner_Type_Fourth & Above    -0.1131      0.087     -1.303      0.193      -0.283       0.057\n",
      "Owner_Type_Second            -0.0547      0.008     -6.496      0.000      -0.071      -0.038\n",
      "Owner_Type_Third             -0.1371      0.022     -6.208      0.000      -0.180      -0.094\n",
      "Brand_audi                   -6.9964      0.112    -62.302      0.000      -7.217      -6.776\n",
      "Brand_bentley                -3.3760      0.111    -30.283      0.000      -3.595      -3.157\n",
      "Brand_bmw                    -8.2974      0.157    -52.700      0.000      -8.606      -7.989\n",
      "Brand_chevrolet              -8.4187      0.113    -74.220      0.000      -8.641      -8.196\n",
      "Brand_datsun                 -7.4598      0.108    -68.863      0.000      -7.672      -7.247\n",
      "Brand_fiat                   -8.1605      0.112    -72.965      0.000      -8.380      -7.941\n",
      "Brand_force                  -4.2500      0.091    -46.906      0.000      -4.428      -4.072\n",
      "Brand_ford                   -7.9753      0.112    -70.989      0.000      -8.196      -7.755\n",
      "Brand_honda                  -8.2728      0.115    -72.168      0.000      -8.498      -8.048\n",
      "Brand_hyundai                -9.2724      0.169    -54.977      0.000      -9.603      -8.942\n",
      "Brand_isuzu                  -5.7297      0.114    -50.417      0.000      -5.953      -5.507\n",
      "Brand_jaguar                 -5.5886      0.105    -53.012      0.000      -5.795      -5.382\n",
      "Brand_jeep                   -4.2262      0.068    -61.836      0.000      -4.360      -4.092\n",
      "Brand_lamborghini            -3.2198      0.114    -28.262      0.000      -3.443      -2.996\n",
      "Brand_land                   -3.7910      0.064    -58.817      0.000      -3.917      -3.665\n",
      "Brand_mahindra               -8.4927      0.121    -69.946      0.000      -8.731      -8.255\n",
      "Brand_maruti                 -8.6044      0.134    -64.240      0.000      -8.867      -8.342\n",
      "Brand_mercedes-benz          -7.3707      0.131    -56.200      0.000      -7.628      -7.114\n",
      "Brand_mini                   -5.9276      0.112    -53.145      0.000      -6.146      -5.709\n",
      "Brand_mitsubishi             -6.7219      0.113    -59.511      0.000      -6.943      -6.500\n",
      "Brand_nissan                 -7.7320      0.114    -67.844      0.000      -7.955      -7.509\n",
      "Brand_porsche                -5.4420      0.106    -51.397      0.000      -5.650      -5.234\n",
      "Brand_renault                -8.1380      0.114    -71.665      0.000      -8.361      -7.915\n",
      "Brand_skoda                  -7.6235      0.105    -72.806      0.000      -7.829      -7.418\n",
      "Brand_smart                  -4.5407      0.111    -41.090      0.000      -4.757      -4.324\n",
      "Brand_tata                   -8.5008      0.147    -57.785      0.000      -8.789      -8.212\n",
      "Brand_toyota                 -7.2912      0.112    -65.096      0.000      -7.511      -7.072\n",
      "Brand_volkswagen             -7.7943      0.112    -69.647      0.000      -8.014      -7.575\n",
      "Brand_volvo                  -6.8064      0.113    -60.073      0.000      -7.029      -6.584\n",
      "Model_1000                 1.144e-13   1.74e-15     65.874      0.000    1.11e-13    1.18e-13\n",
      "Model_3                       0.1245      0.108      1.154      0.248      -0.087       0.336\n",
      "Model_5                       0.4145      0.109      3.811      0.000       0.201       0.628\n",
      "Model_6                       0.8273      0.154      5.364      0.000       0.525       1.130\n",
      "Model_7                       0.8415      0.124      6.765      0.000       0.598       1.085\n",
      "Model_800                    -1.3895      0.093    -15.018      0.000      -1.571      -1.208\n",
      "Model_a                      -0.8435      0.107     -7.856      0.000      -1.054      -0.633\n",
      "Model_a-star                 -0.8198      0.086     -9.558      0.000      -0.988      -0.652\n",
      "Model_a3                     -1.2102      0.089    -13.644      0.000      -1.384      -1.036\n",
      "Model_a4                     -1.1084      0.040    -27.795      0.000      -1.187      -1.030\n",
      "Model_a6                     -0.9741      0.042    -23.116      0.000      -1.057      -0.891\n",
      "Model_a7                  -1.268e-14   3.89e-16    -32.621      0.000   -1.34e-14   -1.19e-14\n",
      "Model_a8                     -0.0550      0.166     -0.331      0.741      -0.381       0.271\n",
      "Model_accent                 -0.2959      0.135     -2.199      0.028      -0.560      -0.032\n",
      "Model_accord                 -0.5352      0.049    -10.860      0.000      -0.632      -0.439\n",
      "Model_alto                   -1.0896      0.064    -17.003      0.000      -1.215      -0.964\n",
      "Model_amaze                  -1.0007      0.033    -30.615      0.000      -1.065      -0.937\n",
      "Model_ameo                   -1.4938      0.056    -26.711      0.000      -1.603      -1.384\n",
      "Model_aspire                 -1.1746      0.090    -13.002      0.000      -1.352      -0.998\n",
      "Model_aveo                   -1.1756      0.061    -19.290      0.000      -1.295      -1.056\n",
      "Model_avventura              -1.0253      0.102    -10.020      0.000      -1.226      -0.825\n",
      "Model_b                      -0.9239      0.102     -9.020      0.000      -1.125      -0.723\n",
      "Model_baleno                 -0.5915      0.067     -8.854      0.000      -0.722      -0.461\n",
      "Model_beat                   -1.2149      0.044    -27.372      0.000      -1.302      -1.128\n",
      "Model_beetle              -6.001e-15   5.75e-16    -10.431      0.000   -7.13e-15   -4.87e-15\n",
      "Model_bolero                 -0.3770      0.065     -5.801      0.000      -0.504      -0.250\n",
      "Model_bolt                   -1.0669      0.142     -7.513      0.000      -1.345      -0.789\n",
      "Model_boxster              2.248e-15   2.48e-16      9.058      0.000    1.76e-15    2.73e-15\n",
      "Model_br-v                   -0.7845      0.122     -6.407      0.000      -1.025      -0.544\n",
      "Model_brio                   -1.1059      0.038    -29.074      0.000      -1.180      -1.031\n",
      "Model_brv                    -0.6905      0.082     -8.447      0.000      -0.851      -0.530\n",
      "Model_c-class                -0.7132      0.148     -4.805      0.000      -1.004      -0.422\n",
      "Model_camry                  -0.9502      0.079    -12.096      0.000      -1.104      -0.796\n",
      "Model_captiva                -0.5991      0.167     -3.590      0.000      -0.926      -0.272\n",
      "Model_captur                 -0.7717      0.120     -6.449      0.000      -1.006      -0.537\n",
      "Model_cayenne                -2.6449      0.083    -31.918      0.000      -2.807      -2.482\n",
      "Model_cayman                 -1.2145      0.149     -8.132      0.000      -1.507      -0.922\n",
      "Model_cedia               -2.779e-15   4.25e-16     -6.542      0.000   -3.61e-15   -1.95e-15\n",
      "Model_celerio                -0.8931      0.067    -13.287      0.000      -1.025      -0.761\n",
      "Model_ciaz                   -0.3821      0.066     -5.753      0.000      -0.512      -0.252\n",
      "Model_city                   -0.6895      0.027    -25.272      0.000      -0.743      -0.636\n",
      "Model_civic                  -0.7739      0.041    -19.066      0.000      -0.853      -0.694\n",
      "Model_cla                    -0.6875      0.087     -7.887      0.000      -0.858      -0.517\n",
      "Model_classic                -9.0563      0.211    -42.868      0.000      -9.471      -8.642\n",
      "Model_cls-class              -0.0981      0.192     -0.512      0.609      -0.474       0.278\n",
      "Model_clubman                -1.7972      0.148    -12.137      0.000      -2.088      -1.507\n",
      "Model_compass                -4.2262      0.068    -61.836      0.000      -4.360      -4.092\n",
      "Model_continental            -3.3760      0.111    -30.283      0.000      -3.595      -3.157\n",
      "Model_cooper                 -1.8987      0.080    -23.873      0.000      -2.055      -1.743\n",
      "Model_corolla                -1.4567      0.041    -35.274      0.000      -1.538      -1.376\n",
      "Model_countryman             -2.2317      0.148    -15.029      0.000      -2.523      -1.941\n",
      "Model_cr-v                   -0.1698      0.044     -3.834      0.000      -0.257      -0.083\n",
      "Model_creta                   0.5728      0.126      4.553      0.000       0.326       0.819\n",
      "Model_crosspolo              -1.4672      0.117    -12.556      0.000      -1.696      -1.238\n",
      "Model_cruze                  -0.7011      0.063    -11.135      0.000      -0.825      -0.578\n",
      "Model_d-max                  -3.1519      0.114    -27.676      0.000      -3.375      -2.929\n",
      "Model_duster                 -0.7987      0.043    -18.627      0.000      -0.883      -0.715\n",
      "Model_dzire                  -0.4990      0.082     -6.079      0.000      -0.660      -0.338\n",
      "Model_e                    1.281e-15   2.03e-16      6.305      0.000    8.83e-16    1.68e-15\n",
      "Model_e-class                -0.5549      0.072     -7.714      0.000      -0.696      -0.414\n",
      "Model_ecosport               -1.0015      0.043    -23.279      0.000      -1.086      -0.917\n",
      "Model_eeco                   -1.0201      0.084    -12.074      0.000      -1.186      -0.854\n",
      "Model_elantra                 0.5892      0.132      4.468      0.000       0.331       0.848\n",
      "Model_elite                   0.1816      0.133      1.369      0.171      -0.079       0.442\n",
      "Model_endeavour              -0.3235      0.061     -5.344      0.000      -0.442      -0.205\n",
      "Model_enjoy                  -0.9606      0.074    -13.014      0.000      -1.105      -0.816\n",
      "Model_eon                    -0.4091      0.124     -3.288      0.001      -0.653      -0.165\n",
      "Model_ertiga                 -0.3019      0.074     -4.062      0.000      -0.448      -0.156\n",
      "Model_esteem                 -1.1236      0.101    -11.074      0.000      -1.323      -0.925\n",
      "Model_estilo                 -0.8255      0.121     -6.827      0.000      -1.063      -0.588\n",
      "Model_etios                  -1.9221      0.045    -43.000      0.000      -2.010      -1.834\n",
      "Model_evalia                 -1.6407      0.163    -10.081      0.000      -1.960      -1.322\n",
      "Model_f                      -1.6575      0.148    -11.198      0.000      -1.948      -1.367\n",
      "Model_fabia                  -1.8003      0.060    -30.059      0.000      -1.918      -1.683\n",
      "Model_fiesta                 -1.3310      0.049    -27.063      0.000      -1.427      -1.235\n",
      "Model_figo                   -1.4472      0.043    -33.641      0.000      -1.532      -1.363\n",
      "Model_fluence                -1.0427      0.100    -10.479      0.000      -1.238      -0.848\n",
      "Model_fortuner               -0.7032      0.042    -16.919      0.000      -0.785      -0.622\n",
      "Model_fortwo                 -4.5407      0.111    -41.090      0.000      -4.757      -4.324\n",
      "Model_freestyle              -0.4114      0.167     -2.458      0.014      -0.740      -0.083\n",
      "Model_fusion                 -1.0838      0.167     -6.491      0.000      -1.411      -0.756\n",
      "Model_gallardo               -3.2198      0.114    -28.262      0.000      -3.443      -2.996\n",
      "Model_getz                   -0.2909      0.136     -2.133      0.033      -0.558      -0.024\n",
      "Model_gl-class                0.0345      0.096      0.359      0.720      -0.154       0.223\n",
      "Model_gla                    -0.5971      0.090     -6.621      0.000      -0.774      -0.420\n",
      "Model_glc                    -0.2608      0.097     -2.699      0.007      -0.450      -0.071\n",
      "Model_gle                    -0.0707      0.092     -0.768      0.442      -0.251       0.110\n",
      "Model_gls                     0.0467      0.197      0.237      0.813      -0.340       0.434\n",
      "Model_go                     -2.2979      0.100    -22.963      0.000      -2.494      -2.102\n",
      "Model_grand                  -0.0902      0.121     -0.745      0.456      -0.328       0.147\n",
      "Model_grande                 -1.3283      0.102    -13.021      0.000      -1.528      -1.128\n",
      "Model_hexa                   -0.1324      0.200     -0.661      0.509      -0.525       0.261\n",
      "Model_i10                    -0.0777      0.123     -0.632      0.527      -0.318       0.163\n",
      "Model_i20                     0.1131      0.123      0.920      0.357      -0.128       0.354\n",
      "Model_ignis                  -0.9247      0.121     -7.672      0.000      -1.161      -0.688\n",
      "Model_ikon                   -1.5576      0.064    -24.524      0.000      -1.682      -1.433\n",
      "Model_indica                 -1.4121      0.102    -13.898      0.000      -1.611      -1.213\n",
      "Model_indigo                 -1.3114      0.104    -12.603      0.000      -1.515      -1.107\n",
      "Model_innova                 -1.0348      0.041    -25.233      0.000      -1.115      -0.954\n",
      "Model_jazz                   -0.9102      0.037    -24.833      0.000      -0.982      -0.838\n",
      "Model_jeep                   -0.1953      0.125     -1.560      0.119      -0.441       0.050\n",
      "Model_jetta                  -0.8800      0.051    -17.186      0.000      -0.980      -0.780\n",
      "Model_koleos                 -0.4879      0.101     -4.839      0.000      -0.686      -0.290\n",
      "Model_kuv                    -1.0031      0.082    -12.220      0.000      -1.164      -0.842\n",
      "Model_kwid                   -1.6596      0.049    -33.922      0.000      -1.756      -1.564\n",
      "Model_lancer                 -1.9753      0.119    -16.585      0.000      -2.209      -1.742\n",
      "Model_laura                  -1.2967      0.040    -32.390      0.000      -1.375      -1.218\n",
      "Model_linea                  -1.2112      0.074    -16.328      0.000      -1.357      -1.066\n",
      "Model_lodgy                  -0.9037      0.169     -5.339      0.000      -1.235      -0.572\n",
      "Model_logan                  -1.1449      0.125     -9.136      0.000      -1.391      -0.899\n",
      "Model_m-class                -0.3009      0.084     -3.566      0.000      -0.466      -0.135\n",
      "Model_manza                  -1.1169      0.110    -10.129      0.000      -1.333      -0.901\n",
      "Model_micra                  -1.6401      0.057    -28.838      0.000      -1.752      -1.529\n",
      "Model_mobilio                -0.8196      0.062    -13.175      0.000      -0.942      -0.698\n",
      "Model_montero                -1.3915      0.157     -8.886      0.000      -1.698      -1.084\n",
      "Model_mustang                 0.3555      0.177      2.007      0.045       0.008       0.703\n",
      "Model_mux                    -2.5778      0.137    -18.780      0.000      -2.847      -2.309\n",
      "Model_nano                   -1.8055      0.113    -15.917      0.000      -2.028      -1.583\n",
      "Model_new                    -0.6956      0.071     -9.856      0.000      -0.834      -0.557\n",
      "Model_nexon                  -0.4914      0.204     -2.413      0.016      -0.891      -0.092\n",
      "Model_nuvosport              -0.8412      0.124     -6.759      0.000      -1.085      -0.597\n",
      "Model_octavia                -1.1247      0.040    -28.311      0.000      -1.203      -1.047\n",
      "Model_omni                   -1.2269      0.079    -15.474      0.000      -1.382      -1.071\n",
      "Model_one                    -4.2500      0.091    -46.906      0.000      -4.428      -4.072\n",
      "Model_optra                  -0.9369      0.059    -15.975      0.000      -1.052      -0.822\n",
      "Model_outlander              -1.8815      0.155    -12.124      0.000      -2.186      -1.577\n",
      "Model_pajero                 -1.4736      0.078    -18.936      0.000      -1.626      -1.321\n",
      "Model_panamera               -1.5825      0.086    -18.394      0.000      -1.751      -1.414\n",
      "Model_passat                 -0.9599      0.079    -12.201      0.000      -1.114      -0.806\n",
      "Model_petra                  -1.5913      0.161     -9.876      0.000      -1.907      -1.275\n",
      "Model_platinum             9.098e-18   9.66e-17      0.094      0.925    -1.8e-16    1.98e-16\n",
      "Model_polo                   -1.4396      0.039    -37.365      0.000      -1.515      -1.364\n",
      "Model_prius                  -0.2873      0.087     -3.285      0.001      -0.459      -0.116\n",
      "Model_pulse                  -1.2719      0.089    -14.342      0.000      -1.446      -1.098\n",
      "Model_punto                  -1.4494      0.102    -14.229      0.000      -1.649      -1.250\n",
      "Model_q3                     -1.0818      0.052    -20.987      0.000      -1.183      -0.981\n",
      "Model_q5                     -0.7802      0.050    -15.672      0.000      -0.878      -0.683\n",
      "Model_q7                     -0.5890      0.056    -10.517      0.000      -0.699      -0.479\n",
      "Model_qualis                 -0.9369      0.128     -7.316      0.000      -1.188      -0.686\n",
      "Model_quanto                 -0.9182      0.090    -10.177      0.000      -1.095      -0.741\n",
      "Model_r-class                -0.3958      0.127     -3.108      0.002      -0.645      -0.146\n",
      "Model_rapid                  -1.4751      0.038    -38.750      0.000      -1.550      -1.400\n",
      "Model_redi                   -2.6608      0.144    -18.531      0.000      -2.942      -2.379\n",
      "Model_redi-go                -2.5012      0.086    -28.930      0.000      -2.671      -2.332\n",
      "Model_renault                -0.7351      0.173     -4.240      0.000      -1.075      -0.395\n",
      "Model_ritz                   -0.7499      0.067    -11.210      0.000      -0.881      -0.619\n",
      "Model_rover                  -3.7910      0.064    -58.817      0.000      -3.917      -3.665\n",
      "Model_rs5                    -0.6817      0.131     -5.200      0.000      -0.939      -0.425\n",
      "Model_s                      -0.3166      0.064     -4.972      0.000      -0.441      -0.192\n",
      "Model_s-class                -0.2256      0.112     -2.010      0.044      -0.446      -0.006\n",
      "Model_s-cross                -0.4604      0.190     -2.427      0.015      -0.832      -0.088\n",
      "Model_s60                    -1.3751      0.081    -16.895      0.000      -1.535      -1.216\n",
      "Model_s80                    -1.8756      0.158    -11.880      0.000      -2.185      -1.566\n",
      "Model_safari                 -0.4789      0.120     -3.999      0.000      -0.714      -0.244\n",
      "Model_sail                   -1.0158      0.070    -14.448      0.000      -1.154      -0.878\n",
      "Model_santa                   0.7495      0.142      5.271      0.000       0.471       1.028\n",
      "Model_santro                 -0.2370      0.126     -1.887      0.059      -0.483       0.009\n",
      "Model_scala                  -1.2018      0.088    -13.634      0.000      -1.375      -1.029\n",
      "Model_scorpio                -0.2341      0.043     -5.412      0.000      -0.319      -0.149\n",
      "Model_siena                  -1.5549      0.163     -9.538      0.000      -1.875      -1.235\n",
      "Model_sl-class                0.2034      0.199      1.022      0.307      -0.187       0.594\n",
      "Model_slc                    -0.2211      0.153     -1.442      0.149      -0.522       0.080\n",
      "Model_slk-class              -0.0268      0.131     -0.204      0.838      -0.284       0.231\n",
      "Model_sonata                  0.6464      0.150      4.308      0.000       0.352       0.941\n",
      "Model_spark                  -1.3095      0.074    -17.603      0.000      -1.455      -1.164\n",
      "Model_ssangyong              -0.0241      0.064     -0.379      0.704      -0.149       0.100\n",
      "Model_sumo                   -0.5870      0.122     -4.827      0.000      -0.825      -0.349\n",
      "Model_sunny                  -1.4522      0.057    -25.410      0.000      -1.564      -1.340\n",
      "Model_superb                 -0.9524      0.036    -26.395      0.000      -1.023      -0.882\n",
      "Model_swift                  -0.5682      0.062     -9.135      0.000      -0.690      -0.446\n",
      "Model_sx4                    -0.5371      0.070     -7.671      0.000      -0.674      -0.400\n",
      "Model_tavera                 -0.5052      0.134     -3.772      0.000      -0.768      -0.243\n",
      "Model_teana                  -1.0540      0.162     -6.513      0.000      -1.371      -0.737\n",
      "Model_terrano                -1.2324      0.057    -21.536      0.000      -1.345      -1.120\n",
      "Model_thar                   -0.4515      0.082     -5.473      0.000      -0.613      -0.290\n",
      "Model_tiago                  -1.1365      0.117     -9.686      0.000      -1.367      -0.906\n",
      "Model_tigor                  -0.9787      0.133     -7.358      0.000      -1.239      -0.718\n",
      "Model_tiguan                 -0.2616      0.162     -1.614      0.107      -0.579       0.056\n",
      "Model_tt                     -0.5160      0.122     -4.217      0.000      -0.756      -0.276\n",
      "Model_tucson                  0.6998      0.165      4.244      0.000       0.376       1.023\n",
      "Model_tuv                    -0.6738      0.071     -9.463      0.000      -0.813      -0.534\n",
      "Model_v40                    -1.2869      0.102    -12.624      0.000      -1.487      -1.087\n",
      "Model_vento                  -1.2922      0.039    -33.366      0.000      -1.368      -1.216\n",
      "Model_venture                -0.9864      0.202     -4.875      0.000      -1.383      -0.590\n",
      "Model_verito                 -0.9092      0.104     -8.741      0.000      -1.113      -0.705\n",
      "Model_verna                   0.2424      0.124      1.947      0.052      -0.002       0.486\n",
      "Model_versa                  -0.5456      0.196     -2.789      0.005      -0.929      -0.162\n",
      "Model_vitara                 -0.3689      0.070     -5.253      0.000      -0.507      -0.231\n",
      "Model_wagon                  -0.8404      0.064    -13.158      0.000      -0.966      -0.715\n",
      "Model_wr-v                         0          0        nan        nan           0           0\n",
      "Model_wrv                    -0.7931      0.168     -4.712      0.000      -1.123      -0.463\n",
      "Model_x-trail                -0.7126      0.118     -6.023      0.000      -0.945      -0.481\n",
      "Model_x1                      0.1041      0.112      0.928      0.354      -0.116       0.324\n",
      "Model_x3                      0.4514      0.119      3.784      0.000       0.218       0.685\n",
      "Model_x5                      0.7120      0.117      6.102      0.000       0.483       0.941\n",
      "Model_x6                      0.9385      0.136      6.916      0.000       0.672       1.204\n",
      "Model_xc60                   -1.3148      0.086    -15.291      0.000      -1.483      -1.146\n",
      "Model_xc90                   -0.9541      0.161     -5.932      0.000      -1.269      -0.639\n",
      "Model_xcent                  -0.0749      0.126     -0.595      0.552      -0.322       0.172\n",
      "Model_xe                           0          0        nan        nan           0           0\n",
      "Model_xenon                  -0.8788      0.139     -6.319      0.000      -1.151      -0.606\n",
      "Model_xf                     -2.2430      0.068    -32.891      0.000      -2.377      -2.109\n",
      "Model_xj                     -1.6880      0.083    -20.231      0.000      -1.852      -1.524\n",
      "Model_xuv300                 -0.1678      0.174     -0.967      0.334      -0.508       0.172\n",
      "Model_xuv500                 -0.1188      0.036     -3.299      0.001      -0.189      -0.048\n",
      "Model_xylo                   -0.6985      0.058    -11.983      0.000      -0.813      -0.584\n",
      "Model_yeti                   -0.9743      0.068    -14.315      0.000      -1.108      -0.841\n",
      "Model_z4                      0.8690      0.217      4.010      0.000       0.444       1.294\n",
      "Model_zen                    -0.9407      0.074    -12.789      0.000      -1.085      -0.797\n",
      "Model_zest                   -0.9382      0.107     -8.728      0.000      -1.149      -0.727\n",
      "==============================================================================\n",
      "Omnibus:                     1864.716   Durbin-Watson:                   2.017\n",
      "Prob(Omnibus):                  0.000   Jarque-Bera (JB):           100099.433\n",
      "Skew:                          -1.330   Prob(JB):                         0.00\n",
      "Kurtosis:                      26.734   Cond. No.                     7.56e+19\n",
      "==============================================================================\n",
      "\n",
      "Notes:\n",
      "[1] Standard Errors assume that the covariance matrix of the errors is correctly specified.\n",
      "[2] The smallest eigenvalue is 5.05e-30. This might indicate that there are\n",
      "strong multicollinearity problems or that the design matrix is singular.\n"
     ]
    }
   ],
   "source": [
    "import statsmodels.api as sm\n",
    "# Statsmodel api does not add a constant by default. We need to add it explicitly.\n",
    "x_train = sm.add_constant(X_train)\n",
    "# Add constant to test data\n",
    "x_test = sm.add_constant(X_test)\n",
    "\n",
    "def build_ols_model(train):\n",
    "    # Create the model\n",
    "    olsmodel = sm.OLS(y_train[\"Price_log\"], train)\n",
    "    return olsmodel.fit()\n",
    "\n",
    "\n",
    "# Fit linear model on new dataset\n",
    "olsmodel1 = build_ols_model(x_train)\n",
    "print(olsmodel1.summary())"
   ]
  },
  {
   "cell_type": "code",
   "execution_count": 58,
   "metadata": {},
   "outputs": [],
   "source": [
    "# Retrive Coeff values, p-values and store them in the dataframe\n",
    "olsmod = pd.DataFrame(olsmodel1.params, columns = ['coef'])\n",
    "\n",
    "olsmod['pval'] = olsmodel1.pvalues"
   ]
  },
  {
   "cell_type": "code",
   "execution_count": 59,
   "metadata": {},
   "outputs": [
    {
     "data": {
      "text/html": [
       "<div>\n",
       "<style scoped>\n",
       "    .dataframe tbody tr th:only-of-type {\n",
       "        vertical-align: middle;\n",
       "    }\n",
       "\n",
       "    .dataframe tbody tr th {\n",
       "        vertical-align: top;\n",
       "    }\n",
       "\n",
       "    .dataframe thead th {\n",
       "        text-align: right;\n",
       "    }\n",
       "</style>\n",
       "<table border=\"1\" class=\"dataframe\">\n",
       "  <thead>\n",
       "    <tr style=\"text-align: right;\">\n",
       "      <th></th>\n",
       "      <th>coef</th>\n",
       "      <th>pval</th>\n",
       "    </tr>\n",
       "  </thead>\n",
       "  <tbody>\n",
       "    <tr>\n",
       "      <th>Model_mustang</th>\n",
       "      <td>0.355458</td>\n",
       "      <td>0.044779</td>\n",
       "    </tr>\n",
       "    <tr>\n",
       "      <th>Model_s-class</th>\n",
       "      <td>-0.225627</td>\n",
       "      <td>0.044480</td>\n",
       "    </tr>\n",
       "    <tr>\n",
       "      <th>Model_getz</th>\n",
       "      <td>-0.290935</td>\n",
       "      <td>0.032964</td>\n",
       "    </tr>\n",
       "    <tr>\n",
       "      <th>Model_accent</th>\n",
       "      <td>-0.295926</td>\n",
       "      <td>0.027946</td>\n",
       "    </tr>\n",
       "    <tr>\n",
       "      <th>New_price</th>\n",
       "      <td>-0.000834</td>\n",
       "      <td>0.024525</td>\n",
       "    </tr>\n",
       "    <tr>\n",
       "      <th>...</th>\n",
       "      <td>...</td>\n",
       "      <td>...</td>\n",
       "    </tr>\n",
       "    <tr>\n",
       "      <th>Brand_maruti</th>\n",
       "      <td>-8.604440</td>\n",
       "      <td>0.000000</td>\n",
       "    </tr>\n",
       "    <tr>\n",
       "      <th>Brand_mercedes-benz</th>\n",
       "      <td>-7.370729</td>\n",
       "      <td>0.000000</td>\n",
       "    </tr>\n",
       "    <tr>\n",
       "      <th>Brand_mini</th>\n",
       "      <td>-5.927624</td>\n",
       "      <td>0.000000</td>\n",
       "    </tr>\n",
       "    <tr>\n",
       "      <th>Brand_mitsubishi</th>\n",
       "      <td>-6.721920</td>\n",
       "      <td>0.000000</td>\n",
       "    </tr>\n",
       "    <tr>\n",
       "      <th>const</th>\n",
       "      <td>-205.077163</td>\n",
       "      <td>0.000000</td>\n",
       "    </tr>\n",
       "  </tbody>\n",
       "</table>\n",
       "<p>231 rows × 2 columns</p>\n",
       "</div>"
      ],
      "text/plain": [
       "                           coef      pval\n",
       "Model_mustang          0.355458  0.044779\n",
       "Model_s-class         -0.225627  0.044480\n",
       "Model_getz            -0.290935  0.032964\n",
       "Model_accent          -0.295926  0.027946\n",
       "New_price             -0.000834  0.024525\n",
       "...                         ...       ...\n",
       "Brand_maruti          -8.604440  0.000000\n",
       "Brand_mercedes-benz   -7.370729  0.000000\n",
       "Brand_mini            -5.927624  0.000000\n",
       "Brand_mitsubishi      -6.721920  0.000000\n",
       "const               -205.077163  0.000000\n",
       "\n",
       "[231 rows x 2 columns]"
      ]
     },
     "execution_count": 59,
     "metadata": {},
     "output_type": "execute_result"
    }
   ],
   "source": [
    "# Filter by significant p-value (pval <= 0.05) and sort descending by Odds ratio\n",
    "\n",
    "olsmod = olsmod.sort_values(by = \"pval\", ascending = False)\n",
    "\n",
    "pval_filter = olsmod['pval']<= 0.05\n",
    "\n",
    "olsmod[pval_filter]"
   ]
  },
  {
   "cell_type": "code",
   "execution_count": 60,
   "metadata": {},
   "outputs": [
    {
     "name": "stdout",
     "output_type": "stream",
     "text": [
      "\u001b[1mMost overall significant categorical varaibles of LINEAR REGRESSION  are \u001b[95m :\n",
      " ['Model', 'New_price', 'Location', 'Fuel_Type', 'Engine', 'Owner_Type', 'Power', 'Transmission', 'kilometers_driven_log', 'Brand', 'Year']\n"
     ]
    }
   ],
   "source": [
    "# We are looking are overall significant varaible\n",
    "\n",
    "pval_filter = olsmod['pval']<= 0.05\n",
    "imp_vars = olsmod[pval_filter].index.tolist()\n",
    "\n",
    "# We are going to get overall varaibles (un-one-hot encoded varables) from categorical varaibles\n",
    "sig_var = []\n",
    "for col in imp_vars:\n",
    "    if '' in col:\n",
    "        first_part = col.split('_')[0]\n",
    "        for c in cars_data.columns:\n",
    "            if first_part in c and c not in sig_var :\n",
    "                sig_var.append(c)\n",
    "\n",
    "                \n",
    "start = '\\033[1m'\n",
    "end = '\\033[95m'\n",
    "print(start+ 'Most overall significant categorical varaibles of LINEAR REGRESSION  are ' +end,':\\n', sig_var)"
   ]
  },
  {
   "cell_type": "markdown",
   "metadata": {},
   "source": [
    "**Ridge Model**"
   ]
  },
  {
   "cell_type": "code",
   "execution_count": 61,
   "metadata": {},
   "outputs": [],
   "source": [
    "from sklearn.linear_model import Ridge # Import Ridge/ Lasso Regression from sklearn"
   ]
  },
  {
   "cell_type": "code",
   "execution_count": 62,
   "metadata": {},
   "outputs": [],
   "source": [
    "# Instantiate a Ridge model with alpha = 1.0\n",
    "ridge_model = Ridge(alpha=1.0)\n",
    "# Create a Ridge regression model"
   ]
  },
  {
   "cell_type": "code",
   "execution_count": 63,
   "metadata": {},
   "outputs": [
    {
     "data": {
      "text/plain": [
       "Ridge()"
      ]
     },
     "execution_count": 63,
     "metadata": {},
     "output_type": "execute_result"
    }
   ],
   "source": [
    "ridge_model.fit(X_train, y_train['Price_log'])\n",
    "# Fit Ridge regression model"
   ]
  },
  {
   "cell_type": "code",
   "execution_count": 64,
   "metadata": {},
   "outputs": [
    {
     "name": "stdout",
     "output_type": "stream",
     "text": [
      "R-sqaure on training set :  0.9305807358112586\n",
      "R-square on test set :  0.8942380905337286\n",
      "RMSE on training set :  2.9436845687296698\n",
      "RMSE on test set :  3.624466406617114\n"
     ]
    }
   ],
   "source": [
    "ridge_score = get_model_score(ridge_model) # Get score of the model"
   ]
  },
  {
   "cell_type": "markdown",
   "metadata": {},
   "source": [
    "**Decision Tree**"
   ]
  },
  {
   "cell_type": "code",
   "execution_count": 65,
   "metadata": {},
   "outputs": [],
   "source": [
    "from sklearn.tree import DecisionTreeRegressor # Import Decision tree for Regression from sklearn"
   ]
  },
  {
   "cell_type": "code",
   "execution_count": 66,
   "metadata": {},
   "outputs": [],
   "source": [
    "# Create a decision tree regression model, use random_state = 1\n",
    "dtree = DecisionTreeRegressor(random_state=1)"
   ]
  },
  {
   "cell_type": "code",
   "execution_count": 67,
   "metadata": {},
   "outputs": [
    {
     "data": {
      "text/plain": [
       "DecisionTreeRegressor(random_state=1)"
      ]
     },
     "execution_count": 67,
     "metadata": {},
     "output_type": "execute_result"
    }
   ],
   "source": [
    "# Fit decision tree regression model\n",
    "dtree.fit(X_train, y_train['Price_log'])"
   ]
  },
  {
   "cell_type": "code",
   "execution_count": 68,
   "metadata": {},
   "outputs": [
    {
     "name": "stdout",
     "output_type": "stream",
     "text": [
      "R-sqaure on training set :  0.9999965696959587\n",
      "R-square on test set :  0.8017677653029025\n",
      "RMSE on training set :  0.020692719736775493\n",
      "RMSE on test set :  4.962112150644958\n"
     ]
    }
   ],
   "source": [
    "# Get score of the model\n",
    "Dtree_model = get_model_score(dtree)"
   ]
  },
  {
   "cell_type": "code",
   "execution_count": 69,
   "metadata": {},
   "outputs": [
    {
     "name": "stdout",
     "output_type": "stream",
     "text": [
      "                            Imp\n",
      "Power                  0.607232\n",
      "Year                   0.231208\n",
      "Engine                 0.045263\n",
      "Mileage                0.016297\n",
      "kilometers_driven_log  0.015283\n",
      "...                         ...\n",
      "Model_redi             0.000000\n",
      "Model_a7               0.000000\n",
      "Model_r-class          0.000000\n",
      "Model_quanto           0.000000\n",
      "Model_c-class          0.000000\n",
      "\n",
      "[264 rows x 1 columns]\n"
     ]
    }
   ],
   "source": [
    "print(pd.DataFrame(dtree.feature_importances_, columns = [\"Imp\"], index = X_train.columns).sort_values(by = 'Imp', ascending = False))"
   ]
  },
  {
   "cell_type": "markdown",
   "metadata": {},
   "source": [
    "**Random Forest**"
   ]
  },
  {
   "cell_type": "code",
   "execution_count": 70,
   "metadata": {},
   "outputs": [],
   "source": [
    "from sklearn.ensemble import RandomForestRegressor\n",
    "from sklearn.datasets import make_regression"
   ]
  },
  {
   "cell_type": "code",
   "execution_count": 71,
   "metadata": {},
   "outputs": [],
   "source": [
    "rf = RandomForestRegressor(n_estimators=100, random_state=1)\n",
    "# Create a Randomforest regression model "
   ]
  },
  {
   "cell_type": "code",
   "execution_count": 72,
   "metadata": {},
   "outputs": [
    {
     "data": {
      "text/plain": [
       "RandomForestRegressor(random_state=1)"
      ]
     },
     "execution_count": 72,
     "metadata": {},
     "output_type": "execute_result"
    }
   ],
   "source": [
    "rf.fit(X_train, y_train['Price_log'])# Fit Randomforest regression model"
   ]
  },
  {
   "cell_type": "code",
   "execution_count": 73,
   "metadata": {},
   "outputs": [
    {
     "name": "stdout",
     "output_type": "stream",
     "text": [
      "R-sqaure on training set :  0.9775201867195604\n",
      "R-square on test set :  0.8507906171037525\n",
      "RMSE on training set :  1.6751265344024202\n",
      "RMSE on test set :  4.305043106224706\n"
     ]
    }
   ],
   "source": [
    "rf_score = get_model_score(rf)# Get score of the model"
   ]
  },
  {
   "cell_type": "markdown",
   "metadata": {},
   "source": [
    "### **Hyperparameter Tuning: Decision Tree**"
   ]
  },
  {
   "cell_type": "code",
   "execution_count": 74,
   "metadata": {
    "id": "OdzQWq8WtOTA"
   },
   "outputs": [
    {
     "data": {
      "text/plain": [
       "RandomForestRegressor(random_state=1)"
      ]
     },
     "execution_count": 74,
     "metadata": {},
     "output_type": "execute_result"
    }
   ],
   "source": [
    "from sklearn.metrics import make_scorer\n",
    "from sklearn.metrics import mean_squared_error\n",
    "from sklearn.model_selection import GridSearchCV\n",
    "\n",
    "\n",
    "# Choose the type of estimator \n",
    "dtree_tuned = RandomForestRegressor(random_state=1)\n",
    "\n",
    "# Grid of parameters to choose from\n",
    "# Check documentation for all the parametrs that the model takes and play with those\n",
    "parameters = {\n",
    "    'n_estimators': [10, 50, 100],\n",
    "    'max_depth': [None, 5, 10],\n",
    "    'min_samples_split': [2, 5, 10],\n",
    "    'min_samples_leaf': [1, 2, 4]\n",
    "}\n",
    "\n",
    "# Type of scoring used to compare parameter combinations\n",
    "scorer = make_scorer(mean_squared_error, greater_is_better=False)\n",
    "\n",
    "# Run the grid search\n",
    "grid_obj = GridSearchCV(dtree_tuned, parameters, scoring=scorer)\n",
    "grid_obj = grid_obj.fit(X_train, y_train['Price_log'])\n",
    "\n",
    "# Set the model to the best combination of parameters\n",
    "dtree_tuned = grid_obj.best_estimator_\n",
    "\n",
    "# Fit the best algorithm to the data\n",
    "dtree_tuned.fit(X_train, y_train['Price_log'])"
   ]
  },
  {
   "cell_type": "code",
   "execution_count": 75,
   "metadata": {},
   "outputs": [
    {
     "name": "stdout",
     "output_type": "stream",
     "text": [
      "R-sqaure on training set :  0.9775201867195604\n",
      "R-square on test set :  0.8507906171037525\n",
      "RMSE on training set :  1.6751265344024202\n",
      "RMSE on test set :  4.305043106224706\n"
     ]
    }
   ],
   "source": [
    "dtree_tuned_score = get_model_score(dtree_tuned)\n",
    "# Get score of the dtree_tuned"
   ]
  },
  {
   "cell_type": "markdown",
   "metadata": {},
   "source": [
    "**Feature Importance**"
   ]
  },
  {
   "cell_type": "code",
   "execution_count": 76,
   "metadata": {},
   "outputs": [
    {
     "name": "stdout",
     "output_type": "stream",
     "text": [
      "1. feature 3 (0.610148)\n",
      "2. feature 0 (0.231764)\n",
      "3. feature 2 (0.037307)\n",
      "4. feature 6 (0.017660)\n",
      "5. feature 1 (0.014222)\n",
      "6. feature 5 (0.006041)\n",
      "7. feature 14 (0.004906)\n",
      "8. feature 21 (0.004713)\n",
      "9. feature 50 (0.004427)\n",
      "10. feature 4 (0.003408)\n",
      "11. feature 11 (0.002974)\n",
      "12. feature 33 (0.002956)\n",
      "13. feature 200 (0.002882)\n",
      "14. feature 39 (0.002548)\n",
      "15. feature 40 (0.002541)\n",
      "16. feature 42 (0.002349)\n",
      "17. feature 9 (0.002173)\n",
      "18. feature 43 (0.001637)\n",
      "19. feature 23 (0.001602)\n",
      "20. feature 17 (0.001551)\n",
      "21. feature 48 (0.001506)\n",
      "22. feature 27 (0.001502)\n",
      "23. feature 7 (0.001492)\n",
      "24. feature 106 (0.001414)\n",
      "25. feature 25 (0.001414)\n",
      "26. feature 10 (0.001391)\n",
      "27. feature 15 (0.001335)\n",
      "28. feature 20 (0.001300)\n",
      "29. feature 51 (0.001148)\n",
      "30. feature 223 (0.001085)\n",
      "31. feature 16 (0.001056)\n",
      "32. feature 34 (0.001028)\n",
      "33. feature 56 (0.001007)\n",
      "34. feature 12 (0.001003)\n",
      "35. feature 24 (0.000965)\n",
      "36. feature 63 (0.000886)\n",
      "37. feature 152 (0.000844)\n",
      "38. feature 13 (0.000839)\n",
      "39. feature 52 (0.000822)\n",
      "40. feature 102 (0.000821)\n",
      "41. feature 8 (0.000821)\n",
      "42. feature 28 (0.000733)\n",
      "43. feature 89 (0.000712)\n",
      "44. feature 68 (0.000650)\n",
      "45. feature 185 (0.000584)\n",
      "46. feature 41 (0.000518)\n",
      "47. feature 171 (0.000497)\n",
      "48. feature 121 (0.000478)\n",
      "49. feature 70 (0.000461)\n",
      "50. feature 150 (0.000407)\n",
      "51. feature 77 (0.000393)\n",
      "52. feature 190 (0.000374)\n",
      "53. feature 222 (0.000370)\n",
      "54. feature 147 (0.000341)\n",
      "55. feature 172 (0.000334)\n",
      "56. feature 32 (0.000328)\n",
      "57. feature 129 (0.000314)\n",
      "58. feature 103 (0.000307)\n",
      "59. feature 113 (0.000304)\n",
      "60. feature 94 (0.000302)\n",
      "61. feature 46 (0.000296)\n",
      "62. feature 116 (0.000289)\n",
      "63. feature 124 (0.000277)\n",
      "64. feature 18 (0.000221)\n",
      "65. feature 146 (0.000202)\n",
      "66. feature 259 (0.000193)\n",
      "67. feature 219 (0.000185)\n",
      "68. feature 239 (0.000183)\n",
      "69. feature 182 (0.000177)\n",
      "70. feature 75 (0.000174)\n",
      "71. feature 254 (0.000173)\n",
      "72. feature 209 (0.000173)\n",
      "73. feature 108 (0.000169)\n",
      "74. feature 55 (0.000167)\n",
      "75. feature 217 (0.000165)\n",
      "76. feature 47 (0.000155)\n",
      "77. feature 76 (0.000153)\n",
      "78. feature 69 (0.000152)\n",
      "79. feature 165 (0.000150)\n",
      "80. feature 164 (0.000148)\n",
      "81. feature 136 (0.000138)\n",
      "82. feature 92 (0.000137)\n",
      "83. feature 252 (0.000135)\n",
      "84. feature 59 (0.000134)\n",
      "85. feature 149 (0.000127)\n",
      "86. feature 199 (0.000126)\n",
      "87. feature 212 (0.000126)\n",
      "88. feature 186 (0.000125)\n",
      "89. feature 45 (0.000124)\n",
      "90. feature 151 (0.000119)\n",
      "91. feature 143 (0.000117)\n",
      "92. feature 83 (0.000116)\n",
      "93. feature 262 (0.000114)\n",
      "94. feature 246 (0.000111)\n",
      "95. feature 160 (0.000109)\n",
      "96. feature 210 (0.000103)\n",
      "97. feature 44 (0.000102)\n",
      "98. feature 100 (0.000100)\n",
      "99. feature 38 (0.000099)\n",
      "100. feature 202 (0.000097)\n",
      "101. feature 58 (0.000097)\n",
      "102. feature 153 (0.000097)\n",
      "103. feature 110 (0.000096)\n",
      "104. feature 114 (0.000095)\n",
      "105. feature 242 (0.000093)\n",
      "106. feature 90 (0.000091)\n",
      "107. feature 30 (0.000089)\n",
      "108. feature 224 (0.000089)\n",
      "109. feature 155 (0.000088)\n",
      "110. feature 248 (0.000085)\n",
      "111. feature 188 (0.000085)\n",
      "112. feature 127 (0.000082)\n",
      "113. feature 137 (0.000082)\n",
      "114. feature 37 (0.000080)\n",
      "115. feature 64 (0.000079)\n",
      "116. feature 117 (0.000074)\n",
      "117. feature 128 (0.000071)\n",
      "118. feature 36 (0.000069)\n",
      "119. feature 247 (0.000068)\n",
      "120. feature 67 (0.000066)\n",
      "121. feature 236 (0.000065)\n",
      "122. feature 255 (0.000065)\n",
      "123. feature 53 (0.000062)\n",
      "124. feature 258 (0.000062)\n",
      "125. feature 118 (0.000054)\n",
      "126. feature 79 (0.000053)\n",
      "127. feature 22 (0.000051)\n",
      "128. feature 178 (0.000051)\n",
      "129. feature 263 (0.000049)\n",
      "130. feature 180 (0.000048)\n",
      "131. feature 206 (0.000046)\n",
      "132. feature 227 (0.000045)\n",
      "133. feature 131 (0.000044)\n",
      "134. feature 166 (0.000043)\n",
      "135. feature 139 (0.000043)\n",
      "136. feature 230 (0.000041)\n",
      "137. feature 105 (0.000040)\n",
      "138. feature 95 (0.000039)\n",
      "139. feature 161 (0.000037)\n",
      "140. feature 221 (0.000036)\n",
      "141. feature 249 (0.000034)\n",
      "142. feature 226 (0.000034)\n",
      "143. feature 193 (0.000033)\n",
      "144. feature 175 (0.000032)\n",
      "145. feature 208 (0.000032)\n",
      "146. feature 156 (0.000031)\n",
      "147. feature 220 (0.000030)\n",
      "148. feature 130 (0.000030)\n",
      "149. feature 93 (0.000030)\n",
      "150. feature 122 (0.000029)\n",
      "151. feature 189 (0.000027)\n",
      "152. feature 140 (0.000027)\n",
      "153. feature 66 (0.000027)\n",
      "154. feature 163 (0.000027)\n",
      "155. feature 181 (0.000025)\n",
      "156. feature 195 (0.000025)\n",
      "157. feature 73 (0.000024)\n",
      "158. feature 203 (0.000023)\n",
      "159. feature 133 (0.000022)\n",
      "160. feature 26 (0.000022)\n",
      "161. feature 179 (0.000022)\n",
      "162. feature 218 (0.000022)\n",
      "163. feature 115 (0.000021)\n",
      "164. feature 57 (0.000020)\n",
      "165. feature 191 (0.000020)\n",
      "166. feature 207 (0.000020)\n",
      "167. feature 135 (0.000020)\n",
      "168. feature 144 (0.000020)\n",
      "169. feature 119 (0.000020)\n",
      "170. feature 86 (0.000019)\n",
      "171. feature 142 (0.000019)\n",
      "172. feature 176 (0.000018)\n",
      "173. feature 157 (0.000018)\n",
      "174. feature 138 (0.000018)\n",
      "175. feature 96 (0.000018)\n",
      "176. feature 205 (0.000017)\n",
      "177. feature 104 (0.000017)\n",
      "178. feature 72 (0.000016)\n",
      "179. feature 211 (0.000015)\n",
      "180. feature 29 (0.000015)\n",
      "181. feature 120 (0.000014)\n",
      "182. feature 49 (0.000013)\n",
      "183. feature 123 (0.000013)\n",
      "184. feature 232 (0.000012)\n",
      "185. feature 19 (0.000012)\n",
      "186. feature 241 (0.000012)\n",
      "187. feature 158 (0.000012)\n",
      "188. feature 260 (0.000012)\n",
      "189. feature 60 (0.000011)\n",
      "190. feature 111 (0.000011)\n",
      "191. feature 167 (0.000010)\n",
      "192. feature 235 (0.000010)\n",
      "193. feature 159 (0.000010)\n",
      "194. feature 35 (0.000010)\n",
      "195. feature 244 (0.000009)\n",
      "196. feature 228 (0.000009)\n",
      "197. feature 192 (0.000008)\n",
      "198. feature 201 (0.000008)\n",
      "199. feature 71 (0.000008)\n",
      "200. feature 88 (0.000008)\n",
      "201. feature 225 (0.000007)\n",
      "202. feature 148 (0.000007)\n",
      "203. feature 132 (0.000007)\n",
      "204. feature 213 (0.000007)\n",
      "205. feature 250 (0.000006)\n",
      "206. feature 231 (0.000006)\n",
      "207. feature 154 (0.000006)\n",
      "208. feature 233 (0.000006)\n",
      "209. feature 170 (0.000006)\n",
      "210. feature 256 (0.000006)\n",
      "211. feature 187 (0.000005)\n",
      "212. feature 194 (0.000005)\n",
      "213. feature 98 (0.000004)\n",
      "214. feature 237 (0.000004)\n",
      "215. feature 109 (0.000004)\n",
      "216. feature 61 (0.000004)\n",
      "217. feature 101 (0.000004)\n",
      "218. feature 62 (0.000004)\n",
      "219. feature 261 (0.000003)\n",
      "220. feature 257 (0.000003)\n",
      "221. feature 97 (0.000003)\n",
      "222. feature 80 (0.000003)\n",
      "223. feature 240 (0.000003)\n",
      "224. feature 245 (0.000002)\n",
      "225. feature 168 (0.000002)\n",
      "226. feature 197 (0.000002)\n",
      "227. feature 74 (0.000002)\n",
      "228. feature 134 (0.000002)\n",
      "229. feature 251 (0.000002)\n",
      "230. feature 177 (0.000002)\n",
      "231. feature 183 (0.000002)\n",
      "232. feature 84 (0.000001)\n",
      "233. feature 238 (0.000001)\n",
      "234. feature 198 (0.000001)\n",
      "235. feature 87 (0.000001)\n",
      "236. feature 145 (0.000001)\n",
      "237. feature 107 (0.000001)\n",
      "238. feature 216 (0.000001)\n",
      "239. feature 31 (0.000001)\n",
      "240. feature 126 (0.000001)\n",
      "241. feature 174 (0.000001)\n",
      "242. feature 173 (0.000000)\n",
      "243. feature 234 (0.000000)\n",
      "244. feature 162 (0.000000)\n",
      "245. feature 229 (0.000000)\n",
      "246. feature 85 (0.000000)\n",
      "247. feature 141 (0.000000)\n",
      "248. feature 196 (0.000000)\n",
      "249. feature 169 (0.000000)\n",
      "250. feature 204 (0.000000)\n",
      "251. feature 215 (0.000000)\n",
      "252. feature 82 (0.000000)\n",
      "253. feature 125 (0.000000)\n",
      "254. feature 214 (0.000000)\n",
      "255. feature 99 (0.000000)\n",
      "256. feature 243 (0.000000)\n",
      "257. feature 81 (0.000000)\n",
      "258. feature 78 (0.000000)\n",
      "259. feature 65 (0.000000)\n",
      "260. feature 184 (0.000000)\n",
      "261. feature 253 (0.000000)\n",
      "262. feature 91 (0.000000)\n",
      "263. feature 112 (0.000000)\n",
      "264. feature 54 (0.000000)\n"
     ]
    }
   ],
   "source": [
    "importance = dtree_tuned.feature_importances_\n",
    "indices = np.argsort(importance)[::-1]\n",
    "for f in range(X_train.shape[1]):\n",
    "    print(\"%d. feature %d (%f)\" % (f + 1, indices[f], importance[indices[f]]))# Print important features of tuned decision tree similar to decision trees"
   ]
  },
  {
   "cell_type": "markdown",
   "metadata": {
    "id": "18uxHTy2tOTB"
   },
   "source": [
    "### **Hyperparameter Tuning: Random Forest**"
   ]
  },
  {
   "cell_type": "code",
   "execution_count": 77,
   "metadata": {
    "id": "HSBtYgpctOTC"
   },
   "outputs": [
    {
     "data": {
      "text/plain": [
       "RandomForestRegressor(max_features='sqrt', n_estimators=900, random_state=1)"
      ]
     },
     "execution_count": 77,
     "metadata": {},
     "output_type": "execute_result"
    }
   ],
   "source": [
    "# Choose the type of classifier. \n",
    "rf_tuned = RandomForestRegressor(random_state=1)\n",
    "\n",
    "# Grid of parameters to choose from\n",
    "parameters = {  \n",
    "                'max_depth':[5,7,None],\n",
    "                'max_features': ['sqrt', 'log2'],\n",
    "                'n_estimators': [250,500,800,900]\n",
    "}\n",
    "\n",
    "# Type of scoring used to compare parameter combinations\n",
    "scorer = metrics.make_scorer(metrics.r2_score)\n",
    "\n",
    "# Run the grid search\n",
    "grid_obj = GridSearchCV(rf_tuned, parameters, scoring=scorer,cv=5)\n",
    "grid_obj = grid_obj.fit(X_train, y_train['Price_log'])\n",
    "\n",
    "# Set the clf to the best combination of parameters\n",
    "rf_tuned = grid_obj.best_estimator_\n",
    "\n",
    "# Fit the best algorithm to the data. \n",
    "rf_tuned.fit(X_train, y_train['Price_log'])"
   ]
  },
  {
   "cell_type": "code",
   "execution_count": 78,
   "metadata": {},
   "outputs": [
    {
     "name": "stdout",
     "output_type": "stream",
     "text": [
      "R-sqaure on training set :  0.9689916685860145\n",
      "R-square on test set :  0.8628372337999293\n",
      "RMSE on training set :  1.967390032403907\n",
      "RMSE on test set :  4.127599534620007\n"
     ]
    }
   ],
   "source": [
    "rf_tuned_score = get_model_score(rf_tuned)# Get score of the model"
   ]
  },
  {
   "cell_type": "markdown",
   "metadata": {
    "id": "ItsgSUyiIrdI"
   },
   "source": [
    "**Feature Importance**"
   ]
  },
  {
   "cell_type": "code",
   "execution_count": 79,
   "metadata": {
    "id": "9khvM2ZhtOTC"
   },
   "outputs": [
    {
     "name": "stdout",
     "output_type": "stream",
     "text": [
      "Feature ranking:\n",
      "1. feature 3 (0.610148)\n",
      "2. feature 0 (0.231764)\n",
      "3. feature 2 (0.037307)\n",
      "4. feature 6 (0.017660)\n",
      "5. feature 1 (0.014222)\n",
      "6. feature 5 (0.006041)\n",
      "7. feature 14 (0.004906)\n",
      "8. feature 21 (0.004713)\n",
      "9. feature 50 (0.004427)\n",
      "10. feature 4 (0.003408)\n",
      "11. feature 11 (0.002974)\n",
      "12. feature 33 (0.002956)\n",
      "13. feature 200 (0.002882)\n",
      "14. feature 39 (0.002548)\n",
      "15. feature 40 (0.002541)\n",
      "16. feature 42 (0.002349)\n",
      "17. feature 9 (0.002173)\n",
      "18. feature 43 (0.001637)\n",
      "19. feature 23 (0.001602)\n",
      "20. feature 17 (0.001551)\n",
      "21. feature 48 (0.001506)\n",
      "22. feature 27 (0.001502)\n",
      "23. feature 7 (0.001492)\n",
      "24. feature 106 (0.001414)\n",
      "25. feature 25 (0.001414)\n",
      "26. feature 10 (0.001391)\n",
      "27. feature 15 (0.001335)\n",
      "28. feature 20 (0.001300)\n",
      "29. feature 51 (0.001148)\n",
      "30. feature 223 (0.001085)\n",
      "31. feature 16 (0.001056)\n",
      "32. feature 34 (0.001028)\n",
      "33. feature 56 (0.001007)\n",
      "34. feature 12 (0.001003)\n",
      "35. feature 24 (0.000965)\n",
      "36. feature 63 (0.000886)\n",
      "37. feature 152 (0.000844)\n",
      "38. feature 13 (0.000839)\n",
      "39. feature 52 (0.000822)\n",
      "40. feature 102 (0.000821)\n",
      "41. feature 8 (0.000821)\n",
      "42. feature 28 (0.000733)\n",
      "43. feature 89 (0.000712)\n",
      "44. feature 68 (0.000650)\n",
      "45. feature 185 (0.000584)\n",
      "46. feature 41 (0.000518)\n",
      "47. feature 171 (0.000497)\n",
      "48. feature 121 (0.000478)\n",
      "49. feature 70 (0.000461)\n",
      "50. feature 150 (0.000407)\n",
      "51. feature 77 (0.000393)\n",
      "52. feature 190 (0.000374)\n",
      "53. feature 222 (0.000370)\n",
      "54. feature 147 (0.000341)\n",
      "55. feature 172 (0.000334)\n",
      "56. feature 32 (0.000328)\n",
      "57. feature 129 (0.000314)\n",
      "58. feature 103 (0.000307)\n",
      "59. feature 113 (0.000304)\n",
      "60. feature 94 (0.000302)\n",
      "61. feature 46 (0.000296)\n",
      "62. feature 116 (0.000289)\n",
      "63. feature 124 (0.000277)\n",
      "64. feature 18 (0.000221)\n",
      "65. feature 146 (0.000202)\n",
      "66. feature 259 (0.000193)\n",
      "67. feature 219 (0.000185)\n",
      "68. feature 239 (0.000183)\n",
      "69. feature 182 (0.000177)\n",
      "70. feature 75 (0.000174)\n",
      "71. feature 254 (0.000173)\n",
      "72. feature 209 (0.000173)\n",
      "73. feature 108 (0.000169)\n",
      "74. feature 55 (0.000167)\n",
      "75. feature 217 (0.000165)\n",
      "76. feature 47 (0.000155)\n",
      "77. feature 76 (0.000153)\n",
      "78. feature 69 (0.000152)\n",
      "79. feature 165 (0.000150)\n",
      "80. feature 164 (0.000148)\n",
      "81. feature 136 (0.000138)\n",
      "82. feature 92 (0.000137)\n",
      "83. feature 252 (0.000135)\n",
      "84. feature 59 (0.000134)\n",
      "85. feature 149 (0.000127)\n",
      "86. feature 199 (0.000126)\n",
      "87. feature 212 (0.000126)\n",
      "88. feature 186 (0.000125)\n",
      "89. feature 45 (0.000124)\n",
      "90. feature 151 (0.000119)\n",
      "91. feature 143 (0.000117)\n",
      "92. feature 83 (0.000116)\n",
      "93. feature 262 (0.000114)\n",
      "94. feature 246 (0.000111)\n",
      "95. feature 160 (0.000109)\n",
      "96. feature 210 (0.000103)\n",
      "97. feature 44 (0.000102)\n",
      "98. feature 100 (0.000100)\n",
      "99. feature 38 (0.000099)\n",
      "100. feature 202 (0.000097)\n",
      "101. feature 58 (0.000097)\n",
      "102. feature 153 (0.000097)\n",
      "103. feature 110 (0.000096)\n",
      "104. feature 114 (0.000095)\n",
      "105. feature 242 (0.000093)\n",
      "106. feature 90 (0.000091)\n",
      "107. feature 30 (0.000089)\n",
      "108. feature 224 (0.000089)\n",
      "109. feature 155 (0.000088)\n",
      "110. feature 248 (0.000085)\n",
      "111. feature 188 (0.000085)\n",
      "112. feature 127 (0.000082)\n",
      "113. feature 137 (0.000082)\n",
      "114. feature 37 (0.000080)\n",
      "115. feature 64 (0.000079)\n",
      "116. feature 117 (0.000074)\n",
      "117. feature 128 (0.000071)\n",
      "118. feature 36 (0.000069)\n",
      "119. feature 247 (0.000068)\n",
      "120. feature 67 (0.000066)\n",
      "121. feature 236 (0.000065)\n",
      "122. feature 255 (0.000065)\n",
      "123. feature 53 (0.000062)\n",
      "124. feature 258 (0.000062)\n",
      "125. feature 118 (0.000054)\n",
      "126. feature 79 (0.000053)\n",
      "127. feature 22 (0.000051)\n",
      "128. feature 178 (0.000051)\n",
      "129. feature 263 (0.000049)\n",
      "130. feature 180 (0.000048)\n",
      "131. feature 206 (0.000046)\n",
      "132. feature 227 (0.000045)\n",
      "133. feature 131 (0.000044)\n",
      "134. feature 166 (0.000043)\n",
      "135. feature 139 (0.000043)\n",
      "136. feature 230 (0.000041)\n",
      "137. feature 105 (0.000040)\n",
      "138. feature 95 (0.000039)\n",
      "139. feature 161 (0.000037)\n",
      "140. feature 221 (0.000036)\n",
      "141. feature 249 (0.000034)\n",
      "142. feature 226 (0.000034)\n",
      "143. feature 193 (0.000033)\n",
      "144. feature 175 (0.000032)\n",
      "145. feature 208 (0.000032)\n",
      "146. feature 156 (0.000031)\n",
      "147. feature 220 (0.000030)\n",
      "148. feature 130 (0.000030)\n",
      "149. feature 93 (0.000030)\n",
      "150. feature 122 (0.000029)\n",
      "151. feature 189 (0.000027)\n",
      "152. feature 140 (0.000027)\n",
      "153. feature 66 (0.000027)\n",
      "154. feature 163 (0.000027)\n",
      "155. feature 181 (0.000025)\n",
      "156. feature 195 (0.000025)\n",
      "157. feature 73 (0.000024)\n",
      "158. feature 203 (0.000023)\n",
      "159. feature 133 (0.000022)\n",
      "160. feature 26 (0.000022)\n",
      "161. feature 179 (0.000022)\n",
      "162. feature 218 (0.000022)\n",
      "163. feature 115 (0.000021)\n",
      "164. feature 57 (0.000020)\n",
      "165. feature 191 (0.000020)\n",
      "166. feature 207 (0.000020)\n",
      "167. feature 135 (0.000020)\n",
      "168. feature 144 (0.000020)\n",
      "169. feature 119 (0.000020)\n",
      "170. feature 86 (0.000019)\n",
      "171. feature 142 (0.000019)\n",
      "172. feature 176 (0.000018)\n",
      "173. feature 157 (0.000018)\n",
      "174. feature 138 (0.000018)\n",
      "175. feature 96 (0.000018)\n",
      "176. feature 205 (0.000017)\n",
      "177. feature 104 (0.000017)\n",
      "178. feature 72 (0.000016)\n",
      "179. feature 211 (0.000015)\n",
      "180. feature 29 (0.000015)\n",
      "181. feature 120 (0.000014)\n",
      "182. feature 49 (0.000013)\n",
      "183. feature 123 (0.000013)\n",
      "184. feature 232 (0.000012)\n",
      "185. feature 19 (0.000012)\n",
      "186. feature 241 (0.000012)\n",
      "187. feature 158 (0.000012)\n",
      "188. feature 260 (0.000012)\n",
      "189. feature 60 (0.000011)\n",
      "190. feature 111 (0.000011)\n",
      "191. feature 167 (0.000010)\n",
      "192. feature 235 (0.000010)\n",
      "193. feature 159 (0.000010)\n",
      "194. feature 35 (0.000010)\n",
      "195. feature 244 (0.000009)\n",
      "196. feature 228 (0.000009)\n",
      "197. feature 192 (0.000008)\n",
      "198. feature 201 (0.000008)\n",
      "199. feature 71 (0.000008)\n",
      "200. feature 88 (0.000008)\n",
      "201. feature 225 (0.000007)\n",
      "202. feature 148 (0.000007)\n",
      "203. feature 132 (0.000007)\n",
      "204. feature 213 (0.000007)\n",
      "205. feature 250 (0.000006)\n",
      "206. feature 231 (0.000006)\n",
      "207. feature 154 (0.000006)\n",
      "208. feature 233 (0.000006)\n",
      "209. feature 170 (0.000006)\n",
      "210. feature 256 (0.000006)\n",
      "211. feature 187 (0.000005)\n",
      "212. feature 194 (0.000005)\n",
      "213. feature 98 (0.000004)\n",
      "214. feature 237 (0.000004)\n",
      "215. feature 109 (0.000004)\n",
      "216. feature 61 (0.000004)\n",
      "217. feature 101 (0.000004)\n",
      "218. feature 62 (0.000004)\n",
      "219. feature 261 (0.000003)\n",
      "220. feature 257 (0.000003)\n",
      "221. feature 97 (0.000003)\n",
      "222. feature 80 (0.000003)\n",
      "223. feature 240 (0.000003)\n",
      "224. feature 245 (0.000002)\n",
      "225. feature 168 (0.000002)\n",
      "226. feature 197 (0.000002)\n",
      "227. feature 74 (0.000002)\n",
      "228. feature 134 (0.000002)\n",
      "229. feature 251 (0.000002)\n",
      "230. feature 177 (0.000002)\n",
      "231. feature 183 (0.000002)\n",
      "232. feature 84 (0.000001)\n",
      "233. feature 238 (0.000001)\n",
      "234. feature 198 (0.000001)\n",
      "235. feature 87 (0.000001)\n",
      "236. feature 145 (0.000001)\n",
      "237. feature 107 (0.000001)\n",
      "238. feature 216 (0.000001)\n",
      "239. feature 31 (0.000001)\n",
      "240. feature 126 (0.000001)\n",
      "241. feature 174 (0.000001)\n",
      "242. feature 173 (0.000000)\n",
      "243. feature 234 (0.000000)\n",
      "244. feature 162 (0.000000)\n",
      "245. feature 229 (0.000000)\n",
      "246. feature 85 (0.000000)\n",
      "247. feature 141 (0.000000)\n",
      "248. feature 196 (0.000000)\n",
      "249. feature 169 (0.000000)\n",
      "250. feature 204 (0.000000)\n",
      "251. feature 215 (0.000000)\n",
      "252. feature 82 (0.000000)\n",
      "253. feature 125 (0.000000)\n",
      "254. feature 214 (0.000000)\n",
      "255. feature 99 (0.000000)\n",
      "256. feature 243 (0.000000)\n",
      "257. feature 81 (0.000000)\n",
      "258. feature 78 (0.000000)\n",
      "259. feature 65 (0.000000)\n",
      "260. feature 184 (0.000000)\n",
      "261. feature 253 (0.000000)\n",
      "262. feature 91 (0.000000)\n",
      "263. feature 112 (0.000000)\n",
      "264. feature 54 (0.000000)\n"
     ]
    }
   ],
   "source": [
    "# Print feature importances of the tuned decision tree\n",
    "importances = dtree_tuned.feature_importances_\n",
    "indices = np.argsort(importances)[::-1]\n",
    "print(\"Feature ranking:\")\n",
    "for f in range(X.shape[1]):\n",
    "    print(\"%d. feature %d (%f)\" % (f + 1, indices[f], importances[indices[f]]))\n"
   ]
  },
  {
   "cell_type": "markdown",
   "metadata": {
    "id": "PVzow_ehj6w6"
   },
   "source": [
    "## **Conclusions and Recommendations**"
   ]
  },
  {
   "cell_type": "code",
   "execution_count": 86,
   "metadata": {},
   "outputs": [],
   "source": [
    "# Defining list of models you have trained\n",
    "models = [lr, dtree, ridge_model, rf, dtree_tuned, rf_tuned]\n",
    "\n",
    "# Defining empty lists to add train and test results\n",
    "r2_train = []\n",
    "r2_test = []\n",
    "rmse_train = []\n",
    "rmse_test = []\n",
    "\n",
    "# Looping through all the models to get the rmse and r2 scores\n",
    "for model in models:\n",
    "    \n",
    "    # Accuracy score\n",
    "    j = get_model_score(model, False)\n",
    "    \n",
    "    r2_train.append(j[0])\n",
    "    \n",
    "    r2_test.append(j[1])\n",
    "    \n",
    "    rmse_train.append(j[2])\n",
    "    \n",
    "    rmse_test.append(j[3])"
   ]
  },
  {
   "cell_type": "code",
   "execution_count": 88,
   "metadata": {},
   "outputs": [
    {
     "data": {
      "text/html": [
       "<div>\n",
       "<style scoped>\n",
       "    .dataframe tbody tr th:only-of-type {\n",
       "        vertical-align: middle;\n",
       "    }\n",
       "\n",
       "    .dataframe tbody tr th {\n",
       "        vertical-align: top;\n",
       "    }\n",
       "\n",
       "    .dataframe thead th {\n",
       "        text-align: right;\n",
       "    }\n",
       "</style>\n",
       "<table border=\"1\" class=\"dataframe\">\n",
       "  <thead>\n",
       "    <tr style=\"text-align: right;\">\n",
       "      <th></th>\n",
       "      <th>Model</th>\n",
       "      <th>Train_r2</th>\n",
       "      <th>Test_r2</th>\n",
       "      <th>Train_RMSE</th>\n",
       "      <th>Test_RMSE</th>\n",
       "    </tr>\n",
       "  </thead>\n",
       "  <tbody>\n",
       "    <tr>\n",
       "      <th>0</th>\n",
       "      <td>Linear Regression</td>\n",
       "      <td>0.939940</td>\n",
       "      <td>0.868792</td>\n",
       "      <td>2.738077</td>\n",
       "      <td>4.037008</td>\n",
       "    </tr>\n",
       "    <tr>\n",
       "      <th>1</th>\n",
       "      <td>Decision Tree</td>\n",
       "      <td>0.999997</td>\n",
       "      <td>0.801768</td>\n",
       "      <td>0.020693</td>\n",
       "      <td>4.962112</td>\n",
       "    </tr>\n",
       "    <tr>\n",
       "      <th>2</th>\n",
       "      <td>Ridge Model</td>\n",
       "      <td>0.930581</td>\n",
       "      <td>0.894238</td>\n",
       "      <td>2.943685</td>\n",
       "      <td>3.624466</td>\n",
       "    </tr>\n",
       "    <tr>\n",
       "      <th>3</th>\n",
       "      <td>Random Forest</td>\n",
       "      <td>0.977520</td>\n",
       "      <td>0.850791</td>\n",
       "      <td>1.675127</td>\n",
       "      <td>4.305043</td>\n",
       "    </tr>\n",
       "    <tr>\n",
       "      <th>4</th>\n",
       "      <td>Tuned Decision Tree</td>\n",
       "      <td>0.977520</td>\n",
       "      <td>0.850791</td>\n",
       "      <td>1.675127</td>\n",
       "      <td>4.305043</td>\n",
       "    </tr>\n",
       "    <tr>\n",
       "      <th>5</th>\n",
       "      <td>Tuned Random Forest</td>\n",
       "      <td>0.968992</td>\n",
       "      <td>0.862837</td>\n",
       "      <td>1.967390</td>\n",
       "      <td>4.127600</td>\n",
       "    </tr>\n",
       "  </tbody>\n",
       "</table>\n",
       "</div>"
      ],
      "text/plain": [
       "                 Model  Train_r2   Test_r2  Train_RMSE  Test_RMSE\n",
       "0    Linear Regression  0.939940  0.868792    2.738077   4.037008\n",
       "1        Decision Tree  0.999997  0.801768    0.020693   4.962112\n",
       "2          Ridge Model  0.930581  0.894238    2.943685   3.624466\n",
       "3        Random Forest  0.977520  0.850791    1.675127   4.305043\n",
       "4  Tuned Decision Tree  0.977520  0.850791    1.675127   4.305043\n",
       "5  Tuned Random Forest  0.968992  0.862837    1.967390   4.127600"
      ]
     },
     "execution_count": 88,
     "metadata": {},
     "output_type": "execute_result"
    }
   ],
   "source": [
    "comparison_frame = pd.DataFrame({'Model':['Linear Regression','Decision Tree', 'Ridge Model', 'Random Forest', 'Tuned Decision Tree', 'Tuned Random Forest'], \n",
    "                                          'Train_r2': r2_train,'Test_r2': r2_test,\n",
    "                                          'Train_RMSE': rmse_train,'Test_RMSE': rmse_test}) \n",
    "comparison_frame"
   ]
  },
  {
   "cell_type": "markdown",
   "metadata": {
    "id": "kPywjJo6uS-9"
   },
   "source": [
    "**1. Comparison of various techniques and their relative performance based on chosen Metric (Measure of success):** \n",
    "- Q: How do different techniques perform? Which one is performing relatively better? Is there scope to improve the performance further?\n",
    "- A: Overall, after developing these models and judging their relative performance based on train root mean square error, test root mean square error, and the testing/training accuracies, it seems like the Ridge Model performs the best on both the training and test datasets, with the highest test R-squared coefficient and lowest test RMSE. However, it's important to consider other factors (such as the complexity and interpretability of the model) when choosing the best machine learning model for a specific problem. One model that should particularly grasp our attention is the Hypertuned Random Forest Model. While it has a slightly lower R-squared coefficient than the Ridge Model, it has a lower train RMSE, which indicates that it makes slightly better predictions on the train dataset.The linear regression model performs well on both the training and test datasets, with a high R-squared coefficient and relatively low RMSE values. However, it may not be able to capture complex nonlinear relationships in the data as well as other models.The decision tree model overfits the training data, as evidenced by the near-perfect R-squared coefficient on the training data but a lower R-squared coefficient and higher RMSE on the test data. This suggests that the model has learned the noise in the training data instead of the underlying patterns, and may not generalize well to new data. This model performs relatively well on both the training and test datasets, with a high R-squared coefficient and relatively low RMSE values. However, it may be more complex and less interpretable than some of the other models. The tuned decision tree model performs similarly to the Random Forest model, with a high R-squared coefficient and relatively low RMSE values on both the training and test datasets. However, it may be less robust and more prone to overfitting than other models. Overall, it appears that the Tuned Random Forest and the Ridge Model (in some capacity) are the top-performing models based on the metrics in the table, while the other models have some limitations in terms of their performance or interpretability."
   ]
  },
  {
   "cell_type": "markdown",
   "metadata": {
    "id": "5mtOvTtEY7sM"
   },
   "source": [
    "**2. Refined insights:** \n",
    "- Q: What are the most meaningful insights relevant to the problem?\n",
    "- A: Given that the market for used cars in India is rapidly growing, it's important to have a reliable and accurate model for predicting the price of used cars. This can help sellers ensure they are getting a fair price for their car, and help buyers make informed purchasing decisions. Furthermore, the variables that are most predictive of the price of a used car may vary depending on the market and the specific cars being sold. Therefore, it's important to carefully select the variables to include in the model.The Ridge Model and Tuned Random Forest models appear to be the top-performing models based on the metrics in the table. As our goal is to accurately predict the target variable on new data, or, in other words, predict the price of a used car in India based on an array of factors, these models may be the best choice. Linear Regression also performs well on both the training and test datasets, but it may not be able to capture complex nonlinear relationships in the data. So in cases where we have reason to believe that the relationship between the input variables and the target variable is nonlinear, other models may be more appropriate. The Decision Tree model appears to be potentially overfitting the training data, as evidenced by the near-perfect R-squared coefficient on the training data but a lower R-squared coefficient and higher RMSE on the test data. This suggests that the model has learned the noise in the training data instead of the underlying patterns, and may not generalize well to new data. The Random Forest and Tuned Decision Tree models both perform well on the metrics in the table, but they may be more complex and less interpretable than some of the other models. Depending on how much interpretability is a priority for us, simpler models like Linear Regression or the Ridge Model may be more appropriate. In terms of some ways in which we might improve upon our model/approach and think about some actionable items, I've listed some areas for improvement/suggestions to our model: Gather more granular data: Gathering data across more specific cities or regions could help improve the accuracy of the model, as prices and demand for used cars can vary significantly between different areas of the country.\n",
    "\n",
    "- Collect more detailed information about car condition: Including additional information about the condition of the car, such as any previous accidents or repairs, could help improve the accuracy of the model by better accounting for the impact of wear and tear on the car's value.\n",
    "\n",
    "- Include more first owner cars: As first owner cars tend to be in better condition and have fewer miles on them, including more of these cars in the dataset could help improve the accuracy of the model and provide a more accurate picture of the used car market.\n",
    "\n",
    "- Consider the seasonality of car sales: Sales of used cars may be affected by seasonal trends, with demand for certain types of cars or models peaking at different times of the year. Incorporating seasonality factors into the model could help improve its accuracy and provide a more accurate picture of the market.\n",
    "\n",
    "- Evaluate pricing strategy: Once the model is used to predict the price of used cars, it is important to evaluate the pricing strategy and adjust it as necessary to ensure that the seller is maximizing profit while still being competitive in the market. This could involve adjusting prices based on demand or seasonal trends, or experimenting with different pricing strategies to see which ones are most effective.\n",
    "\n",
    "- Continuously evaluate and update the model: As the used car market evolves over time, it is important to continuously evaluate and update the model to ensure that it remains accurate and effective. This may involve gathering new data, incorporating new features, or experimenting with different modeling techniques to improve accuracy and better predict prices for used cars in India.\n",
    "\n",
    "\n",
    "\n",
    "\n",
    "\n",
    "\n"
   ]
  },
  {
   "cell_type": "markdown",
   "metadata": {
    "id": "HNJHd0R7Y7sM"
   },
   "source": [
    "**3. Proposal for the final solution design:** \n",
    "- Q: What model do you propose to be adopted? Why is this the best solution to adopt?\n",
    "- A: The model I propose to be adopted is the Tuned Random Forest Model, in other words I would like to propose the following final solution design: Gathering used car data -> Performing some rudimentary preprocessing with the data -> Executing our feature engineering and missing value treatment on the data -> Building our Random Tree Regression Model -> Tuning said model with grid search cross-validation -> Make our prediciton of the price of a used car. I went this route because, alongside the Ridge Model it was certainly one of our top performers. In terms of regression analysis, the Random Forest approach does well and has a great capacity to handle continuous variables. Unlike linear regression, as mentioned earlier, we are much more well-equipped to deal with non-linear solutions if we adopt the Tuned Random Forest Model and this benefit caters well to real-world scenarios. Lastly, with the Random Forest approach, we will need little data augementation and data preprocessing, which is also a plus. Our Random Forest model, as is the case with all of our models, has its strengths and its fallbacks, but as we are adopting the Tuned Random Forest Model, we can optimize and use this model further for more data collection and increased Random Forest Tuning. "
   ]
  }
 ],
 "metadata": {
  "colab": {
   "provenance": []
  },
  "kernelspec": {
   "display_name": "Python 3 (ipykernel)",
   "language": "python",
   "name": "python3"
  },
  "language_info": {
   "codemirror_mode": {
    "name": "ipython",
    "version": 3
   },
   "file_extension": ".py",
   "mimetype": "text/x-python",
   "name": "python",
   "nbconvert_exporter": "python",
   "pygments_lexer": "ipython3",
   "version": "3.9.13"
  }
 },
 "nbformat": 4,
 "nbformat_minor": 1
}
