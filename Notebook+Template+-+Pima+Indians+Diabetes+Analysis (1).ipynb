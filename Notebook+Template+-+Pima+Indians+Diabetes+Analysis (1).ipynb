{
 "cells": [
  {
   "cell_type": "markdown",
   "metadata": {
    "id": "BL_LfsVn_bv1"
   },
   "source": [
    "# Foundations of Data Science Project - Diabetes Analysis\n",
    "\n",
    "---------------\n",
    "## Context\n",
    "---------------\n",
    "\n",
    "Diabetes is one of the most frequent diseases worldwide and the number of diabetic patients are growing over the years. The main cause of diabetes remains unknown, yet scientists believe that both genetic factors and environmental lifestyle play a major role in diabetes.\n",
    "\n",
    "A few years ago research was done on a tribe in America which is called the Pima tribe (also known as the Pima Indians). In this tribe, it was found that the ladies are prone to diabetes very early. Several constraints were placed on the selection of these instances from a larger database. In particular, all patients were females at least 21 years old of Pima Indian heritage. \n",
    "\n",
    "-----------------\n",
    "## Objective\n",
    "-----------------\n",
    "\n",
    "Here, we are analyzing different aspects of Diabetes in the Pima Indians tribe by doing Exploratory Data Analysis.\n",
    "\n",
    "-------------------------\n",
    "## Data Dictionary\n",
    "-------------------------\n",
    "\n",
    "The dataset has the following information:\n",
    "\n",
    "* Pregnancies: Number of times pregnant\n",
    "* Glucose: Plasma glucose concentration over 2 hours in an oral glucose tolerance test\n",
    "* BloodPressure: Diastolic blood pressure (mm Hg)\n",
    "* SkinThickness: Triceps skin fold thickness (mm)\n",
    "* Insulin: 2-Hour serum insulin (mu U/ml)\n",
    "* BMI: Body mass index (weight in kg/(height in m)^2)\n",
    "* DiabetesPedigreeFunction: A function that scores the likelihood of diabetes based on family history.\n",
    "* Age: Age in years\n",
    "* Outcome: Class variable (0: a person is not diabetic or 1: a person is diabetic)"
   ]
  },
  {
   "cell_type": "markdown",
   "metadata": {
    "id": "vVR3oeVo_bv5"
   },
   "source": [
    "## Q 1: Import the necessary libraries and briefly explain the use of each library (3 Marks)"
   ]
  },
  {
   "cell_type": "code",
   "execution_count": null,
   "metadata": {
    "id": "sQPI1Bzz_bv5"
   },
   "outputs": [],
   "source": [
    "# Remove _____ & write the appropriate library name\n",
    "\n",
    "import numpy as np\n",
    "\n",
    "import pandas as pd\n",
    "\n",
    "import seaborn as sns\n",
    "\n",
    "import matplotlib.pyplot as plt\n",
    "\n",
    "%matplotlib inline"
   ]
  },
  {
   "cell_type": "markdown",
   "metadata": {
    "id": "OV6ExTxy_bv6"
   },
   "source": [
    "#### Write your Answer here: "
   ]
  },
  {
   "cell_type": "raw",
   "metadata": {
    "id": "mMa-2YFV_bv7"
   },
   "source": [
    "Ans 1: The use of numpy, pandas, seaborn, and matplotlib.pyplot are scientific computing, data analysis, statistical data visualization, and plotting respectively."
   ]
  },
  {
   "cell_type": "markdown",
   "metadata": {
    "id": "8WpI8LC7_bv7"
   },
   "source": [
    "## Q 2: Read the given dataset (2 Marks)"
   ]
  },
  {
   "cell_type": "code",
   "execution_count": null,
   "metadata": {
    "id": "OTzXe_vA_bv7"
   },
   "outputs": [],
   "source": [
    "# Remove _____ & write the appropriate function name\n",
    "\n",
    "pima = pd.read_csv(\"diabetes.csv\")"
   ]
  },
  {
   "cell_type": "markdown",
   "metadata": {
    "id": "H3SziaVY_bv8"
   },
   "source": [
    "## Q3. Show the last 10 records of the dataset. How many columns are there? (2 Marks)"
   ]
  },
  {
   "cell_type": "code",
   "execution_count": null,
   "metadata": {
    "id": "c4UHQy0q_bv8"
   },
   "outputs": [],
   "source": [
    "# Remove ______ and write the appropriate number in the function\n",
    "\n",
    "pima.tail(10)"
   ]
  },
  {
   "cell_type": "markdown",
   "metadata": {
    "id": "xqzI9UYB_bv9"
   },
   "source": [
    "#### Write your Answer here: \n"
   ]
  },
  {
   "cell_type": "raw",
   "metadata": {
    "id": "Lh7sxkKp_bv9"
   },
   "source": [
    "Ans 3: 9 columns"
   ]
  },
  {
   "cell_type": "markdown",
   "metadata": {
    "id": "xDnQFTsR_bv9"
   },
   "source": [
    "## Q4. Show the first 10 records of the dataset (2 Marks)"
   ]
  },
  {
   "cell_type": "code",
   "execution_count": null,
   "metadata": {
    "id": "fhOmMaSn_bv-"
   },
   "outputs": [],
   "source": [
    "# Remove _____ & write the appropriate function name and the number of rows to get in the output\n",
    "\n",
    "pima.head(10)"
   ]
  },
  {
   "cell_type": "markdown",
   "metadata": {
    "id": "OzzsF3Pg_bv-"
   },
   "source": [
    "## Q5. What do you understand by the dimension of the dataset? Find the dimension of the `pima` dataframe. (3 Marks)"
   ]
  },
  {
   "cell_type": "code",
   "execution_count": null,
   "metadata": {
    "id": "9QQGBlaw_bv-"
   },
   "outputs": [],
   "source": [
    "# Remove _____ & write the appropriate function name\n",
    "\n",
    "pima.shape"
   ]
  },
  {
   "cell_type": "markdown",
   "metadata": {
    "id": "5_7DfrKa_bv_"
   },
   "source": [
    "#### Write your Answer here: \n"
   ]
  },
  {
   "cell_type": "raw",
   "metadata": {
    "id": "WW0P9jMc_bv_"
   },
   "source": [
    "Ans 5: (768, 9); The data frame has 9 columns and 768 observations. From this we can understand the total number of elements in the data set (which we could also achieve with the .size function) by multiplying the values for our rows ans columns. The values for these rows and columns are expressed in a \"tuple\" form."
   ]
  },
  {
   "cell_type": "markdown",
   "metadata": {
    "id": "V5duvKqA_bv_"
   },
   "source": [
    "## Q6. What do you understand by the size of the dataset? Find the size of the `pima` dataframe. (3 Marks)"
   ]
  },
  {
   "cell_type": "code",
   "execution_count": null,
   "metadata": {
    "id": "yX1yh0Bx_bv_"
   },
   "outputs": [],
   "source": [
    "# Remove _____ & write the appropriate function name\n",
    "\n",
    "pima.size"
   ]
  },
  {
   "cell_type": "markdown",
   "metadata": {
    "id": "oILSLGBL_bwA"
   },
   "source": [
    "#### Write your Answer here: \n"
   ]
  },
  {
   "cell_type": "raw",
   "metadata": {
    "id": "zdtFn47Q_bwA"
   },
   "source": [
    "Ans 6: The size of the data frame is 6912, from this value we can understand how to more directly acheive the total number of elements in our set. "
   ]
  },
  {
   "cell_type": "markdown",
   "metadata": {
    "id": "DyG29Cqz_bwA"
   },
   "source": [
    "## Q7. What are the data types of all the variables in the data set? (2 Marks)\n",
    "**Hint: Use the info() function to get all the information about the dataset.**"
   ]
  },
  {
   "cell_type": "code",
   "execution_count": 1,
   "metadata": {
    "id": "INEhm7-M_bwA"
   },
   "outputs": [
    {
     "ename": "NameError",
     "evalue": "name 'pima' is not defined",
     "output_type": "error",
     "traceback": [
      "\u001b[1;31m---------------------------------------------------------------------------\u001b[0m",
      "\u001b[1;31mNameError\u001b[0m                                 Traceback (most recent call last)",
      "\u001b[1;32m~\\AppData\\Local\\Temp\\ipykernel_20272\\2965679265.py\u001b[0m in \u001b[0;36m<module>\u001b[1;34m\u001b[0m\n\u001b[0;32m      1\u001b[0m \u001b[1;31m# Remove _____ & write the appropriate function name\u001b[0m\u001b[1;33m\u001b[0m\u001b[1;33m\u001b[0m\u001b[0m\n\u001b[0;32m      2\u001b[0m \u001b[1;33m\u001b[0m\u001b[0m\n\u001b[1;32m----> 3\u001b[1;33m \u001b[0mpima\u001b[0m\u001b[1;33m.\u001b[0m\u001b[0minfo\u001b[0m\u001b[1;33m(\u001b[0m\u001b[1;33m)\u001b[0m\u001b[1;33m\u001b[0m\u001b[1;33m\u001b[0m\u001b[0m\n\u001b[0m",
      "\u001b[1;31mNameError\u001b[0m: name 'pima' is not defined"
     ]
    }
   ],
   "source": [
    "# Remove _____ & write the appropriate function name\n",
    "\n",
    "pima.info()"
   ]
  },
  {
   "cell_type": "markdown",
   "metadata": {
    "id": "OqnMczju_bwB"
   },
   "source": [
    "#### Write your Answer here: \n"
   ]
  },
  {
   "cell_type": "raw",
   "metadata": {
    "id": "RdARzto8_bwB"
   },
   "source": [
    "Ans 7: <class 'pandas.core.frame.DataFrame'>\n",
    "RangeIndex: 768 entries, 0 to 767\n",
    "Data columns (total 9 columns):\n",
    " #   Column                    Non-Null Count  Dtype  \n",
    "---  ------                    --------------  -----  \n",
    " 0   Pregnancies               768 non-null    int64  \n",
    " 1   Glucose                   768 non-null    int64  \n",
    " 2   BloodPressure             768 non-null    int64  \n",
    " 3   SkinThickness             768 non-null    int64  \n",
    " 4   Insulin                   768 non-null    int64  \n",
    " 5   BMI                       768 non-null    float64\n",
    " 6   DiabetesPedigreeFunction  768 non-null    float64\n",
    " 7   Age                       768 non-null    int64  \n",
    " 8   Outcome                   768 non-null    int64  \n",
    "dtypes: float64(2), int64(7)\n",
    "memory usage: 54.1 KB\n",
    "\n",
    "In the data set, we have 2 floats and 7 integers in terms of our column values."
   ]
  },
  {
   "cell_type": "markdown",
   "metadata": {
    "id": "wHYJkmek_bwB"
   },
   "source": [
    "## Q8. What do we mean by missing values? Are there any missing values in the `pima` dataframe? (4 Marks)"
   ]
  },
  {
   "cell_type": "code",
   "execution_count": null,
   "metadata": {
    "id": "OiThIwyD_bwB"
   },
   "outputs": [],
   "source": [
    "# Remove _____ & write the appropriate function name\n",
    "\n",
    "pima.isnull().values.any()"
   ]
  },
  {
   "cell_type": "markdown",
   "metadata": {
    "id": "CpcpowUT_bwC"
   },
   "source": [
    "#### Write your Answer here: \n"
   ]
  },
  {
   "cell_type": "raw",
   "metadata": {
    "id": "b8D07NoL_bwC"
   },
   "source": [
    "Ans 8: By missing values, we are referring to gaps in our data that require some clean up in the form of some action (leave them as is, drop them, fill them in, etc.). We do not have any missing values in the pima dataframe."
   ]
  },
  {
   "cell_type": "markdown",
   "metadata": {
    "id": "RmTpaojz_bwC"
   },
   "source": [
    "## Q9. What do the summary statistics of the data represent? Find the summary statistics for all variables except 'Outcome' in the `pima` data. Take one column/variable from the output table and explain all its statistical measures. (5 Marks)"
   ]
  },
  {
   "cell_type": "code",
   "execution_count": null,
   "metadata": {
    "id": "JuJBDhb-_bwC"
   },
   "outputs": [],
   "source": [
    "# Remove _____ & write the appropriate function name\n",
    "\n",
    "pima.iloc[: , 0 : 8].describe()"
   ]
  },
  {
   "cell_type": "markdown",
   "metadata": {
    "id": "-aYGSoyf_bwC"
   },
   "source": [
    "#### Write your Answer here: \n"
   ]
  },
  {
   "cell_type": "raw",
   "metadata": {
    "id": "y20K1lOx_bwC"
   },
   "source": [
    "Ans 9: This describe() method is used to get a summary of numeric values in your dataset, which helps calculate the mean, standard deviation, minimum value, maximum value, 1st percentile, 2nd percentile, 3rd percentile of the columns with numeric values (as well as the number of values we have). \n",
    "\n",
    "\tPregnancies\tGlucose\tBloodPressure\tSkinThickness\tInsulin\tBMI\tDiabetesPedigreeFunction\tAge\n",
    "count\t768.000000\t768.000000\t768.000000\t768.000000\t768.000000\t768.000000\t768.000000\t768.000000\n",
    "mean\t3.845052\t121.675781\t72.250000\t26.447917\t118.270833\t32.450805\t0.471876\t33.240885\n",
    "std\t3.369578\t30.436252\t12.117203\t9.733872\t93.243829\t6.875374\t0.331329\t11.760232\n",
    "min\t0.000000\t44.000000\t24.000000\t7.000000\t14.000000\t18.200000\t0.078000\t21.000000\n",
    "25%\t1.000000\t99.750000\t64.000000\t20.000000\t79.000000\t27.500000\t0.243750\t24.000000\n",
    "50%\t3.000000\t117.000000\t72.000000\t23.000000\t79.000000\t32.000000\t0.372500\t29.000000\n",
    "75%\t6.000000\t140.250000\t80.000000\t32.000000\t127.250000\t36.600000\t0.626250\t41.000000\n",
    "max\t17.000000\t199.000000\t122.000000\t99.000000\t846.000000\t67.100000\t2.420000\t81.000000\n",
    "\n",
    "I will take the \"Age\" column and explain its statistical measures. We are dealing with women of Pima Indian heritage in this study and the count shows that we have 768 observations. The mean shows that on average the age of the woman in this study was 33.240885 years old. The std or standard deviation is the average distance from the mean so, on average, a given woman was 11.760232 years removed from the mean. The min value is the minimum age or the youngest person in the study which was 21 years old. The 25% or 25th percentile shows that 25 percent of the women are 24 or younger. The 50% (median) shows that half of the women are younger than 29. The 75% or 75th percentile shows that 75% of the women are younger than 41, and the max or maximum value shows that the oldest women in the study was 81 years old."
   ]
  },
  {
   "cell_type": "markdown",
   "metadata": {
    "id": "3gO4yNoS_bwD"
   },
   "source": [
    "## Q 10. Plot the distribution plot for the variable 'BloodPressure'. Write detailed observations from the plot. (2 Marks)"
   ]
  },
  {
   "cell_type": "code",
   "execution_count": 3,
   "metadata": {
    "id": "k4ulBXrW_bwD"
   },
   "outputs": [
    {
     "ename": "NameError",
     "evalue": "name 'sns' is not defined",
     "output_type": "error",
     "traceback": [
      "\u001b[1;31m---------------------------------------------------------------------------\u001b[0m",
      "\u001b[1;31mNameError\u001b[0m                                 Traceback (most recent call last)",
      "\u001b[1;32m~\\AppData\\Local\\Temp\\ipykernel_20272\\2412621024.py\u001b[0m in \u001b[0;36m<module>\u001b[1;34m\u001b[0m\n\u001b[0;32m      1\u001b[0m \u001b[1;31m# Remove _____ & write the appropriate library name\u001b[0m\u001b[1;33m\u001b[0m\u001b[1;33m\u001b[0m\u001b[0m\n\u001b[0;32m      2\u001b[0m \u001b[1;33m\u001b[0m\u001b[0m\n\u001b[1;32m----> 3\u001b[1;33m \u001b[0msns\u001b[0m\u001b[1;33m.\u001b[0m\u001b[0mdisplot\u001b[0m\u001b[1;33m(\u001b[0m\u001b[0mpima\u001b[0m\u001b[1;33m[\u001b[0m\u001b[1;34m'BloodPressure'\u001b[0m\u001b[1;33m]\u001b[0m\u001b[1;33m,\u001b[0m \u001b[0mkind\u001b[0m \u001b[1;33m=\u001b[0m \u001b[1;34m'kde'\u001b[0m\u001b[1;33m)\u001b[0m\u001b[1;33m\u001b[0m\u001b[1;33m\u001b[0m\u001b[0m\n\u001b[0m\u001b[0;32m      4\u001b[0m \u001b[1;33m\u001b[0m\u001b[0m\n\u001b[0;32m      5\u001b[0m \u001b[0mplt\u001b[0m\u001b[1;33m.\u001b[0m\u001b[0mshow\u001b[0m\u001b[1;33m(\u001b[0m\u001b[1;33m)\u001b[0m\u001b[1;33m\u001b[0m\u001b[1;33m\u001b[0m\u001b[0m\n",
      "\u001b[1;31mNameError\u001b[0m: name 'sns' is not defined"
     ]
    }
   ],
   "source": [
    "# Remove _____ & write the appropriate library name\n",
    "\n",
    "sns.displot(pima['BloodPressure'], kind = 'kde')\n",
    "\n",
    "plt.show()"
   ]
  },
  {
   "cell_type": "markdown",
   "metadata": {
    "id": "tFmj2sAi_bwD"
   },
   "source": [
    "#### Write your Answer here: \n"
   ]
  },
  {
   "cell_type": "raw",
   "metadata": {
    "id": "LGKnjmYV_bwD"
   },
   "source": [
    "Ans 10: Some observations for this plot are that at almost 80 blood pressure, the density reaches its maximum which is over 0.035. It is also worth noting that in the plot, as blood pressure rises at first the density also increases untilit rwaches its maximum. After reaching the maximum point, as the blood pressure rises, the density begins to decrease. "
   ]
  },
  {
   "cell_type": "markdown",
   "metadata": {
    "id": "H82v-Oiq_bwD"
   },
   "source": [
    "## Q 11. What is the 'BMI' of the person having the highest 'Glucose'? (2 Marks)"
   ]
  },
  {
   "cell_type": "code",
   "execution_count": null,
   "metadata": {
    "id": "-xXHlCS5_bwD"
   },
   "outputs": [],
   "source": [
    "# Remove _____ & write the appropriate function name\n",
    "\n",
    "pima[pima['Glucose'] == pima['Glucose'].max()]['BMI']"
   ]
  },
  {
   "cell_type": "markdown",
   "metadata": {
    "id": "JiUByWjP_bwE"
   },
   "source": [
    "#### Write your Answer here: \n"
   ]
  },
  {
   "cell_type": "raw",
   "metadata": {
    "id": "pE2GYrtU_bwE"
   },
   "source": [
    "Ans 11: 42.9"
   ]
  },
  {
   "cell_type": "markdown",
   "metadata": {
    "id": "0xN_VJOl_bwE"
   },
   "source": [
    "## Q12.\n",
    "### 12.1 What is the mean of the variable 'BMI'? \n",
    "### 12.2 What is the median of the variable 'BMI'? \n",
    "### 12.3 What is the mode of the variable 'BMI'?\n",
    "### 12.4 Are the three measures of central tendency equal?\n",
    "\n",
    "### (4 Marks)"
   ]
  },
  {
   "cell_type": "code",
   "execution_count": null,
   "metadata": {
    "id": "-aKQ7UMC_bwE"
   },
   "outputs": [],
   "source": [
    "# Remove _____ & write the appropriate function name\n",
    "\n",
    "m1 = pima['BMI'].mean()  # mean\n",
    "print(m1)\n",
    "\n",
    "m2 = pima['BMI'].median()  # median\n",
    "print(m2)\n",
    "\n",
    "m3 = pima['BMI'].mode()[0]  # mode\n",
    "print(m3)"
   ]
  },
  {
   "cell_type": "markdown",
   "metadata": {
    "id": "F381SOUJ_bwE"
   },
   "source": [
    "#### Write your Answer here: \n"
   ]
  },
  {
   "cell_type": "raw",
   "metadata": {
    "id": "NNYE_suf_bwE"
   },
   "source": [
    "Ans 12: Mean = 32.45080515543617, Median = 32.0, Mode = 32.0. The three measures are not equal becayse the mean is slightly greater than the other two. "
   ]
  },
  {
   "cell_type": "markdown",
   "metadata": {
    "id": "zQgUfx28_bwE"
   },
   "source": [
    "## Q13. How many women's 'Glucose' levels are above the mean level of 'Glucose'? (2 Marks)"
   ]
  },
  {
   "cell_type": "code",
   "execution_count": null,
   "metadata": {
    "id": "elzY2lG0_bwE"
   },
   "outputs": [],
   "source": [
    "# Remove _____ & write the appropriate function name\n",
    "\n",
    "pima[pima['Glucose'] > pima['Glucose'].mean()].shape[0]"
   ]
  },
  {
   "cell_type": "markdown",
   "metadata": {
    "id": "zNopQzBy_bwF"
   },
   "source": [
    "#### Write your Answer here: \n"
   ]
  },
  {
   "cell_type": "raw",
   "metadata": {
    "id": "KP5Ex2Mj_bwF"
   },
   "source": [
    "Ans 13: 343"
   ]
  },
  {
   "cell_type": "markdown",
   "metadata": {
    "id": "TUFPGMGX_bwF"
   },
   "source": [
    "## Q14. How many women have their 'BloodPressure' equal to the median of 'BloodPressure' and their 'BMI' less than the median of 'BMI'? (2 Marks)"
   ]
  },
  {
   "cell_type": "code",
   "execution_count": 4,
   "metadata": {
    "id": "wn118oGx_bwF"
   },
   "outputs": [
    {
     "ename": "NameError",
     "evalue": "name 'pima' is not defined",
     "output_type": "error",
     "traceback": [
      "\u001b[1;31m---------------------------------------------------------------------------\u001b[0m",
      "\u001b[1;31mNameError\u001b[0m                                 Traceback (most recent call last)",
      "\u001b[1;32m~\\AppData\\Local\\Temp\\ipykernel_20272\\3460868362.py\u001b[0m in \u001b[0;36m<module>\u001b[1;34m\u001b[0m\n\u001b[0;32m      1\u001b[0m \u001b[1;31m# Remove _____ & write the appropriate column name\u001b[0m\u001b[1;33m\u001b[0m\u001b[1;33m\u001b[0m\u001b[0m\n\u001b[0;32m      2\u001b[0m \u001b[1;33m\u001b[0m\u001b[0m\n\u001b[1;32m----> 3\u001b[1;33m \u001b[0mpima\u001b[0m\u001b[1;33m[\u001b[0m\u001b[1;33m(\u001b[0m\u001b[0mpima\u001b[0m\u001b[1;33m[\u001b[0m\u001b[1;34m'BloodPressure'\u001b[0m\u001b[1;33m]\u001b[0m \u001b[1;33m==\u001b[0m \u001b[0mpima\u001b[0m\u001b[1;33m[\u001b[0m\u001b[1;34m'BloodPressure'\u001b[0m\u001b[1;33m]\u001b[0m\u001b[1;33m.\u001b[0m\u001b[0mmedian\u001b[0m\u001b[1;33m(\u001b[0m\u001b[1;33m)\u001b[0m\u001b[1;33m)\u001b[0m \u001b[1;33m&\u001b[0m \u001b[1;33m(\u001b[0m\u001b[0mpima\u001b[0m\u001b[1;33m[\u001b[0m\u001b[1;34m'BMI'\u001b[0m\u001b[1;33m]\u001b[0m \u001b[1;33m<\u001b[0m \u001b[0mpima\u001b[0m\u001b[1;33m[\u001b[0m\u001b[1;34m'BMI'\u001b[0m\u001b[1;33m]\u001b[0m\u001b[1;33m.\u001b[0m\u001b[0mmedian\u001b[0m\u001b[1;33m(\u001b[0m\u001b[1;33m)\u001b[0m\u001b[1;33m)\u001b[0m\u001b[1;33m]\u001b[0m\u001b[1;33m\u001b[0m\u001b[1;33m\u001b[0m\u001b[0m\n\u001b[0m",
      "\u001b[1;31mNameError\u001b[0m: name 'pima' is not defined"
     ]
    }
   ],
   "source": [
    "# Remove _____ & write the appropriate column name\n",
    "\n",
    "pima[(pima['BloodPressure'] == pima['BloodPressure'].median()) & (pima['BMI'] < pima['BMI'].median())]"
   ]
  },
  {
   "cell_type": "markdown",
   "metadata": {
    "id": "KgU-UehX_bwF"
   },
   "source": [
    "#### Write your Answer here: \n"
   ]
  },
  {
   "cell_type": "raw",
   "metadata": {
    "id": "-b8kksU3_bwF"
   },
   "source": [
    "Ans 14: 22"
   ]
  },
  {
   "cell_type": "markdown",
   "metadata": {
    "id": "O8KX8Nva_bwF"
   },
   "source": [
    "## Q15. Create a pairplot for the variables 'Glucose', 'SkinThickness', and 'DiabetesPedigreeFunction'. Write your observations from the plot. (3 Marks)"
   ]
  },
  {
   "cell_type": "code",
   "execution_count": null,
   "metadata": {
    "id": "dDj12snn_bwG"
   },
   "outputs": [],
   "source": [
    "# Remove _____ & write the appropriate function name\n",
    "\n",
    "sns.pairplot(data = pima, vars = ['Glucose', 'SkinThickness', 'DiabetesPedigreeFunction'], hue = 'Outcome')\n",
    "plt.show()"
   ]
  },
  {
   "cell_type": "markdown",
   "metadata": {
    "id": "S7CMbCwL_bwG"
   },
   "source": [
    "#### Write your Answer here: \n"
   ]
  },
  {
   "cell_type": "raw",
   "metadata": {
    "id": "S2bPFIk9_bwG"
   },
   "source": [
    "Ans 15: We can observe here that there are 9 total graphs for Glucose, Skin Thickness and Diabetes Pedigree Function plotted against each other with each 3 being on both axes. Since there are 3 variables it creates a 3x3 plot and plots the pairwise relationships in the dataset. "
   ]
  },
  {
   "cell_type": "markdown",
   "metadata": {
    "id": "pTzCIQOb_bwG"
   },
   "source": [
    "## Q16. Plot the scatterplot between 'Glucose' and 'Insulin'. Write your observations from the plot. (4 Marks)"
   ]
  },
  {
   "cell_type": "code",
   "execution_count": 5,
   "metadata": {
    "id": "CNHLuzOD_bwG",
    "scrolled": false
   },
   "outputs": [
    {
     "ename": "NameError",
     "evalue": "name 'sns' is not defined",
     "output_type": "error",
     "traceback": [
      "\u001b[1;31m---------------------------------------------------------------------------\u001b[0m",
      "\u001b[1;31mNameError\u001b[0m                                 Traceback (most recent call last)",
      "\u001b[1;32m~\\AppData\\Local\\Temp\\ipykernel_20272\\1144794558.py\u001b[0m in \u001b[0;36m<module>\u001b[1;34m\u001b[0m\n\u001b[0;32m      1\u001b[0m \u001b[1;31m# Remove _____ & write the appropriate function name\u001b[0m\u001b[1;33m\u001b[0m\u001b[1;33m\u001b[0m\u001b[0m\n\u001b[0;32m      2\u001b[0m \u001b[1;33m\u001b[0m\u001b[0m\n\u001b[1;32m----> 3\u001b[1;33m \u001b[0msns\u001b[0m\u001b[1;33m.\u001b[0m\u001b[0mscatterplot\u001b[0m\u001b[1;33m(\u001b[0m\u001b[0mx\u001b[0m \u001b[1;33m=\u001b[0m \u001b[1;34m'Glucose'\u001b[0m\u001b[1;33m,\u001b[0m \u001b[0my\u001b[0m \u001b[1;33m=\u001b[0m \u001b[1;34m'Insulin'\u001b[0m\u001b[1;33m,\u001b[0m \u001b[0mdata\u001b[0m \u001b[1;33m=\u001b[0m \u001b[0mpima\u001b[0m\u001b[1;33m)\u001b[0m\u001b[1;33m\u001b[0m\u001b[1;33m\u001b[0m\u001b[0m\n\u001b[0m\u001b[0;32m      4\u001b[0m \u001b[0mplt\u001b[0m\u001b[1;33m.\u001b[0m\u001b[0mshow\u001b[0m\u001b[1;33m(\u001b[0m\u001b[1;33m)\u001b[0m\u001b[1;33m\u001b[0m\u001b[1;33m\u001b[0m\u001b[0m\n",
      "\u001b[1;31mNameError\u001b[0m: name 'sns' is not defined"
     ]
    }
   ],
   "source": [
    "# Remove _____ & write the appropriate function name\n",
    "\n",
    "sns.scatterplot(x = 'Glucose', y = 'Insulin', data = pima)\n",
    "plt.show()"
   ]
  },
  {
   "cell_type": "markdown",
   "metadata": {
    "id": "1AhKhAbf_bwG"
   },
   "source": [
    "#### Write your Answer here: \n"
   ]
  },
  {
   "cell_type": "raw",
   "metadata": {
    "id": "YScevRlr_bwG"
   },
   "source": [
    "Ans 16: This fucntion created a scatterplot with Glucose along the X-axis and Insulin along the Y-axis. It is worth noting that the majority patients, regardless of their Glucose seem to have a lower insulin. Additionally, there is almost a seemingly straight horizontal line on the graph at y = 79 because so many patients have that insulin level. "
   ]
  },
  {
   "cell_type": "markdown",
   "metadata": {
    "id": "NzGHKjXv_bwG"
   },
   "source": [
    "## Q 17. Plot the boxplot for the 'Age' variable. Are there outliers? (2 Marks)"
   ]
  },
  {
   "cell_type": "code",
   "execution_count": null,
   "metadata": {
    "id": "zmWjERJM_bwH"
   },
   "outputs": [],
   "source": [
    "# Remove _____ & write the appropriate function and column name \n",
    "\n",
    "plt.boxplot(pima['Age'])\n",
    "\n",
    "plt.title('Boxplot of Age')\n",
    "plt.ylabel('Age')\n",
    "plt.show()"
   ]
  },
  {
   "cell_type": "markdown",
   "metadata": {
    "id": "Vm5bRpLz_bwH"
   },
   "source": [
    "#### Write your Answer here: \n"
   ]
  },
  {
   "cell_type": "raw",
   "metadata": {
    "id": "ID7pFghO_bwH"
   },
   "source": [
    "Ans 17: Yes, there are outliers."
   ]
  },
  {
   "cell_type": "markdown",
   "metadata": {
    "id": "M6A_z8kr_bwH"
   },
   "source": [
    "## Q18. Plot histograms for the 'Age' variable to understand the number of women in different age groups given whether they have diabetes or not. Explain both histograms and compare them. (5 Marks)"
   ]
  },
  {
   "cell_type": "code",
   "execution_count": null,
   "metadata": {
    "id": "5DpqaiXH_bwH"
   },
   "outputs": [],
   "source": [
    "# Remove _____ & write the appropriate function and column name\n",
    "\n",
    "plt.hist(pima[pima['Outcome'] == 1]['Age'], bins = 5)\n",
    "plt.title('Distribution of Age for Women who has Diabetes')\n",
    "plt.xlabel('Age')\n",
    "plt.ylabel('Frequency')\n",
    "plt.show()"
   ]
  },
  {
   "cell_type": "code",
   "execution_count": null,
   "metadata": {
    "id": "ultPz45S_bwH"
   },
   "outputs": [],
   "source": [
    "# Remove _____ & write the appropriate function and column name\n",
    "\n",
    "plt.hist(pima[pima['Outcome'] == 0]['Age'], bins = 5)\n",
    "plt.title('Distribution of Age for Women who do not have Diabetes')\n",
    "plt.xlabel('Age')\n",
    "plt.ylabel('Frequency')\n",
    "plt.show()"
   ]
  },
  {
   "cell_type": "markdown",
   "metadata": {
    "id": "InfhuW8o_bwH"
   },
   "source": [
    "#### Write your Answer here: \n"
   ]
  },
  {
   "cell_type": "raw",
   "metadata": {
    "id": "D6iAgeF-_bwI"
   },
   "source": [
    "Ans 18:In terms of the first histogram for women that have diabetes, we can see that the frequency of diabetes is high for young women and then decreases subsequently as we increase the age group by 10 years. A similar phenomenon is observed for women without diabetes, except th initial frequency for the young women in the first age group is much higher and there is a much more significant drop off as we increase the age group by the inital 10 years. But in both cases, the frequency decreases steadily with age. "
   ]
  },
  {
   "cell_type": "markdown",
   "metadata": {
    "id": "EpTEjZ-q_bwI"
   },
   "source": [
    "## Q 19. What is the Interquartile Range of all the variables? Why is this used? Which plot visualizes the same? (5 Marks)"
   ]
  },
  {
   "cell_type": "code",
   "execution_count": null,
   "metadata": {
    "id": "JVOqHx1W_bwI"
   },
   "outputs": [],
   "source": [
    "# Remove _____ & write the appropriate variable name\n",
    "\n",
    "Q1 = pima.quantile(0.25)\n",
    "Q3 = pima.quantile(0.75)\n",
    "IQR = Q3 - Q1\n",
    "print(IQR)"
   ]
  },
  {
   "cell_type": "markdown",
   "metadata": {
    "id": "WWtc2nex_bwI"
   },
   "source": [
    "#### Write your Answer here: \n"
   ]
  },
  {
   "cell_type": "raw",
   "metadata": {
    "id": "2vLWPyd-_bwI"
   },
   "source": [
    "Ans 19: \n",
    "Pregnancies                  5.0000\n",
    "Glucose                     40.5000\n",
    "BloodPressure               16.0000\n",
    "SkinThickness               12.0000\n",
    "Insulin                     48.2500\n",
    "BMI                          9.1000\n",
    "DiabetesPedigreeFunction     0.3825\n",
    "Age                         17.0000\n",
    "Outcome                      1.0000\n",
    "dtype: float64\n",
    "\n",
    "The IQR represents the middle 50% of the data and is used to help understand where the important majority of data points lie and between which values. The boxplot visualizes the same. "
   ]
  },
  {
   "cell_type": "markdown",
   "metadata": {
    "id": "KjldKKMs_bwI"
   },
   "source": [
    "## Q 20. Find and visualize the correlation matrix. Write your observations from the plot. (3 Marks)"
   ]
  },
  {
   "cell_type": "code",
   "execution_count": null,
   "metadata": {
    "id": "dvBVRRM8_bwI"
   },
   "outputs": [],
   "source": [
    "# Remove _____ & write the appropriate function name and run the code\n",
    "\n",
    "corr_matrix = pima.iloc[ : ,0 : 8].corr()\n",
    "\n",
    "corr_matrix"
   ]
  },
  {
   "cell_type": "code",
   "execution_count": null,
   "metadata": {
    "id": "Ju8Gymxw_bwJ"
   },
   "outputs": [],
   "source": [
    "# Remove _____ & write the appropriate function name\n",
    "\n",
    "plt.figure(figsize = (8, 8))\n",
    "sns.heatmap(corr_matrix, annot = True)\n",
    "\n",
    "# Display the plot\n",
    "plt.show()"
   ]
  },
  {
   "cell_type": "markdown",
   "metadata": {
    "id": "Woaq6vqT_bwJ"
   },
   "source": [
    "#### Write your Answer here: \n"
   ]
  },
  {
   "cell_type": "raw",
   "metadata": {
    "id": "m3AKvSrM_bwJ"
   },
   "source": [
    "Ans 20: In this heat map that displays the correlation matrix, some notable observations are that there is a line of 1's going diagonally across the matrix, which we can expect seeing as though each variable will have a 100% correlation with itself. Some of the highest correlations are Pregnancies and Age, as well as BMI and Skin Thickness.The majority of these couples on the heat map do not have very high correlation. The highest correlation value we observe is 0.54. "
   ]
  }
 ],
 "metadata": {
  "colab": {
   "collapsed_sections": [
    "5_7DfrKa_bv_",
    "V5duvKqA_bv_",
    "oILSLGBL_bwA",
    "DyG29Cqz_bwA",
    "OqnMczju_bwB",
    "wHYJkmek_bwB",
    "CpcpowUT_bwC",
    "RmTpaojz_bwC",
    "-aYGSoyf_bwC",
    "3gO4yNoS_bwD",
    "tFmj2sAi_bwD",
    "H82v-Oiq_bwD",
    "JiUByWjP_bwE",
    "0xN_VJOl_bwE",
    "F381SOUJ_bwE",
    "zQgUfx28_bwE",
    "zNopQzBy_bwF",
    "TUFPGMGX_bwF",
    "KgU-UehX_bwF",
    "O8KX8Nva_bwF",
    "S7CMbCwL_bwG",
    "pTzCIQOb_bwG",
    "1AhKhAbf_bwG",
    "NzGHKjXv_bwG",
    "Vm5bRpLz_bwH",
    "M6A_z8kr_bwH",
    "InfhuW8o_bwH",
    "EpTEjZ-q_bwI",
    "WWtc2nex_bwI",
    "KjldKKMs_bwI",
    "Woaq6vqT_bwJ"
   ],
   "name": "MIT_FDS_Project_Diabetes_Analysis_Questions-1.ipynb",
   "provenance": []
  },
  "kernelspec": {
   "display_name": "Python 3 (ipykernel)",
   "language": "python",
   "name": "python3"
  },
  "language_info": {
   "codemirror_mode": {
    "name": "ipython",
    "version": 3
   },
   "file_extension": ".py",
   "mimetype": "text/x-python",
   "name": "python",
   "nbconvert_exporter": "python",
   "pygments_lexer": "ipython3",
   "version": "3.9.13"
  },
  "toc": {
   "base_numbering": 1,
   "nav_menu": {},
   "number_sections": true,
   "sideBar": true,
   "skip_h1_title": false,
   "title_cell": "Table of Contents",
   "title_sidebar": "Contents",
   "toc_cell": false,
   "toc_position": {},
   "toc_section_display": true,
   "toc_window_display": false
  },
  "varInspector": {
   "cols": {
    "lenName": 16,
    "lenType": 16,
    "lenVar": 40
   },
   "kernels_config": {
    "python": {
     "delete_cmd_postfix": "",
     "delete_cmd_prefix": "del ",
     "library": "var_list.py",
     "varRefreshCmd": "print(var_dic_list())"
    },
    "r": {
     "delete_cmd_postfix": ") ",
     "delete_cmd_prefix": "rm(",
     "library": "var_list.r",
     "varRefreshCmd": "cat(var_dic_list()) "
    }
   },
   "types_to_exclude": [
    "module",
    "function",
    "builtin_function_or_method",
    "instance",
    "_Feature"
   ],
   "window_display": false
  }
 },
 "nbformat": 4,
 "nbformat_minor": 1
}
